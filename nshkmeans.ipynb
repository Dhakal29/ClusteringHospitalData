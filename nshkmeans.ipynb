{
  "nbformat": 4,
  "nbformat_minor": 0,
  "metadata": {
    "kernelspec": {
      "display_name": "Python 3",
      "language": "python",
      "name": "python3"
    },
    "language_info": {
      "codemirror_mode": {
        "name": "ipython",
        "version": 3
      },
      "file_extension": ".py",
      "mimetype": "text/x-python",
      "name": "python",
      "nbconvert_exporter": "python",
      "pygments_lexer": "ipython3",
      "version": "3.6.8"
    },
    "colab": {
      "name": "nsh (1).ipynb",
      "provenance": [],
      "collapsed_sections": []
    }
  },
  "cells": [
    {
      "cell_type": "code",
      "metadata": {
        "id": "SEPkNYVeu0Rs",
        "colab_type": "code",
        "colab": {}
      },
      "source": [
        "import numpy as np\n",
        "import pandas as pd\n",
        "import researchpy as rp\n",
        "import seaborn as sns\n",
        "from sklearn.datasets import make_blobs \n",
        "import matplotlib.pyplot as plt\n",
        "from scipy import stats\n",
        "%matplotlib inline\n",
        "import warnings\n",
        "warnings.filterwarnings(\"ignore\")"
      ],
      "execution_count": 0,
      "outputs": []
    },
    {
      "cell_type": "code",
      "metadata": {
        "id": "LtFDzUUGu9Li",
        "colab_type": "code",
        "outputId": "c1895fea-8bd3-40a7-feb8-353fcb8dae11",
        "colab": {
          "base_uri": "https://localhost:8080/",
          "height": 245
        }
      },
      "source": [
        "pip install researchpy"
      ],
      "execution_count": 0,
      "outputs": [
        {
          "output_type": "stream",
          "text": [
            "Collecting researchpy\n",
            "  Downloading https://files.pythonhosted.org/packages/5c/c7/f3a7fd06fd9da99d46f159da91942106d1da32a4a6d08e453d5e7e8d81f2/researchpy-0.1.8-py3-none-any.whl\n",
            "Requirement already satisfied: scipy in /usr/local/lib/python3.6/dist-packages (from researchpy) (1.4.1)\n",
            "Requirement already satisfied: pandas in /usr/local/lib/python3.6/dist-packages (from researchpy) (0.25.3)\n",
            "Requirement already satisfied: numpy in /usr/local/lib/python3.6/dist-packages (from researchpy) (1.17.5)\n",
            "Requirement already satisfied: statsmodels in /usr/local/lib/python3.6/dist-packages (from researchpy) (0.10.2)\n",
            "Requirement already satisfied: python-dateutil>=2.6.1 in /usr/local/lib/python3.6/dist-packages (from pandas->researchpy) (2.6.1)\n",
            "Requirement already satisfied: pytz>=2017.2 in /usr/local/lib/python3.6/dist-packages (from pandas->researchpy) (2018.9)\n",
            "Requirement already satisfied: patsy>=0.4.0 in /usr/local/lib/python3.6/dist-packages (from statsmodels->researchpy) (0.5.1)\n",
            "Requirement already satisfied: six>=1.5 in /usr/local/lib/python3.6/dist-packages (from python-dateutil>=2.6.1->pandas->researchpy) (1.12.0)\n",
            "Installing collected packages: researchpy\n",
            "Successfully installed researchpy-0.1.8\n"
          ],
          "name": "stdout"
        }
      ]
    },
    {
      "cell_type": "code",
      "metadata": {
        "id": "zGWtwyrvu0SC",
        "colab_type": "code",
        "colab": {}
      },
      "source": [
        "nch = pd.read_csv(\"final.csv\")"
      ],
      "execution_count": 0,
      "outputs": []
    },
    {
      "cell_type": "code",
      "metadata": {
        "id": "NNItN7pWu0SV",
        "colab_type": "code",
        "outputId": "4a4ccdf8-28c4-4384-be08-d39694f8f8f3",
        "colab": {
          "base_uri": "https://localhost:8080/",
          "height": 34
        }
      },
      "source": [
        "print(nch.shape)"
      ],
      "execution_count": 175,
      "outputs": [
        {
          "output_type": "stream",
          "text": [
            "(22310, 4)\n"
          ],
          "name": "stdout"
        }
      ]
    },
    {
      "cell_type": "code",
      "metadata": {
        "scrolled": true,
        "id": "9CvjUU4Lu0Sq",
        "colab_type": "code",
        "outputId": "b8799bf1-0360-4084-aef2-cd48cb4e6747",
        "colab": {
          "base_uri": "https://localhost:8080/",
          "height": 34
        }
      },
      "source": [
        "print(nch.columns)"
      ],
      "execution_count": 176,
      "outputs": [
        {
          "output_type": "stream",
          "text": [
            "Index(['Age', 'Sex', 'District', 'Final Diagnosis'], dtype='object')\n"
          ],
          "name": "stdout"
        }
      ]
    },
    {
      "cell_type": "markdown",
      "metadata": {
        "id": "e6cFzvTVu0S4",
        "colab_type": "text"
      },
      "source": [
        ""
      ]
    },
    {
      "cell_type": "code",
      "metadata": {
        "id": "9eFkLAN0u0S8",
        "colab_type": "code",
        "outputId": "94a6a6ea-a81c-459f-9fe6-24c184ad0831",
        "colab": {
          "base_uri": "https://localhost:8080/",
          "height": 69
        }
      },
      "source": [
        "nch[\"Sex\"].value_counts()"
      ],
      "execution_count": 177,
      "outputs": [
        {
          "output_type": "execute_result",
          "data": {
            "text/plain": [
              "Female    12568\n",
              "Male       9742\n",
              "Name: Sex, dtype: int64"
            ]
          },
          "metadata": {
            "tags": []
          },
          "execution_count": 177
        }
      ]
    },
    {
      "cell_type": "code",
      "metadata": {
        "id": "T3t60phQu0TK",
        "colab_type": "code",
        "outputId": "d0b90a3d-4455-4df0-ce81-02916603dce4",
        "colab": {
          "base_uri": "https://localhost:8080/",
          "height": 225
        }
      },
      "source": [
        "nch[\"Age\"].value_counts()"
      ],
      "execution_count": 178,
      "outputs": [
        {
          "output_type": "execute_result",
          "data": {
            "text/plain": [
              "6-11 Month    707\n",
              "1             600\n",
              "2             546\n",
              "30            541\n",
              "25            536\n",
              "             ... \n",
              "91              7\n",
              "93              6\n",
              "98              3\n",
              "99              2\n",
              "105             1\n",
              "Name: Age, Length: 105, dtype: int64"
            ]
          },
          "metadata": {
            "tags": []
          },
          "execution_count": 178
        }
      ]
    },
    {
      "cell_type": "code",
      "metadata": {
        "scrolled": true,
        "id": "DaycCX1su0TV",
        "colab_type": "code",
        "outputId": "d74870aa-d057-4840-b481-1e7be4d650b8",
        "colab": {
          "base_uri": "https://localhost:8080/",
          "height": 225
        }
      },
      "source": [
        "nch = nch.rename(columns= {'District': 'Place'})\n",
        "nch[\"Place\"].value_counts()"
      ],
      "execution_count": 179,
      "outputs": [
        {
          "output_type": "execute_result",
          "data": {
            "text/plain": [
              "Chitwan        13642\n",
              "Nawalparasi     4472\n",
              "Makwanpur       1063\n",
              "Gorkha           758\n",
              "Tanahu           529\n",
              "               ...  \n",
              "Jajarkot           1\n",
              "Doti               1\n",
              "Dolakha            1\n",
              "Aachham            1\n",
              "Taplejung          1\n",
              "Name: Place, Length: 66, dtype: int64"
            ]
          },
          "metadata": {
            "tags": []
          },
          "execution_count": 179
        }
      ]
    },
    {
      "cell_type": "code",
      "metadata": {
        "id": "5GMzYaF4u0Ti",
        "colab_type": "code",
        "outputId": "5fc6eaca-ae88-451f-b0c5-49e15c70fde4",
        "colab": {
          "base_uri": "https://localhost:8080/",
          "height": 295
        }
      },
      "source": [
        "nch[\"Final Diagnosis\"].value_counts()"
      ],
      "execution_count": 180,
      "outputs": [
        {
          "output_type": "execute_result",
          "data": {
            "text/plain": [
              "MED               7867\n",
              "PED               4315\n",
              "SURGICAL          3113\n",
              "Gynaecology       2995\n",
              "ORTHO             1791\n",
              "ICU                912\n",
              "NICU               460\n",
              "PSY                292\n",
              "Cardiology         283\n",
              "Clinical           136\n",
              "CTVS                59\n",
              "Cardiology ICU      42\n",
              "CTVS-ICU            25\n",
              "NEURO               18\n",
              "Neuro                2\n",
              "Name: Final Diagnosis, dtype: int64"
            ]
          },
          "metadata": {
            "tags": []
          },
          "execution_count": 180
        }
      ]
    },
    {
      "cell_type": "code",
      "metadata": {
        "id": "CSsBicPWu0Tt",
        "colab_type": "code",
        "outputId": "50607690-0e46-4235-e962-3b2287a3b90f",
        "colab": {
          "base_uri": "https://localhost:8080/",
          "height": 34
        }
      },
      "source": [
        "nch.duplicated().any() #if any duplicated data"
      ],
      "execution_count": 181,
      "outputs": [
        {
          "output_type": "execute_result",
          "data": {
            "text/plain": [
              "True"
            ]
          },
          "metadata": {
            "tags": []
          },
          "execution_count": 181
        }
      ]
    },
    {
      "cell_type": "code",
      "metadata": {
        "id": "pW4CLLKru0T4",
        "colab_type": "code",
        "colab": {}
      },
      "source": [
        "nch.drop_duplicates(keep=False)\n",
        "nch.drop_duplicates(keep=False, inplace=True)"
      ],
      "execution_count": 0,
      "outputs": []
    },
    {
      "cell_type": "markdown",
      "metadata": {
        "id": "pNnTYtanfuc0",
        "colab_type": "text"
      },
      "source": [
        ""
      ]
    },
    {
      "cell_type": "code",
      "metadata": {
        "id": "gAQ2Z9Teu0UF",
        "colab_type": "code",
        "outputId": "720e545a-26f2-484c-cb04-bb8cb18f0d1f",
        "colab": {
          "base_uri": "https://localhost:8080/",
          "height": 175
        }
      },
      "source": [
        "nch.describe()"
      ],
      "execution_count": 183,
      "outputs": [
        {
          "output_type": "execute_result",
          "data": {
            "text/html": [
              "<div>\n",
              "<style scoped>\n",
              "    .dataframe tbody tr th:only-of-type {\n",
              "        vertical-align: middle;\n",
              "    }\n",
              "\n",
              "    .dataframe tbody tr th {\n",
              "        vertical-align: top;\n",
              "    }\n",
              "\n",
              "    .dataframe thead th {\n",
              "        text-align: right;\n",
              "    }\n",
              "</style>\n",
              "<table border=\"1\" class=\"dataframe\">\n",
              "  <thead>\n",
              "    <tr style=\"text-align: right;\">\n",
              "      <th></th>\n",
              "      <th>Age</th>\n",
              "      <th>Sex</th>\n",
              "      <th>Place</th>\n",
              "      <th>Final Diagnosis</th>\n",
              "    </tr>\n",
              "  </thead>\n",
              "  <tbody>\n",
              "    <tr>\n",
              "      <th>count</th>\n",
              "      <td>2473</td>\n",
              "      <td>2473</td>\n",
              "      <td>2473</td>\n",
              "      <td>2473</td>\n",
              "    </tr>\n",
              "    <tr>\n",
              "      <th>unique</th>\n",
              "      <td>104</td>\n",
              "      <td>2</td>\n",
              "      <td>66</td>\n",
              "      <td>15</td>\n",
              "    </tr>\n",
              "    <tr>\n",
              "      <th>top</th>\n",
              "      <td>35</td>\n",
              "      <td>Female</td>\n",
              "      <td>Chitwan</td>\n",
              "      <td>SURGICAL</td>\n",
              "    </tr>\n",
              "    <tr>\n",
              "      <th>freq</th>\n",
              "      <td>57</td>\n",
              "      <td>1346</td>\n",
              "      <td>317</td>\n",
              "      <td>510</td>\n",
              "    </tr>\n",
              "  </tbody>\n",
              "</table>\n",
              "</div>"
            ],
            "text/plain": [
              "         Age     Sex    Place Final Diagnosis\n",
              "count   2473    2473     2473            2473\n",
              "unique   104       2       66              15\n",
              "top       35  Female  Chitwan        SURGICAL\n",
              "freq      57    1346      317             510"
            ]
          },
          "metadata": {
            "tags": []
          },
          "execution_count": 183
        }
      ]
    },
    {
      "cell_type": "code",
      "metadata": {
        "id": "_VSnNjh7u0US",
        "colab_type": "code",
        "outputId": "4d642a79-034a-4036-d1f4-e021812b4cde",
        "colab": {
          "base_uri": "https://localhost:8080/",
          "height": 614
        }
      },
      "source": [
        "nch.head(18)"
      ],
      "execution_count": 184,
      "outputs": [
        {
          "output_type": "execute_result",
          "data": {
            "text/html": [
              "<div>\n",
              "<style scoped>\n",
              "    .dataframe tbody tr th:only-of-type {\n",
              "        vertical-align: middle;\n",
              "    }\n",
              "\n",
              "    .dataframe tbody tr th {\n",
              "        vertical-align: top;\n",
              "    }\n",
              "\n",
              "    .dataframe thead th {\n",
              "        text-align: right;\n",
              "    }\n",
              "</style>\n",
              "<table border=\"1\" class=\"dataframe\">\n",
              "  <thead>\n",
              "    <tr style=\"text-align: right;\">\n",
              "      <th></th>\n",
              "      <th>Age</th>\n",
              "      <th>Sex</th>\n",
              "      <th>Place</th>\n",
              "      <th>Final Diagnosis</th>\n",
              "    </tr>\n",
              "  </thead>\n",
              "  <tbody>\n",
              "    <tr>\n",
              "      <th>28</th>\n",
              "      <td>77</td>\n",
              "      <td>Female</td>\n",
              "      <td>Chitwan</td>\n",
              "      <td>Gynaecology</td>\n",
              "    </tr>\n",
              "    <tr>\n",
              "      <th>29</th>\n",
              "      <td>31</td>\n",
              "      <td>Female</td>\n",
              "      <td>Rupandehi</td>\n",
              "      <td>Gynaecology</td>\n",
              "    </tr>\n",
              "    <tr>\n",
              "      <th>37</th>\n",
              "      <td>30</td>\n",
              "      <td>Female</td>\n",
              "      <td>Kailali</td>\n",
              "      <td>Gynaecology</td>\n",
              "    </tr>\n",
              "    <tr>\n",
              "      <th>72</th>\n",
              "      <td>22</td>\n",
              "      <td>Female</td>\n",
              "      <td>Surkhet</td>\n",
              "      <td>Gynaecology</td>\n",
              "    </tr>\n",
              "    <tr>\n",
              "      <th>80</th>\n",
              "      <td>27</td>\n",
              "      <td>Female</td>\n",
              "      <td>Rautahat</td>\n",
              "      <td>Gynaecology</td>\n",
              "    </tr>\n",
              "    <tr>\n",
              "      <th>121</th>\n",
              "      <td>45</td>\n",
              "      <td>Female</td>\n",
              "      <td>Gorkha</td>\n",
              "      <td>Gynaecology</td>\n",
              "    </tr>\n",
              "    <tr>\n",
              "      <th>123</th>\n",
              "      <td>66</td>\n",
              "      <td>Female</td>\n",
              "      <td>Nawalparasi</td>\n",
              "      <td>Gynaecology</td>\n",
              "    </tr>\n",
              "    <tr>\n",
              "      <th>124</th>\n",
              "      <td>73</td>\n",
              "      <td>Female</td>\n",
              "      <td>Nawalparasi</td>\n",
              "      <td>Gynaecology</td>\n",
              "    </tr>\n",
              "    <tr>\n",
              "      <th>150</th>\n",
              "      <td>48</td>\n",
              "      <td>Female</td>\n",
              "      <td>Baglung</td>\n",
              "      <td>Gynaecology</td>\n",
              "    </tr>\n",
              "    <tr>\n",
              "      <th>160</th>\n",
              "      <td>49</td>\n",
              "      <td>Female</td>\n",
              "      <td>Kapilvastu</td>\n",
              "      <td>Gynaecology</td>\n",
              "    </tr>\n",
              "    <tr>\n",
              "      <th>181</th>\n",
              "      <td>21</td>\n",
              "      <td>Female</td>\n",
              "      <td>Rupandehi</td>\n",
              "      <td>Gynaecology</td>\n",
              "    </tr>\n",
              "    <tr>\n",
              "      <th>188</th>\n",
              "      <td>51</td>\n",
              "      <td>Female</td>\n",
              "      <td>Makwanpur</td>\n",
              "      <td>Gynaecology</td>\n",
              "    </tr>\n",
              "    <tr>\n",
              "      <th>191</th>\n",
              "      <td>52</td>\n",
              "      <td>Female</td>\n",
              "      <td>Dhading</td>\n",
              "      <td>Gynaecology</td>\n",
              "    </tr>\n",
              "    <tr>\n",
              "      <th>194</th>\n",
              "      <td>22</td>\n",
              "      <td>Female</td>\n",
              "      <td>Dhading</td>\n",
              "      <td>Gynaecology</td>\n",
              "    </tr>\n",
              "    <tr>\n",
              "      <th>200</th>\n",
              "      <td>13</td>\n",
              "      <td>Female</td>\n",
              "      <td>Chitwan</td>\n",
              "      <td>Gynaecology</td>\n",
              "    </tr>\n",
              "    <tr>\n",
              "      <th>209</th>\n",
              "      <td>35</td>\n",
              "      <td>Female</td>\n",
              "      <td>Dhading</td>\n",
              "      <td>Gynaecology</td>\n",
              "    </tr>\n",
              "    <tr>\n",
              "      <th>216</th>\n",
              "      <td>34</td>\n",
              "      <td>Female</td>\n",
              "      <td>Tanahu</td>\n",
              "      <td>Gynaecology</td>\n",
              "    </tr>\n",
              "    <tr>\n",
              "      <th>219</th>\n",
              "      <td>19</td>\n",
              "      <td>Female</td>\n",
              "      <td>Parsa</td>\n",
              "      <td>Gynaecology</td>\n",
              "    </tr>\n",
              "  </tbody>\n",
              "</table>\n",
              "</div>"
            ],
            "text/plain": [
              "    Age     Sex        Place Final Diagnosis\n",
              "28   77  Female      Chitwan     Gynaecology\n",
              "29   31  Female    Rupandehi     Gynaecology\n",
              "37   30  Female      Kailali     Gynaecology\n",
              "72   22  Female      Surkhet     Gynaecology\n",
              "80   27  Female     Rautahat     Gynaecology\n",
              "121  45  Female       Gorkha     Gynaecology\n",
              "123  66  Female  Nawalparasi     Gynaecology\n",
              "124  73  Female  Nawalparasi     Gynaecology\n",
              "150  48  Female      Baglung     Gynaecology\n",
              "160  49  Female   Kapilvastu     Gynaecology\n",
              "181  21  Female    Rupandehi     Gynaecology\n",
              "188  51  Female    Makwanpur     Gynaecology\n",
              "191  52  Female      Dhading     Gynaecology\n",
              "194  22  Female      Dhading     Gynaecology\n",
              "200  13  Female      Chitwan     Gynaecology\n",
              "209  35  Female      Dhading     Gynaecology\n",
              "216  34  Female       Tanahu     Gynaecology\n",
              "219  19  Female        Parsa     Gynaecology"
            ]
          },
          "metadata": {
            "tags": []
          },
          "execution_count": 184
        }
      ]
    },
    {
      "cell_type": "code",
      "metadata": {
        "id": "GGkmuTDcu0Ud",
        "colab_type": "code",
        "outputId": "f4052abc-4932-4b01-da51-feb7eedd9928",
        "colab": {
          "base_uri": "https://localhost:8080/",
          "height": 104
        }
      },
      "source": [
        "nch.isna().sum()       #checked missing values"
      ],
      "execution_count": 185,
      "outputs": [
        {
          "output_type": "execute_result",
          "data": {
            "text/plain": [
              "Age                0\n",
              "Sex                0\n",
              "Place              0\n",
              "Final Diagnosis    0\n",
              "dtype: int64"
            ]
          },
          "metadata": {
            "tags": []
          },
          "execution_count": 185
        }
      ]
    },
    {
      "cell_type": "code",
      "metadata": {
        "id": "biXHpuX9u0Ul",
        "colab_type": "code",
        "colab": {}
      },
      "source": [
        "nch.replace('Neuro','NEURO',inplace=True)"
      ],
      "execution_count": 0,
      "outputs": []
    },
    {
      "cell_type": "code",
      "metadata": {
        "id": "JEhujziBu0Uv",
        "colab_type": "code",
        "outputId": "a72c17c0-47b7-4a31-d7ab-a6555dc80995",
        "colab": {
          "base_uri": "https://localhost:8080/",
          "height": 278
        }
      },
      "source": [
        "nch[\"Final Diagnosis\"].value_counts()"
      ],
      "execution_count": 187,
      "outputs": [
        {
          "output_type": "execute_result",
          "data": {
            "text/plain": [
              "SURGICAL          510\n",
              "MED               508\n",
              "ORTHO             328\n",
              "ICU               297\n",
              "Gynaecology       210\n",
              "PED               147\n",
              "Cardiology        133\n",
              "PSY               106\n",
              "Clinical           58\n",
              "NICU               52\n",
              "CTVS               49\n",
              "Cardiology ICU     34\n",
              "CTVS-ICU           23\n",
              "NEURO              18\n",
              "Name: Final Diagnosis, dtype: int64"
            ]
          },
          "metadata": {
            "tags": []
          },
          "execution_count": 187
        }
      ]
    },
    {
      "cell_type": "code",
      "metadata": {
        "id": "JqtxGzKEu0U5",
        "colab_type": "code",
        "outputId": "ab4c70ae-aa4b-42d4-b8b3-82702d63cfa3",
        "colab": {
          "base_uri": "https://localhost:8080/",
          "height": 363
        }
      },
      "source": [
        "nch.sample(10)"
      ],
      "execution_count": 188,
      "outputs": [
        {
          "output_type": "execute_result",
          "data": {
            "text/html": [
              "<div>\n",
              "<style scoped>\n",
              "    .dataframe tbody tr th:only-of-type {\n",
              "        vertical-align: middle;\n",
              "    }\n",
              "\n",
              "    .dataframe tbody tr th {\n",
              "        vertical-align: top;\n",
              "    }\n",
              "\n",
              "    .dataframe thead th {\n",
              "        text-align: right;\n",
              "    }\n",
              "</style>\n",
              "<table border=\"1\" class=\"dataframe\">\n",
              "  <thead>\n",
              "    <tr style=\"text-align: right;\">\n",
              "      <th></th>\n",
              "      <th>Age</th>\n",
              "      <th>Sex</th>\n",
              "      <th>Place</th>\n",
              "      <th>Final Diagnosis</th>\n",
              "    </tr>\n",
              "  </thead>\n",
              "  <tbody>\n",
              "    <tr>\n",
              "      <th>10068</th>\n",
              "      <td>65</td>\n",
              "      <td>Female</td>\n",
              "      <td>Siraha</td>\n",
              "      <td>MED</td>\n",
              "    </tr>\n",
              "    <tr>\n",
              "      <th>3046</th>\n",
              "      <td>64</td>\n",
              "      <td>Female</td>\n",
              "      <td>Chitwan</td>\n",
              "      <td>Cardiology</td>\n",
              "    </tr>\n",
              "    <tr>\n",
              "      <th>4242</th>\n",
              "      <td>74</td>\n",
              "      <td>Female</td>\n",
              "      <td>Lamjung</td>\n",
              "      <td>MED</td>\n",
              "    </tr>\n",
              "    <tr>\n",
              "      <th>3372</th>\n",
              "      <td>45</td>\n",
              "      <td>Female</td>\n",
              "      <td>Nawalparasi</td>\n",
              "      <td>CTVS</td>\n",
              "    </tr>\n",
              "    <tr>\n",
              "      <th>18786</th>\n",
              "      <td>23</td>\n",
              "      <td>Male</td>\n",
              "      <td>Chitwan</td>\n",
              "      <td>PSY</td>\n",
              "    </tr>\n",
              "    <tr>\n",
              "      <th>12228</th>\n",
              "      <td>73</td>\n",
              "      <td>Male</td>\n",
              "      <td>Syangja</td>\n",
              "      <td>ORTHO</td>\n",
              "    </tr>\n",
              "    <tr>\n",
              "      <th>20020</th>\n",
              "      <td>46</td>\n",
              "      <td>Female</td>\n",
              "      <td>Rautahat</td>\n",
              "      <td>SURGICAL</td>\n",
              "    </tr>\n",
              "    <tr>\n",
              "      <th>2785</th>\n",
              "      <td>43</td>\n",
              "      <td>Female</td>\n",
              "      <td>Lamjung</td>\n",
              "      <td>Gynaecology</td>\n",
              "    </tr>\n",
              "    <tr>\n",
              "      <th>6661</th>\n",
              "      <td>67</td>\n",
              "      <td>Male</td>\n",
              "      <td>Sarlahi</td>\n",
              "      <td>MED</td>\n",
              "    </tr>\n",
              "    <tr>\n",
              "      <th>18859</th>\n",
              "      <td>33</td>\n",
              "      <td>Female</td>\n",
              "      <td>Bara</td>\n",
              "      <td>PSY</td>\n",
              "    </tr>\n",
              "  </tbody>\n",
              "</table>\n",
              "</div>"
            ],
            "text/plain": [
              "      Age     Sex        Place Final Diagnosis\n",
              "10068  65  Female       Siraha             MED\n",
              "3046   64  Female      Chitwan      Cardiology\n",
              "4242   74  Female      Lamjung             MED\n",
              "3372   45  Female  Nawalparasi            CTVS\n",
              "18786  23    Male      Chitwan             PSY\n",
              "12228  73    Male      Syangja           ORTHO\n",
              "20020  46  Female     Rautahat        SURGICAL\n",
              "2785   43  Female      Lamjung     Gynaecology\n",
              "6661   67    Male      Sarlahi             MED\n",
              "18859  33  Female         Bara             PSY"
            ]
          },
          "metadata": {
            "tags": []
          },
          "execution_count": 188
        }
      ]
    },
    {
      "cell_type": "code",
      "metadata": {
        "id": "av8tiFkyu0VB",
        "colab_type": "code",
        "outputId": "555f7415-359e-4a48-94ce-ddf30c976f59",
        "colab": {
          "base_uri": "https://localhost:8080/",
          "height": 225
        }
      },
      "source": [
        "nch[\"Place\"].value_counts()"
      ],
      "execution_count": 189,
      "outputs": [
        {
          "output_type": "execute_result",
          "data": {
            "text/plain": [
              "Chitwan        317\n",
              "Nawalparasi    282\n",
              "Gorkha         213\n",
              "Makwanpur      202\n",
              "Tanahu         199\n",
              "              ... \n",
              "Bajura           1\n",
              "Jajarkot         1\n",
              "Mugu             1\n",
              "Doti             1\n",
              "Aachham          1\n",
              "Name: Place, Length: 66, dtype: int64"
            ]
          },
          "metadata": {
            "tags": []
          },
          "execution_count": 189
        }
      ]
    },
    {
      "cell_type": "code",
      "metadata": {
        "id": "PbNVFaLxu0VK",
        "colab_type": "code",
        "colab": {}
      },
      "source": [
        "nch.replace('Chitwan','Chitwan & Parsa',inplace=True)\n",
        "nch.replace('Parsa','Chitwan & Parsa',inplace=True)"
      ],
      "execution_count": 0,
      "outputs": []
    },
    {
      "cell_type": "code",
      "metadata": {
        "id": "fWymvb9Pu0VS",
        "colab_type": "code",
        "outputId": "cde0a734-10d6-4b78-a4f1-2b43fce08e7f",
        "colab": {
          "base_uri": "https://localhost:8080/",
          "height": 225
        }
      },
      "source": [
        "nch[\"Age\"].value_counts()"
      ],
      "execution_count": 191,
      "outputs": [
        {
          "output_type": "execute_result",
          "data": {
            "text/plain": [
              "35     57\n",
              "45     53\n",
              "55     46\n",
              "50     45\n",
              "40     45\n",
              "       ..\n",
              "89      3\n",
              "97      2\n",
              "93      2\n",
              "105     1\n",
              "98      1\n",
              "Name: Age, Length: 104, dtype: int64"
            ]
          },
          "metadata": {
            "tags": []
          },
          "execution_count": 191
        }
      ]
    },
    {
      "cell_type": "code",
      "metadata": {
        "id": "mbgTvATgu0Ve",
        "colab_type": "code",
        "colab": {}
      },
      "source": [
        "nch.replace('Less than a day','0.0027',inplace=True)\n",
        "nch.replace('1-3 months','0.33',inplace=True)\n",
        "nch.replace('6-11 Month','0.91',inplace=True)\n",
        "nch.replace('4-6 months','0.5',inplace=True)"
      ],
      "execution_count": 0,
      "outputs": []
    },
    {
      "cell_type": "code",
      "metadata": {
        "id": "Mu8SUq-0u0Vm",
        "colab_type": "code",
        "outputId": "9020e0a6-6ce0-432d-e58b-4d318f07a722",
        "colab": {
          "base_uri": "https://localhost:8080/",
          "height": 225
        }
      },
      "source": [
        "nch[\"Age\"].value_counts()"
      ],
      "execution_count": 193,
      "outputs": [
        {
          "output_type": "execute_result",
          "data": {
            "text/plain": [
              "35     57\n",
              "45     53\n",
              "55     46\n",
              "40     45\n",
              "50     45\n",
              "       ..\n",
              "89      3\n",
              "93      2\n",
              "97      2\n",
              "105     1\n",
              "98      1\n",
              "Name: Age, Length: 104, dtype: int64"
            ]
          },
          "metadata": {
            "tags": []
          },
          "execution_count": 193
        }
      ]
    },
    {
      "cell_type": "code",
      "metadata": {
        "scrolled": true,
        "id": "oS7Ki3ilu0Vx",
        "colab_type": "code",
        "outputId": "91ca3552-a9d5-40c8-e88b-40438741529d",
        "colab": {
          "base_uri": "https://localhost:8080/",
          "height": 225
        }
      },
      "source": [
        "nch[\"Place\"].value_counts()"
      ],
      "execution_count": 194,
      "outputs": [
        {
          "output_type": "execute_result",
          "data": {
            "text/plain": [
              "Chitwan & Parsa    343\n",
              "Nawalparasi        282\n",
              "Gorkha             213\n",
              "Makwanpur          202\n",
              "Tanahu             199\n",
              "                  ... \n",
              "Jajarkot             1\n",
              "Dhankuta             1\n",
              "Maygdi               1\n",
              "Doti                 1\n",
              "Bajura               1\n",
              "Name: Place, Length: 65, dtype: int64"
            ]
          },
          "metadata": {
            "tags": []
          },
          "execution_count": 194
        }
      ]
    },
    {
      "cell_type": "markdown",
      "metadata": {
        "id": "5YqT04zXu0V6",
        "colab_type": "text"
      },
      "source": [
        "# merging districts with less number to a zone"
      ]
    },
    {
      "cell_type": "code",
      "metadata": {
        "id": "e_7y1nBru0V8",
        "colab_type": "code",
        "colab": {}
      },
      "source": [
        "nch.replace(['Ilam','Jhapa','Taplejung','Panchthhar'],'Mechi',inplace=True)"
      ],
      "execution_count": 0,
      "outputs": []
    },
    {
      "cell_type": "code",
      "metadata": {
        "id": "hn6RTAmyu0WE",
        "colab_type": "code",
        "colab": {}
      },
      "source": [
        "nch.replace(['Sankhuwashava','Sankhuwashava','Dhankuta','Bhojpur','Sunsari','Morang'],'Koshi',inplace=True)"
      ],
      "execution_count": 0,
      "outputs": []
    },
    {
      "cell_type": "code",
      "metadata": {
        "id": "WCDQXmM1u0WK",
        "colab_type": "code",
        "colab": {}
      },
      "source": [
        "nch.replace(['Saptari','Siraha','Khotang','Udayapur'],'Sagarmatha',inplace=True)"
      ],
      "execution_count": 0,
      "outputs": []
    },
    {
      "cell_type": "code",
      "metadata": {
        "id": "vKsQi-5eu0WP",
        "colab_type": "code",
        "colab": {}
      },
      "source": [
        "nch.replace(['Dhanusa','Sindhuli'],'Janakpur',inplace=True)"
      ],
      "execution_count": 0,
      "outputs": []
    },
    {
      "cell_type": "code",
      "metadata": {
        "id": "xxKvEt70u0WV",
        "colab_type": "code",
        "colab": {}
      },
      "source": [
        "nch.replace(['Mahottari','Sarlahi','Dolakha','Ramechhap'],'Janakpur',inplace=True)"
      ],
      "execution_count": 0,
      "outputs": []
    },
    {
      "cell_type": "code",
      "metadata": {
        "id": "sh5_tLqOu0Wc",
        "colab_type": "code",
        "outputId": "93f6facf-9468-4ed8-a910-d700ec971478",
        "colab": {
          "base_uri": "https://localhost:8080/",
          "height": 937
        }
      },
      "source": [
        "nch[\"Place\"].value_counts()"
      ],
      "execution_count": 200,
      "outputs": [
        {
          "output_type": "execute_result",
          "data": {
            "text/plain": [
              "Chitwan & Parsa    343\n",
              "Nawalparasi        282\n",
              "Gorkha             213\n",
              "Makwanpur          202\n",
              "Tanahu             199\n",
              "Lamjung            185\n",
              "Janakpur           165\n",
              "Bara               127\n",
              "Rautahat            93\n",
              "Rupandehi           70\n",
              "Dang                66\n",
              "Dhading             58\n",
              "Baglung             48\n",
              "Kaski               44\n",
              "Gulmi               37\n",
              "Syangja             34\n",
              "Palpa               32\n",
              "Sagarmatha          25\n",
              "Bardiya             24\n",
              "Kapilvastu          22\n",
              "Koshi               20\n",
              "Mechi               18\n",
              "Banke               17\n",
              "Kathmandu           16\n",
              " Arghakhanchi       12\n",
              "Parbat              12\n",
              "Rolpa               10\n",
              "Myagdi              10\n",
              "Kanchanpur           8\n",
              "Kailali              8\n",
              "Rukum                8\n",
              "Surkhet              7\n",
              "Jumla                7\n",
              "India                7\n",
              "Pyuthan              6\n",
              "Simara               5\n",
              "Sindhupalchowk       4\n",
              "Kalikot              4\n",
              "Dailekh              4\n",
              "Dhangadi             3\n",
              "Other country        2\n",
              "Salyan               2\n",
              "Nuwakot              2\n",
              "Manang               2\n",
              "Other Country        2\n",
              "Sankhuwashava        2\n",
              "Mugu                 1\n",
              "Bajura               1\n",
              "Maygdi               1\n",
              "Jajarkot             1\n",
              "Doti                 1\n",
              "Aachham              1\n",
              "Name: Place, dtype: int64"
            ]
          },
          "metadata": {
            "tags": []
          },
          "execution_count": 200
        }
      ]
    },
    {
      "cell_type": "code",
      "metadata": {
        "id": "XAUZ0aCXu0Wl",
        "colab_type": "code",
        "colab": {}
      },
      "source": [
        "nch.replace(['Mahottari','Sarlahi','Dolakha','Simara'],'Janakpur',inplace=True)"
      ],
      "execution_count": 0,
      "outputs": []
    },
    {
      "cell_type": "code",
      "metadata": {
        "id": "2zH2EEzKu0Ws",
        "colab_type": "code",
        "colab": {}
      },
      "source": [
        "nch.replace(['Sindhupalchowk','Dhading','Nuwakot','Rasuwa','Bhaktapur','Kathmandu'],'Bagmati',inplace=True)"
      ],
      "execution_count": 0,
      "outputs": []
    },
    {
      "cell_type": "code",
      "metadata": {
        "id": "XLJ7bNDeu0Ww",
        "colab_type": "code",
        "colab": {}
      },
      "source": [
        "nch.replace(['Parbat','Myagdi','Baglung','Maygdi'],'Dhaulagiri',inplace=True)\n",
        "nch.replace(['Lamjung','Manang','Syangja','Tanahu','Kaski','Gorkha'],'Gandaki',inplace=True)\n",
        "nch.replace(['Dailekh','Jajarkot','Surkhet','Bardiya','Banke'],'Bheri',inplace=True)\n",
        "nch.replace(['Kalikot','Mugu','Jumla','Humla','Dolpa'],'Karnali',inplace=True)\n",
        "nch.replace(['Rolpa','Rukum','Salyan','Pyuthan','Dang'],'Rapti',inplace=True)\n",
        "nch.replace(['Darchula','Kanchanpur','Dadeldhura','Baitadi'],'Mahakali',inplace=True)\n",
        "nch.replace(['Bajura','Doti','Kailali','Bajhang','Achham','Aachham','Dhangadi'],'Seti',inplace=True)"
      ],
      "execution_count": 0,
      "outputs": []
    },
    {
      "cell_type": "code",
      "metadata": {
        "id": "xYD-Snx9u0W4",
        "colab_type": "code",
        "outputId": "f8474e2e-17bd-4028-f7a9-d94a3a7fa7c6",
        "colab": {
          "base_uri": "https://localhost:8080/",
          "height": 503
        }
      },
      "source": [
        "nch[\"Place\"].value_counts()"
      ],
      "execution_count": 204,
      "outputs": [
        {
          "output_type": "execute_result",
          "data": {
            "text/plain": [
              "Gandaki            677\n",
              "Chitwan & Parsa    343\n",
              "Nawalparasi        282\n",
              "Makwanpur          202\n",
              "Janakpur           170\n",
              "Bara               127\n",
              "Rautahat            93\n",
              "Rapti               92\n",
              "Bagmati             76\n",
              "Dhaulagiri          71\n",
              "Rupandehi           70\n",
              "Bheri               53\n",
              "Gulmi               37\n",
              "Palpa               32\n",
              "Sagarmatha          25\n",
              "Kapilvastu          22\n",
              "Koshi               20\n",
              "Mechi               18\n",
              "Seti                14\n",
              " Arghakhanchi       12\n",
              "Karnali             12\n",
              "Mahakali             8\n",
              "India                7\n",
              "Sindhupalchowk       4\n",
              "Sankhuwashava        2\n",
              "Other Country        2\n",
              "Other country        2\n",
              "Name: Place, dtype: int64"
            ]
          },
          "metadata": {
            "tags": []
          },
          "execution_count": 204
        }
      ]
    },
    {
      "cell_type": "code",
      "metadata": {
        "id": "uj8FHuAcu0W9",
        "colab_type": "code",
        "colab": {}
      },
      "source": [
        "nch.replace(['Other Country','Other country','India'],'Outside country',inplace=True)"
      ],
      "execution_count": 0,
      "outputs": []
    },
    {
      "cell_type": "code",
      "metadata": {
        "id": "4QKho0Vfu0XD",
        "colab_type": "code",
        "outputId": "ab09f85a-3f9d-4f9d-ef82-810474b72526",
        "colab": {
          "base_uri": "https://localhost:8080/",
          "height": 469
        }
      },
      "source": [
        "nch[\"Place\"].value_counts()"
      ],
      "execution_count": 206,
      "outputs": [
        {
          "output_type": "execute_result",
          "data": {
            "text/plain": [
              "Gandaki            677\n",
              "Chitwan & Parsa    343\n",
              "Nawalparasi        282\n",
              "Makwanpur          202\n",
              "Janakpur           170\n",
              "Bara               127\n",
              "Rautahat            93\n",
              "Rapti               92\n",
              "Bagmati             76\n",
              "Dhaulagiri          71\n",
              "Rupandehi           70\n",
              "Bheri               53\n",
              "Gulmi               37\n",
              "Palpa               32\n",
              "Sagarmatha          25\n",
              "Kapilvastu          22\n",
              "Koshi               20\n",
              "Mechi               18\n",
              "Seti                14\n",
              "Karnali             12\n",
              " Arghakhanchi       12\n",
              "Outside country     11\n",
              "Mahakali             8\n",
              "Sindhupalchowk       4\n",
              "Sankhuwashava        2\n",
              "Name: Place, dtype: int64"
            ]
          },
          "metadata": {
            "tags": []
          },
          "execution_count": 206
        }
      ]
    },
    {
      "cell_type": "code",
      "metadata": {
        "scrolled": true,
        "id": "gsplRHwku0XJ",
        "colab_type": "code",
        "outputId": "ea54d492-df8f-4788-e56d-3771b2c602b7",
        "colab": {
          "base_uri": "https://localhost:8080/",
          "height": 1000
        }
      },
      "source": [
        "nch[nch[\"Place\"] == 'Gulmi']"
      ],
      "execution_count": 207,
      "outputs": [
        {
          "output_type": "execute_result",
          "data": {
            "text/html": [
              "<div>\n",
              "<style scoped>\n",
              "    .dataframe tbody tr th:only-of-type {\n",
              "        vertical-align: middle;\n",
              "    }\n",
              "\n",
              "    .dataframe tbody tr th {\n",
              "        vertical-align: top;\n",
              "    }\n",
              "\n",
              "    .dataframe thead th {\n",
              "        text-align: right;\n",
              "    }\n",
              "</style>\n",
              "<table border=\"1\" class=\"dataframe\">\n",
              "  <thead>\n",
              "    <tr style=\"text-align: right;\">\n",
              "      <th></th>\n",
              "      <th>Age</th>\n",
              "      <th>Sex</th>\n",
              "      <th>Place</th>\n",
              "      <th>Final Diagnosis</th>\n",
              "    </tr>\n",
              "  </thead>\n",
              "  <tbody>\n",
              "    <tr>\n",
              "      <th>577</th>\n",
              "      <td>40</td>\n",
              "      <td>Female</td>\n",
              "      <td>Gulmi</td>\n",
              "      <td>Gynaecology</td>\n",
              "    </tr>\n",
              "    <tr>\n",
              "      <th>1217</th>\n",
              "      <td>28</td>\n",
              "      <td>Female</td>\n",
              "      <td>Gulmi</td>\n",
              "      <td>Gynaecology</td>\n",
              "    </tr>\n",
              "    <tr>\n",
              "      <th>2674</th>\n",
              "      <td>24</td>\n",
              "      <td>Female</td>\n",
              "      <td>Gulmi</td>\n",
              "      <td>Gynaecology</td>\n",
              "    </tr>\n",
              "    <tr>\n",
              "      <th>3317</th>\n",
              "      <td>76</td>\n",
              "      <td>Male</td>\n",
              "      <td>Gulmi</td>\n",
              "      <td>Cardiology</td>\n",
              "    </tr>\n",
              "    <tr>\n",
              "      <th>4104</th>\n",
              "      <td>47</td>\n",
              "      <td>Male</td>\n",
              "      <td>Gulmi</td>\n",
              "      <td>MED</td>\n",
              "    </tr>\n",
              "    <tr>\n",
              "      <th>4223</th>\n",
              "      <td>78</td>\n",
              "      <td>Male</td>\n",
              "      <td>Gulmi</td>\n",
              "      <td>ICU</td>\n",
              "    </tr>\n",
              "    <tr>\n",
              "      <th>5562</th>\n",
              "      <td>68</td>\n",
              "      <td>Female</td>\n",
              "      <td>Gulmi</td>\n",
              "      <td>ICU</td>\n",
              "    </tr>\n",
              "    <tr>\n",
              "      <th>6114</th>\n",
              "      <td>31</td>\n",
              "      <td>Female</td>\n",
              "      <td>Gulmi</td>\n",
              "      <td>MED</td>\n",
              "    </tr>\n",
              "    <tr>\n",
              "      <th>6993</th>\n",
              "      <td>69</td>\n",
              "      <td>Female</td>\n",
              "      <td>Gulmi</td>\n",
              "      <td>MED</td>\n",
              "    </tr>\n",
              "    <tr>\n",
              "      <th>8110</th>\n",
              "      <td>57</td>\n",
              "      <td>Female</td>\n",
              "      <td>Gulmi</td>\n",
              "      <td>MED</td>\n",
              "    </tr>\n",
              "    <tr>\n",
              "      <th>8126</th>\n",
              "      <td>30</td>\n",
              "      <td>Female</td>\n",
              "      <td>Gulmi</td>\n",
              "      <td>ICU</td>\n",
              "    </tr>\n",
              "    <tr>\n",
              "      <th>8735</th>\n",
              "      <td>64</td>\n",
              "      <td>Male</td>\n",
              "      <td>Gulmi</td>\n",
              "      <td>MED</td>\n",
              "    </tr>\n",
              "    <tr>\n",
              "      <th>10092</th>\n",
              "      <td>75</td>\n",
              "      <td>Male</td>\n",
              "      <td>Gulmi</td>\n",
              "      <td>MED</td>\n",
              "    </tr>\n",
              "    <tr>\n",
              "      <th>10866</th>\n",
              "      <td>76</td>\n",
              "      <td>Male</td>\n",
              "      <td>Gulmi</td>\n",
              "      <td>ICU</td>\n",
              "    </tr>\n",
              "    <tr>\n",
              "      <th>11291</th>\n",
              "      <td>73</td>\n",
              "      <td>Male</td>\n",
              "      <td>Gulmi</td>\n",
              "      <td>ICU</td>\n",
              "    </tr>\n",
              "    <tr>\n",
              "      <th>11682</th>\n",
              "      <td>24</td>\n",
              "      <td>Female</td>\n",
              "      <td>Gulmi</td>\n",
              "      <td>MED</td>\n",
              "    </tr>\n",
              "    <tr>\n",
              "      <th>11766</th>\n",
              "      <td>53</td>\n",
              "      <td>Female</td>\n",
              "      <td>Gulmi</td>\n",
              "      <td>MED</td>\n",
              "    </tr>\n",
              "    <tr>\n",
              "      <th>11779</th>\n",
              "      <td>65</td>\n",
              "      <td>Male</td>\n",
              "      <td>Gulmi</td>\n",
              "      <td>MED</td>\n",
              "    </tr>\n",
              "    <tr>\n",
              "      <th>12288</th>\n",
              "      <td>50</td>\n",
              "      <td>Female</td>\n",
              "      <td>Gulmi</td>\n",
              "      <td>ORTHO</td>\n",
              "    </tr>\n",
              "    <tr>\n",
              "      <th>13013</th>\n",
              "      <td>68</td>\n",
              "      <td>Female</td>\n",
              "      <td>Gulmi</td>\n",
              "      <td>ORTHO</td>\n",
              "    </tr>\n",
              "    <tr>\n",
              "      <th>13603</th>\n",
              "      <td>75</td>\n",
              "      <td>Female</td>\n",
              "      <td>Gulmi</td>\n",
              "      <td>ORTHO</td>\n",
              "    </tr>\n",
              "    <tr>\n",
              "      <th>13656</th>\n",
              "      <td>30</td>\n",
              "      <td>Male</td>\n",
              "      <td>Gulmi</td>\n",
              "      <td>ORTHO</td>\n",
              "    </tr>\n",
              "    <tr>\n",
              "      <th>13805</th>\n",
              "      <td>42</td>\n",
              "      <td>Female</td>\n",
              "      <td>Gulmi</td>\n",
              "      <td>ORTHO</td>\n",
              "    </tr>\n",
              "    <tr>\n",
              "      <th>19053</th>\n",
              "      <td>67</td>\n",
              "      <td>Female</td>\n",
              "      <td>Gulmi</td>\n",
              "      <td>Clinical</td>\n",
              "    </tr>\n",
              "    <tr>\n",
              "      <th>19194</th>\n",
              "      <td>46</td>\n",
              "      <td>Female</td>\n",
              "      <td>Gulmi</td>\n",
              "      <td>SURGICAL</td>\n",
              "    </tr>\n",
              "    <tr>\n",
              "      <th>19658</th>\n",
              "      <td>70</td>\n",
              "      <td>Male</td>\n",
              "      <td>Gulmi</td>\n",
              "      <td>SURGICAL</td>\n",
              "    </tr>\n",
              "    <tr>\n",
              "      <th>19834</th>\n",
              "      <td>45</td>\n",
              "      <td>Female</td>\n",
              "      <td>Gulmi</td>\n",
              "      <td>SURGICAL</td>\n",
              "    </tr>\n",
              "    <tr>\n",
              "      <th>19939</th>\n",
              "      <td>58</td>\n",
              "      <td>Male</td>\n",
              "      <td>Gulmi</td>\n",
              "      <td>SURGICAL</td>\n",
              "    </tr>\n",
              "    <tr>\n",
              "      <th>20093</th>\n",
              "      <td>20</td>\n",
              "      <td>Female</td>\n",
              "      <td>Gulmi</td>\n",
              "      <td>SURGICAL</td>\n",
              "    </tr>\n",
              "    <tr>\n",
              "      <th>20201</th>\n",
              "      <td>48</td>\n",
              "      <td>Male</td>\n",
              "      <td>Gulmi</td>\n",
              "      <td>SURGICAL</td>\n",
              "    </tr>\n",
              "    <tr>\n",
              "      <th>20274</th>\n",
              "      <td>71</td>\n",
              "      <td>Male</td>\n",
              "      <td>Gulmi</td>\n",
              "      <td>SURGICAL</td>\n",
              "    </tr>\n",
              "    <tr>\n",
              "      <th>20379</th>\n",
              "      <td>28</td>\n",
              "      <td>Female</td>\n",
              "      <td>Gulmi</td>\n",
              "      <td>ORTHO</td>\n",
              "    </tr>\n",
              "    <tr>\n",
              "      <th>20527</th>\n",
              "      <td>25</td>\n",
              "      <td>Female</td>\n",
              "      <td>Gulmi</td>\n",
              "      <td>SURGICAL</td>\n",
              "    </tr>\n",
              "    <tr>\n",
              "      <th>20820</th>\n",
              "      <td>3</td>\n",
              "      <td>Male</td>\n",
              "      <td>Gulmi</td>\n",
              "      <td>SURGICAL</td>\n",
              "    </tr>\n",
              "    <tr>\n",
              "      <th>21518</th>\n",
              "      <td>53</td>\n",
              "      <td>Male</td>\n",
              "      <td>Gulmi</td>\n",
              "      <td>SURGICAL</td>\n",
              "    </tr>\n",
              "    <tr>\n",
              "      <th>21607</th>\n",
              "      <td>54</td>\n",
              "      <td>Female</td>\n",
              "      <td>Gulmi</td>\n",
              "      <td>SURGICAL</td>\n",
              "    </tr>\n",
              "    <tr>\n",
              "      <th>22258</th>\n",
              "      <td>55</td>\n",
              "      <td>Female</td>\n",
              "      <td>Gulmi</td>\n",
              "      <td>SURGICAL</td>\n",
              "    </tr>\n",
              "  </tbody>\n",
              "</table>\n",
              "</div>"
            ],
            "text/plain": [
              "      Age     Sex  Place Final Diagnosis\n",
              "577    40  Female  Gulmi     Gynaecology\n",
              "1217   28  Female  Gulmi     Gynaecology\n",
              "2674   24  Female  Gulmi     Gynaecology\n",
              "3317   76    Male  Gulmi      Cardiology\n",
              "4104   47    Male  Gulmi             MED\n",
              "4223   78    Male  Gulmi             ICU\n",
              "5562   68  Female  Gulmi             ICU\n",
              "6114   31  Female  Gulmi             MED\n",
              "6993   69  Female  Gulmi             MED\n",
              "8110   57  Female  Gulmi             MED\n",
              "8126   30  Female  Gulmi             ICU\n",
              "8735   64    Male  Gulmi             MED\n",
              "10092  75    Male  Gulmi             MED\n",
              "10866  76    Male  Gulmi             ICU\n",
              "11291  73    Male  Gulmi             ICU\n",
              "11682  24  Female  Gulmi             MED\n",
              "11766  53  Female  Gulmi             MED\n",
              "11779  65    Male  Gulmi             MED\n",
              "12288  50  Female  Gulmi           ORTHO\n",
              "13013  68  Female  Gulmi           ORTHO\n",
              "13603  75  Female  Gulmi           ORTHO\n",
              "13656  30    Male  Gulmi           ORTHO\n",
              "13805  42  Female  Gulmi           ORTHO\n",
              "19053  67  Female  Gulmi        Clinical\n",
              "19194  46  Female  Gulmi        SURGICAL\n",
              "19658  70    Male  Gulmi        SURGICAL\n",
              "19834  45  Female  Gulmi        SURGICAL\n",
              "19939  58    Male  Gulmi        SURGICAL\n",
              "20093  20  Female  Gulmi        SURGICAL\n",
              "20201  48    Male  Gulmi        SURGICAL\n",
              "20274  71    Male  Gulmi        SURGICAL\n",
              "20379  28  Female  Gulmi           ORTHO\n",
              "20527  25  Female  Gulmi        SURGICAL\n",
              "20820   3    Male  Gulmi        SURGICAL\n",
              "21518  53    Male  Gulmi        SURGICAL\n",
              "21607  54  Female  Gulmi        SURGICAL\n",
              "22258  55  Female  Gulmi        SURGICAL"
            ]
          },
          "metadata": {
            "tags": []
          },
          "execution_count": 207
        }
      ]
    },
    {
      "cell_type": "code",
      "metadata": {
        "id": "IkoYhuOIu0XP",
        "colab_type": "code",
        "outputId": "851a4699-f494-46b6-e8f0-5b06ebcd81e8",
        "colab": {
          "base_uri": "https://localhost:8080/",
          "height": 34
        }
      },
      "source": [
        "nch.duplicated().any() #if any duplicated data"
      ],
      "execution_count": 208,
      "outputs": [
        {
          "output_type": "execute_result",
          "data": {
            "text/plain": [
              "True"
            ]
          },
          "metadata": {
            "tags": []
          },
          "execution_count": 208
        }
      ]
    },
    {
      "cell_type": "code",
      "metadata": {
        "scrolled": true,
        "id": "_IRG1y6_u0Xk",
        "colab_type": "code",
        "outputId": "445dc0da-feed-4d85-f407-710771aff2b9",
        "colab": {
          "base_uri": "https://localhost:8080/",
          "height": 369
        }
      },
      "source": [
        "nch['Place'].value_counts().plot.bar()"
      ],
      "execution_count": 209,
      "outputs": [
        {
          "output_type": "execute_result",
          "data": {
            "text/plain": [
              "<matplotlib.axes._subplots.AxesSubplot at 0x7f0ea7e647f0>"
            ]
          },
          "metadata": {
            "tags": []
          },
          "execution_count": 209
        },
        {
          "output_type": "display_data",
          "data": {
            "image/png": "[encoded data removed]",
            "text/plain": [
              "<Figure size 432x288 with 1 Axes>"
            ]
          },
          "metadata": {
            "tags": []
          }
        }
      ]
    },
    {
      "cell_type": "code",
      "metadata": {
        "id": "9cGdJ17yu0Xq",
        "colab_type": "code",
        "outputId": "e62f9fc2-98bd-4da8-be40-069c3ac0a915",
        "colab": {
          "base_uri": "https://localhost:8080/",
          "height": 357
        }
      },
      "source": [
        "nch['Final Diagnosis'].value_counts().plot.bar()"
      ],
      "execution_count": 210,
      "outputs": [
        {
          "output_type": "execute_result",
          "data": {
            "text/plain": [
              "<matplotlib.axes._subplots.AxesSubplot at 0x7f0ea8152ba8>"
            ]
          },
          "metadata": {
            "tags": []
          },
          "execution_count": 210
        },
        {
          "output_type": "display_data",
          "data": {
            "image/png": "[encoded data removed]",
            "text/plain": [
              "<Figure size 432x288 with 1 Axes>"
            ]
          },
          "metadata": {
            "tags": []
          }
        }
      ]
    },
    {
      "cell_type": "code",
      "metadata": {
        "id": "cA6PAU4Pu0Xv",
        "colab_type": "code",
        "outputId": "d8568d13-c3ee-4a41-97b2-db5afacc7520",
        "colab": {
          "base_uri": "https://localhost:8080/",
          "height": 318
        }
      },
      "source": [
        "nch['Sex'].value_counts().plot.bar()"
      ],
      "execution_count": 211,
      "outputs": [
        {
          "output_type": "execute_result",
          "data": {
            "text/plain": [
              "<matplotlib.axes._subplots.AxesSubplot at 0x7f0ea8177b00>"
            ]
          },
          "metadata": {
            "tags": []
          },
          "execution_count": 211
        },
        {
          "output_type": "display_data",
          "data": {
            "image/png": "[encoded data removed]",
            "text/plain": [
              "<Figure size 432x288 with 1 Axes>"
            ]
          },
          "metadata": {
            "tags": []
          }
        }
      ]
    },
    {
      "cell_type": "code",
      "metadata": {
        "id": "W8Qal7d0u0X0",
        "colab_type": "code",
        "outputId": "2a2fd8f1-1e3d-4c15-c5c3-408139aa4d69",
        "colab": {
          "base_uri": "https://localhost:8080/",
          "height": 378
        }
      },
      "source": [
        "nch['Age'].value_counts().plot.bar()"
      ],
      "execution_count": 212,
      "outputs": [
        {
          "output_type": "execute_result",
          "data": {
            "text/plain": [
              "<matplotlib.axes._subplots.AxesSubplot at 0x7f0ea81527f0>"
            ]
          },
          "metadata": {
            "tags": []
          },
          "execution_count": 212
        },
        {
          "output_type": "display_data",
          "data": {
            "image/png": "[encoded data removed]",
            "text/plain": [
              "<Figure size 432x288 with 1 Axes>"
            ]
          },
          "metadata": {
            "tags": []
          }
        }
      ]
    },
    {
      "cell_type": "code",
      "metadata": {
        "id": "YozB0xOvu0X5",
        "colab_type": "code",
        "colab": {}
      },
      "source": [
        "nch.replace('Less than a month','0.082',inplace=True)"
      ],
      "execution_count": 0,
      "outputs": []
    },
    {
      "cell_type": "code",
      "metadata": {
        "id": "tJ__YxlSu0YE",
        "colab_type": "code",
        "colab": {}
      },
      "source": [
        "nch.drop_duplicates(keep=False)\n",
        "nch.drop_duplicates(keep=False, inplace=True)"
      ],
      "execution_count": 0,
      "outputs": []
    },
    {
      "cell_type": "code",
      "metadata": {
        "id": "sOBxc-auu0YJ",
        "colab_type": "code",
        "outputId": "a09ba443-fa60-4624-c05a-2a8273f4dc26",
        "colab": {
          "base_uri": "https://localhost:8080/",
          "height": 175
        }
      },
      "source": [
        "nch.describe()"
      ],
      "execution_count": 215,
      "outputs": [
        {
          "output_type": "execute_result",
          "data": {
            "text/html": [
              "<div>\n",
              "<style scoped>\n",
              "    .dataframe tbody tr th:only-of-type {\n",
              "        vertical-align: middle;\n",
              "    }\n",
              "\n",
              "    .dataframe tbody tr th {\n",
              "        vertical-align: top;\n",
              "    }\n",
              "\n",
              "    .dataframe thead th {\n",
              "        text-align: right;\n",
              "    }\n",
              "</style>\n",
              "<table border=\"1\" class=\"dataframe\">\n",
              "  <thead>\n",
              "    <tr style=\"text-align: right;\">\n",
              "      <th></th>\n",
              "      <th>Age</th>\n",
              "      <th>Sex</th>\n",
              "      <th>Place</th>\n",
              "      <th>Final Diagnosis</th>\n",
              "    </tr>\n",
              "  </thead>\n",
              "  <tbody>\n",
              "    <tr>\n",
              "      <th>count</th>\n",
              "      <td>2104</td>\n",
              "      <td>2104</td>\n",
              "      <td>2104</td>\n",
              "      <td>2104</td>\n",
              "    </tr>\n",
              "    <tr>\n",
              "      <th>unique</th>\n",
              "      <td>104</td>\n",
              "      <td>2</td>\n",
              "      <td>25</td>\n",
              "      <td>14</td>\n",
              "    </tr>\n",
              "    <tr>\n",
              "      <th>top</th>\n",
              "      <td>35</td>\n",
              "      <td>Female</td>\n",
              "      <td>Gandaki</td>\n",
              "      <td>MED</td>\n",
              "    </tr>\n",
              "    <tr>\n",
              "      <th>freq</th>\n",
              "      <td>48</td>\n",
              "      <td>1163</td>\n",
              "      <td>361</td>\n",
              "      <td>398</td>\n",
              "    </tr>\n",
              "  </tbody>\n",
              "</table>\n",
              "</div>"
            ],
            "text/plain": [
              "         Age     Sex    Place Final Diagnosis\n",
              "count   2104    2104     2104            2104\n",
              "unique   104       2       25              14\n",
              "top       35  Female  Gandaki             MED\n",
              "freq      48    1163      361             398"
            ]
          },
          "metadata": {
            "tags": []
          },
          "execution_count": 215
        }
      ]
    },
    {
      "cell_type": "code",
      "metadata": {
        "id": "xMUAqNo1u0YQ",
        "colab_type": "code",
        "outputId": "ef10e648-cc96-4072-88b6-c79c6749ff9f",
        "colab": {
          "base_uri": "https://localhost:8080/",
          "height": 34
        }
      },
      "source": [
        "from scipy.stats import chisquare\n",
        "chisquare([104,2,25,14])"
      ],
      "execution_count": 216,
      "outputs": [
        {
          "output_type": "execute_result",
          "data": {
            "text/plain": [
              "Power_divergenceResult(statistic=176.13103448275862, pvalue=6.03858110321843e-38)"
            ]
          },
          "metadata": {
            "tags": []
          },
          "execution_count": 216
        }
      ]
    },
    {
      "cell_type": "code",
      "metadata": {
        "id": "Enlq1-l7u0YW",
        "colab_type": "code",
        "outputId": "f48d3112-8ccc-434e-e048-c0997de4c7b6",
        "colab": {
          "base_uri": "https://localhost:8080/",
          "height": 424
        }
      },
      "source": [
        "rp.summary_cat(nch[['Age','Sex']])"
      ],
      "execution_count": 217,
      "outputs": [
        {
          "output_type": "execute_result",
          "data": {
            "text/html": [
              "<div>\n",
              "<style scoped>\n",
              "    .dataframe tbody tr th:only-of-type {\n",
              "        vertical-align: middle;\n",
              "    }\n",
              "\n",
              "    .dataframe tbody tr th {\n",
              "        vertical-align: top;\n",
              "    }\n",
              "\n",
              "    .dataframe thead th {\n",
              "        text-align: right;\n",
              "    }\n",
              "</style>\n",
              "<table border=\"1\" class=\"dataframe\">\n",
              "  <thead>\n",
              "    <tr style=\"text-align: right;\">\n",
              "      <th></th>\n",
              "      <th>Variable</th>\n",
              "      <th>Outcome</th>\n",
              "      <th>Count</th>\n",
              "      <th>Percent</th>\n",
              "    </tr>\n",
              "  </thead>\n",
              "  <tbody>\n",
              "    <tr>\n",
              "      <th>0</th>\n",
              "      <td>Age</td>\n",
              "      <td>35</td>\n",
              "      <td>48</td>\n",
              "      <td>2.28</td>\n",
              "    </tr>\n",
              "    <tr>\n",
              "      <th>1</th>\n",
              "      <td></td>\n",
              "      <td>45</td>\n",
              "      <td>46</td>\n",
              "      <td>2.19</td>\n",
              "    </tr>\n",
              "    <tr>\n",
              "      <th>2</th>\n",
              "      <td></td>\n",
              "      <td>40</td>\n",
              "      <td>41</td>\n",
              "      <td>1.95</td>\n",
              "    </tr>\n",
              "    <tr>\n",
              "      <th>3</th>\n",
              "      <td></td>\n",
              "      <td>22</td>\n",
              "      <td>39</td>\n",
              "      <td>1.85</td>\n",
              "    </tr>\n",
              "    <tr>\n",
              "      <th>4</th>\n",
              "      <td></td>\n",
              "      <td>32</td>\n",
              "      <td>36</td>\n",
              "      <td>1.71</td>\n",
              "    </tr>\n",
              "    <tr>\n",
              "      <th>...</th>\n",
              "      <td>...</td>\n",
              "      <td>...</td>\n",
              "      <td>...</td>\n",
              "      <td>...</td>\n",
              "    </tr>\n",
              "    <tr>\n",
              "      <th>101</th>\n",
              "      <td></td>\n",
              "      <td>93</td>\n",
              "      <td>2</td>\n",
              "      <td>0.10</td>\n",
              "    </tr>\n",
              "    <tr>\n",
              "      <th>102</th>\n",
              "      <td></td>\n",
              "      <td>98</td>\n",
              "      <td>1</td>\n",
              "      <td>0.05</td>\n",
              "    </tr>\n",
              "    <tr>\n",
              "      <th>103</th>\n",
              "      <td></td>\n",
              "      <td>105</td>\n",
              "      <td>1</td>\n",
              "      <td>0.05</td>\n",
              "    </tr>\n",
              "    <tr>\n",
              "      <th>104</th>\n",
              "      <td>Sex</td>\n",
              "      <td>Female</td>\n",
              "      <td>1163</td>\n",
              "      <td>55.28</td>\n",
              "    </tr>\n",
              "    <tr>\n",
              "      <th>105</th>\n",
              "      <td></td>\n",
              "      <td>Male</td>\n",
              "      <td>941</td>\n",
              "      <td>44.72</td>\n",
              "    </tr>\n",
              "  </tbody>\n",
              "</table>\n",
              "<p>106 rows × 4 columns</p>\n",
              "</div>"
            ],
            "text/plain": [
              "    Variable Outcome  Count  Percent\n",
              "0        Age      35     48     2.28\n",
              "1                 45     46     2.19\n",
              "2                 40     41     1.95\n",
              "3                 22     39     1.85\n",
              "4                 32     36     1.71\n",
              "..       ...     ...    ...      ...\n",
              "101               93      2     0.10\n",
              "102               98      1     0.05\n",
              "103              105      1     0.05\n",
              "104      Sex  Female   1163    55.28\n",
              "105             Male    941    44.72\n",
              "\n",
              "[106 rows x 4 columns]"
            ]
          },
          "metadata": {
            "tags": []
          },
          "execution_count": 217
        }
      ]
    },
    {
      "cell_type": "code",
      "metadata": {
        "id": "ixwyk6tnu0Yd",
        "colab_type": "code",
        "outputId": "384ef1b4-166e-412f-cbe3-bfc0f2a4e64b",
        "colab": {
          "base_uri": "https://localhost:8080/",
          "height": 1000
        }
      },
      "source": [
        "rp.summary_cat(nch[['Final Diagnosis','Place']])"
      ],
      "execution_count": 218,
      "outputs": [
        {
          "output_type": "execute_result",
          "data": {
            "text/html": [
              "<div>\n",
              "<style scoped>\n",
              "    .dataframe tbody tr th:only-of-type {\n",
              "        vertical-align: middle;\n",
              "    }\n",
              "\n",
              "    .dataframe tbody tr th {\n",
              "        vertical-align: top;\n",
              "    }\n",
              "\n",
              "    .dataframe thead th {\n",
              "        text-align: right;\n",
              "    }\n",
              "</style>\n",
              "<table border=\"1\" class=\"dataframe\">\n",
              "  <thead>\n",
              "    <tr style=\"text-align: right;\">\n",
              "      <th></th>\n",
              "      <th>Variable</th>\n",
              "      <th>Outcome</th>\n",
              "      <th>Count</th>\n",
              "      <th>Percent</th>\n",
              "    </tr>\n",
              "  </thead>\n",
              "  <tbody>\n",
              "    <tr>\n",
              "      <th>0</th>\n",
              "      <td>Final Diagnosis</td>\n",
              "      <td>MED</td>\n",
              "      <td>398</td>\n",
              "      <td>18.92</td>\n",
              "    </tr>\n",
              "    <tr>\n",
              "      <th>1</th>\n",
              "      <td></td>\n",
              "      <td>SURGICAL</td>\n",
              "      <td>392</td>\n",
              "      <td>18.63</td>\n",
              "    </tr>\n",
              "    <tr>\n",
              "      <th>2</th>\n",
              "      <td></td>\n",
              "      <td>ORTHO</td>\n",
              "      <td>284</td>\n",
              "      <td>13.50</td>\n",
              "    </tr>\n",
              "    <tr>\n",
              "      <th>3</th>\n",
              "      <td></td>\n",
              "      <td>ICU</td>\n",
              "      <td>268</td>\n",
              "      <td>12.74</td>\n",
              "    </tr>\n",
              "    <tr>\n",
              "      <th>4</th>\n",
              "      <td></td>\n",
              "      <td>Gynaecology</td>\n",
              "      <td>175</td>\n",
              "      <td>8.32</td>\n",
              "    </tr>\n",
              "    <tr>\n",
              "      <th>5</th>\n",
              "      <td></td>\n",
              "      <td>Cardiology</td>\n",
              "      <td>133</td>\n",
              "      <td>6.32</td>\n",
              "    </tr>\n",
              "    <tr>\n",
              "      <th>6</th>\n",
              "      <td></td>\n",
              "      <td>PED</td>\n",
              "      <td>126</td>\n",
              "      <td>5.99</td>\n",
              "    </tr>\n",
              "    <tr>\n",
              "      <th>7</th>\n",
              "      <td></td>\n",
              "      <td>PSY</td>\n",
              "      <td>104</td>\n",
              "      <td>4.94</td>\n",
              "    </tr>\n",
              "    <tr>\n",
              "      <th>8</th>\n",
              "      <td></td>\n",
              "      <td>Clinical</td>\n",
              "      <td>58</td>\n",
              "      <td>2.76</td>\n",
              "    </tr>\n",
              "    <tr>\n",
              "      <th>9</th>\n",
              "      <td></td>\n",
              "      <td>CTVS</td>\n",
              "      <td>49</td>\n",
              "      <td>2.33</td>\n",
              "    </tr>\n",
              "    <tr>\n",
              "      <th>10</th>\n",
              "      <td></td>\n",
              "      <td>NICU</td>\n",
              "      <td>44</td>\n",
              "      <td>2.09</td>\n",
              "    </tr>\n",
              "    <tr>\n",
              "      <th>11</th>\n",
              "      <td></td>\n",
              "      <td>Cardiology ICU</td>\n",
              "      <td>32</td>\n",
              "      <td>1.52</td>\n",
              "    </tr>\n",
              "    <tr>\n",
              "      <th>12</th>\n",
              "      <td></td>\n",
              "      <td>CTVS-ICU</td>\n",
              "      <td>23</td>\n",
              "      <td>1.09</td>\n",
              "    </tr>\n",
              "    <tr>\n",
              "      <th>13</th>\n",
              "      <td></td>\n",
              "      <td>NEURO</td>\n",
              "      <td>18</td>\n",
              "      <td>0.86</td>\n",
              "    </tr>\n",
              "    <tr>\n",
              "      <th>14</th>\n",
              "      <td>Place</td>\n",
              "      <td>Gandaki</td>\n",
              "      <td>361</td>\n",
              "      <td>17.16</td>\n",
              "    </tr>\n",
              "    <tr>\n",
              "      <th>15</th>\n",
              "      <td></td>\n",
              "      <td>Chitwan &amp; Parsa</td>\n",
              "      <td>343</td>\n",
              "      <td>16.30</td>\n",
              "    </tr>\n",
              "    <tr>\n",
              "      <th>16</th>\n",
              "      <td></td>\n",
              "      <td>Nawalparasi</td>\n",
              "      <td>282</td>\n",
              "      <td>13.40</td>\n",
              "    </tr>\n",
              "    <tr>\n",
              "      <th>17</th>\n",
              "      <td></td>\n",
              "      <td>Makwanpur</td>\n",
              "      <td>202</td>\n",
              "      <td>9.60</td>\n",
              "    </tr>\n",
              "    <tr>\n",
              "      <th>18</th>\n",
              "      <td></td>\n",
              "      <td>Janakpur</td>\n",
              "      <td>137</td>\n",
              "      <td>6.51</td>\n",
              "    </tr>\n",
              "    <tr>\n",
              "      <th>19</th>\n",
              "      <td></td>\n",
              "      <td>Bara</td>\n",
              "      <td>127</td>\n",
              "      <td>6.04</td>\n",
              "    </tr>\n",
              "    <tr>\n",
              "      <th>20</th>\n",
              "      <td></td>\n",
              "      <td>Rautahat</td>\n",
              "      <td>93</td>\n",
              "      <td>4.42</td>\n",
              "    </tr>\n",
              "    <tr>\n",
              "      <th>21</th>\n",
              "      <td></td>\n",
              "      <td>Rapti</td>\n",
              "      <td>88</td>\n",
              "      <td>4.18</td>\n",
              "    </tr>\n",
              "    <tr>\n",
              "      <th>22</th>\n",
              "      <td></td>\n",
              "      <td>Bagmati</td>\n",
              "      <td>74</td>\n",
              "      <td>3.52</td>\n",
              "    </tr>\n",
              "    <tr>\n",
              "      <th>23</th>\n",
              "      <td></td>\n",
              "      <td>Rupandehi</td>\n",
              "      <td>70</td>\n",
              "      <td>3.33</td>\n",
              "    </tr>\n",
              "    <tr>\n",
              "      <th>24</th>\n",
              "      <td></td>\n",
              "      <td>Dhaulagiri</td>\n",
              "      <td>69</td>\n",
              "      <td>3.28</td>\n",
              "    </tr>\n",
              "    <tr>\n",
              "      <th>25</th>\n",
              "      <td></td>\n",
              "      <td>Bheri</td>\n",
              "      <td>43</td>\n",
              "      <td>2.04</td>\n",
              "    </tr>\n",
              "    <tr>\n",
              "      <th>26</th>\n",
              "      <td></td>\n",
              "      <td>Gulmi</td>\n",
              "      <td>37</td>\n",
              "      <td>1.76</td>\n",
              "    </tr>\n",
              "    <tr>\n",
              "      <th>27</th>\n",
              "      <td></td>\n",
              "      <td>Palpa</td>\n",
              "      <td>32</td>\n",
              "      <td>1.52</td>\n",
              "    </tr>\n",
              "    <tr>\n",
              "      <th>28</th>\n",
              "      <td></td>\n",
              "      <td>Sagarmatha</td>\n",
              "      <td>25</td>\n",
              "      <td>1.19</td>\n",
              "    </tr>\n",
              "    <tr>\n",
              "      <th>29</th>\n",
              "      <td></td>\n",
              "      <td>Kapilvastu</td>\n",
              "      <td>22</td>\n",
              "      <td>1.05</td>\n",
              "    </tr>\n",
              "    <tr>\n",
              "      <th>30</th>\n",
              "      <td></td>\n",
              "      <td>Koshi</td>\n",
              "      <td>20</td>\n",
              "      <td>0.95</td>\n",
              "    </tr>\n",
              "    <tr>\n",
              "      <th>31</th>\n",
              "      <td></td>\n",
              "      <td>Mechi</td>\n",
              "      <td>18</td>\n",
              "      <td>0.86</td>\n",
              "    </tr>\n",
              "    <tr>\n",
              "      <th>32</th>\n",
              "      <td></td>\n",
              "      <td>Seti</td>\n",
              "      <td>14</td>\n",
              "      <td>0.67</td>\n",
              "    </tr>\n",
              "    <tr>\n",
              "      <th>33</th>\n",
              "      <td></td>\n",
              "      <td>Karnali</td>\n",
              "      <td>12</td>\n",
              "      <td>0.57</td>\n",
              "    </tr>\n",
              "    <tr>\n",
              "      <th>34</th>\n",
              "      <td></td>\n",
              "      <td>Arghakhanchi</td>\n",
              "      <td>12</td>\n",
              "      <td>0.57</td>\n",
              "    </tr>\n",
              "    <tr>\n",
              "      <th>35</th>\n",
              "      <td></td>\n",
              "      <td>Outside country</td>\n",
              "      <td>9</td>\n",
              "      <td>0.43</td>\n",
              "    </tr>\n",
              "    <tr>\n",
              "      <th>36</th>\n",
              "      <td></td>\n",
              "      <td>Mahakali</td>\n",
              "      <td>8</td>\n",
              "      <td>0.38</td>\n",
              "    </tr>\n",
              "    <tr>\n",
              "      <th>37</th>\n",
              "      <td></td>\n",
              "      <td>Sindhupalchowk</td>\n",
              "      <td>4</td>\n",
              "      <td>0.19</td>\n",
              "    </tr>\n",
              "    <tr>\n",
              "      <th>38</th>\n",
              "      <td></td>\n",
              "      <td>Sankhuwashava</td>\n",
              "      <td>2</td>\n",
              "      <td>0.10</td>\n",
              "    </tr>\n",
              "  </tbody>\n",
              "</table>\n",
              "</div>"
            ],
            "text/plain": [
              "           Variable          Outcome  Count  Percent\n",
              "0   Final Diagnosis              MED    398    18.92\n",
              "1                           SURGICAL    392    18.63\n",
              "2                              ORTHO    284    13.50\n",
              "3                                ICU    268    12.74\n",
              "4                        Gynaecology    175     8.32\n",
              "5                         Cardiology    133     6.32\n",
              "6                                PED    126     5.99\n",
              "7                                PSY    104     4.94\n",
              "8                           Clinical     58     2.76\n",
              "9                               CTVS     49     2.33\n",
              "10                              NICU     44     2.09\n",
              "11                    Cardiology ICU     32     1.52\n",
              "12                          CTVS-ICU     23     1.09\n",
              "13                             NEURO     18     0.86\n",
              "14            Place          Gandaki    361    17.16\n",
              "15                   Chitwan & Parsa    343    16.30\n",
              "16                       Nawalparasi    282    13.40\n",
              "17                         Makwanpur    202     9.60\n",
              "18                          Janakpur    137     6.51\n",
              "19                              Bara    127     6.04\n",
              "20                          Rautahat     93     4.42\n",
              "21                             Rapti     88     4.18\n",
              "22                           Bagmati     74     3.52\n",
              "23                         Rupandehi     70     3.33\n",
              "24                        Dhaulagiri     69     3.28\n",
              "25                             Bheri     43     2.04\n",
              "26                             Gulmi     37     1.76\n",
              "27                             Palpa     32     1.52\n",
              "28                        Sagarmatha     25     1.19\n",
              "29                        Kapilvastu     22     1.05\n",
              "30                             Koshi     20     0.95\n",
              "31                             Mechi     18     0.86\n",
              "32                              Seti     14     0.67\n",
              "33                           Karnali     12     0.57\n",
              "34                      Arghakhanchi     12     0.57\n",
              "35                   Outside country      9     0.43\n",
              "36                          Mahakali      8     0.38\n",
              "37                   Sindhupalchowk       4     0.19\n",
              "38                    Sankhuwashava       2     0.10"
            ]
          },
          "metadata": {
            "tags": []
          },
          "execution_count": 218
        }
      ]
    },
    {
      "cell_type": "markdown",
      "metadata": {
        "id": "Mqx5FXAwu0Yi",
        "colab_type": "text"
      },
      "source": [
        "#chi square first:\n",
        "first is chi- square value\n",
        "p-value \n",
        "and third is degree of freedom \n",
        "and lastly expected frequencies in array.\n"
      ]
    },
    {
      "cell_type": "code",
      "metadata": {
        "id": "gRRM8Yq6u0Yk",
        "colab_type": "code",
        "outputId": "90cd7e4f-ac8d-4d28-a626-db815a33a600",
        "colab": {
          "base_uri": "https://localhost:8080/",
          "height": 312
        }
      },
      "source": [
        "crosstab = pd.crosstab(nch['Sex'],nch['Place']) #chi sqauare first is Chi- Square value, second p value, third degree of freedom and lastly expected frequencies in array\n",
        "crosstab\n",
        "stats.chi2_contingency(crosstab)"
      ],
      "execution_count": 219,
      "outputs": [
        {
          "output_type": "execute_result",
          "data": {
            "text/plain": [
              "(37.95397549760182,\n",
              " 0.03505071669977994,\n",
              " 24,\n",
              " array([[  6.63307985,  40.9039924 ,  70.20009506,  23.76853612,\n",
              "         189.59553232,  38.14020913, 199.54515209,  20.4519962 ,\n",
              "          75.7276616 ,  12.16064639,   6.63307985,  11.05513308,\n",
              "           4.42205323, 111.65684411,   9.94961977, 155.87737643,\n",
              "           4.97480989,  17.68821293,  48.64258555,  51.40636882,\n",
              "          38.69296578,  13.81891635,   1.10551331,   7.73859316,\n",
              "           2.21102662],\n",
              "        [  5.36692015,  33.0960076 ,  56.79990494,  19.23146388,\n",
              "         153.40446768,  30.85979087, 161.45484791,  16.5480038 ,\n",
              "          61.2723384 ,   9.83935361,   5.36692015,   8.94486692,\n",
              "           3.57794677,  90.34315589,   8.05038023, 126.12262357,\n",
              "           4.02519011,  14.31178707,  39.35741445,  41.59363118,\n",
              "          31.30703422,  11.18108365,   0.89448669,   6.26140684,\n",
              "           1.78897338]]))"
            ]
          },
          "metadata": {
            "tags": []
          },
          "execution_count": 219
        }
      ]
    },
    {
      "cell_type": "code",
      "metadata": {
        "id": "_MbI_Yvau0Yq",
        "colab_type": "code",
        "outputId": "9d08ff43-d03b-4810-c068-dfae8978a318",
        "colab": {
          "base_uri": "https://localhost:8080/",
          "height": 295
        }
      },
      "source": [
        "crosstab = pd.crosstab(nch['Age'],nch['Final Diagnosis']) #chi sqauare first is Chi- Square value, second p value, third degree of freedom and lastly expected frequencies in array\n",
        "crosstab\n",
        "stats.chi2_contingency(crosstab)"
      ],
      "execution_count": 220,
      "outputs": [
        {
          "output_type": "execute_result",
          "data": {
            "text/plain": [
              "(1998.1907633890319,\n",
              " 5.587492280339316e-29,\n",
              " 1339,\n",
              " array([[0.27946768, 0.13117871, 0.75855513, ..., 0.71863118, 0.59315589,\n",
              "         2.23574144],\n",
              "        [0.39591255, 0.1858365 , 1.07461977, ..., 1.01806084, 0.84030418,\n",
              "         3.16730038],\n",
              "        [0.23288973, 0.10931559, 0.63212928, ..., 0.59885932, 0.49429658,\n",
              "         1.86311787],\n",
              "        ...,\n",
              "        [0.13973384, 0.06558935, 0.37927757, ..., 0.35931559, 0.29657795,\n",
              "         1.11787072],\n",
              "        [0.04657795, 0.02186312, 0.12642586, ..., 0.11977186, 0.09885932,\n",
              "         0.37262357],\n",
              "        [0.02328897, 0.01093156, 0.06321293, ..., 0.05988593, 0.04942966,\n",
              "         0.18631179]]))"
            ]
          },
          "metadata": {
            "tags": []
          },
          "execution_count": 220
        }
      ]
    },
    {
      "cell_type": "code",
      "metadata": {
        "id": "QJIU19Hlu0Yv",
        "colab_type": "code",
        "outputId": "48cd6f50-eb40-4ded-c0a8-72522cad8818",
        "colab": {
          "base_uri": "https://localhost:8080/",
          "height": 244
        }
      },
      "source": [
        "table, results = rp.crosstab(nch['Sex'],nch['Place'], prop = 'col', test = 'chi-square')\n",
        "table"
      ],
      "execution_count": 221,
      "outputs": [
        {
          "output_type": "execute_result",
          "data": {
            "text/html": [
              "<div>\n",
              "<style scoped>\n",
              "    .dataframe tbody tr th:only-of-type {\n",
              "        vertical-align: middle;\n",
              "    }\n",
              "\n",
              "    .dataframe tbody tr th {\n",
              "        vertical-align: top;\n",
              "    }\n",
              "\n",
              "    .dataframe thead tr th {\n",
              "        text-align: left;\n",
              "    }\n",
              "\n",
              "    .dataframe thead tr:last-of-type th {\n",
              "        text-align: right;\n",
              "    }\n",
              "</style>\n",
              "<table border=\"1\" class=\"dataframe\">\n",
              "  <thead>\n",
              "    <tr>\n",
              "      <th></th>\n",
              "      <th colspan=\"26\" halign=\"left\">Place</th>\n",
              "    </tr>\n",
              "    <tr>\n",
              "      <th></th>\n",
              "      <th>Arghakhanchi</th>\n",
              "      <th>Bagmati</th>\n",
              "      <th>Bara</th>\n",
              "      <th>Bheri</th>\n",
              "      <th>Chitwan &amp; Parsa</th>\n",
              "      <th>Dhaulagiri</th>\n",
              "      <th>Gandaki</th>\n",
              "      <th>Gulmi</th>\n",
              "      <th>Janakpur</th>\n",
              "      <th>Kapilvastu</th>\n",
              "      <th>Karnali</th>\n",
              "      <th>Koshi</th>\n",
              "      <th>Mahakali</th>\n",
              "      <th>Makwanpur</th>\n",
              "      <th>Mechi</th>\n",
              "      <th>Nawalparasi</th>\n",
              "      <th>Outside country</th>\n",
              "      <th>Palpa</th>\n",
              "      <th>Rapti</th>\n",
              "      <th>Rautahat</th>\n",
              "      <th>Rupandehi</th>\n",
              "      <th>Sagarmatha</th>\n",
              "      <th>Sankhuwashava</th>\n",
              "      <th>Seti</th>\n",
              "      <th>Sindhupalchowk</th>\n",
              "      <th>All</th>\n",
              "    </tr>\n",
              "    <tr>\n",
              "      <th>Sex</th>\n",
              "      <th></th>\n",
              "      <th></th>\n",
              "      <th></th>\n",
              "      <th></th>\n",
              "      <th></th>\n",
              "      <th></th>\n",
              "      <th></th>\n",
              "      <th></th>\n",
              "      <th></th>\n",
              "      <th></th>\n",
              "      <th></th>\n",
              "      <th></th>\n",
              "      <th></th>\n",
              "      <th></th>\n",
              "      <th></th>\n",
              "      <th></th>\n",
              "      <th></th>\n",
              "      <th></th>\n",
              "      <th></th>\n",
              "      <th></th>\n",
              "      <th></th>\n",
              "      <th></th>\n",
              "      <th></th>\n",
              "      <th></th>\n",
              "      <th></th>\n",
              "      <th></th>\n",
              "    </tr>\n",
              "  </thead>\n",
              "  <tbody>\n",
              "    <tr>\n",
              "      <th>Female</th>\n",
              "      <td>91.67</td>\n",
              "      <td>58.11</td>\n",
              "      <td>52.76</td>\n",
              "      <td>60.47</td>\n",
              "      <td>49.56</td>\n",
              "      <td>62.32</td>\n",
              "      <td>58.45</td>\n",
              "      <td>59.46</td>\n",
              "      <td>55.47</td>\n",
              "      <td>63.64</td>\n",
              "      <td>75.0</td>\n",
              "      <td>45.0</td>\n",
              "      <td>62.5</td>\n",
              "      <td>48.02</td>\n",
              "      <td>83.33</td>\n",
              "      <td>56.38</td>\n",
              "      <td>44.44</td>\n",
              "      <td>50.0</td>\n",
              "      <td>46.59</td>\n",
              "      <td>56.99</td>\n",
              "      <td>57.14</td>\n",
              "      <td>76.0</td>\n",
              "      <td>50.0</td>\n",
              "      <td>64.29</td>\n",
              "      <td>75.0</td>\n",
              "      <td>55.28</td>\n",
              "    </tr>\n",
              "    <tr>\n",
              "      <th>Male</th>\n",
              "      <td>8.33</td>\n",
              "      <td>41.89</td>\n",
              "      <td>47.24</td>\n",
              "      <td>39.53</td>\n",
              "      <td>50.44</td>\n",
              "      <td>37.68</td>\n",
              "      <td>41.55</td>\n",
              "      <td>40.54</td>\n",
              "      <td>44.53</td>\n",
              "      <td>36.36</td>\n",
              "      <td>25.0</td>\n",
              "      <td>55.0</td>\n",
              "      <td>37.5</td>\n",
              "      <td>51.98</td>\n",
              "      <td>16.67</td>\n",
              "      <td>43.62</td>\n",
              "      <td>55.56</td>\n",
              "      <td>50.0</td>\n",
              "      <td>53.41</td>\n",
              "      <td>43.01</td>\n",
              "      <td>42.86</td>\n",
              "      <td>24.0</td>\n",
              "      <td>50.0</td>\n",
              "      <td>35.71</td>\n",
              "      <td>25.0</td>\n",
              "      <td>44.72</td>\n",
              "    </tr>\n",
              "    <tr>\n",
              "      <th>All</th>\n",
              "      <td>100.00</td>\n",
              "      <td>100.00</td>\n",
              "      <td>100.00</td>\n",
              "      <td>100.00</td>\n",
              "      <td>100.00</td>\n",
              "      <td>100.00</td>\n",
              "      <td>100.00</td>\n",
              "      <td>100.00</td>\n",
              "      <td>100.00</td>\n",
              "      <td>100.00</td>\n",
              "      <td>100.0</td>\n",
              "      <td>100.0</td>\n",
              "      <td>100.0</td>\n",
              "      <td>100.00</td>\n",
              "      <td>100.00</td>\n",
              "      <td>100.00</td>\n",
              "      <td>100.00</td>\n",
              "      <td>100.0</td>\n",
              "      <td>100.00</td>\n",
              "      <td>100.00</td>\n",
              "      <td>100.00</td>\n",
              "      <td>100.0</td>\n",
              "      <td>100.0</td>\n",
              "      <td>100.00</td>\n",
              "      <td>100.0</td>\n",
              "      <td>100.00</td>\n",
              "    </tr>\n",
              "  </tbody>\n",
              "</table>\n",
              "</div>"
            ],
            "text/plain": [
              "               Place                  ...                                \n",
              "        Arghakhanchi Bagmati    Bara  ...    Seti Sindhupalchowk      All\n",
              "Sex                                   ...                                \n",
              "Female         91.67   58.11   52.76  ...   64.29            75.0   55.28\n",
              "Male            8.33   41.89   47.24  ...   35.71            25.0   44.72\n",
              "All           100.00  100.00  100.00  ...  100.00           100.0  100.00\n",
              "\n",
              "[3 rows x 26 columns]"
            ]
          },
          "metadata": {
            "tags": []
          },
          "execution_count": 221
        }
      ]
    },
    {
      "cell_type": "code",
      "metadata": {
        "id": "nW6eVW9Nu0Y2",
        "colab_type": "code",
        "outputId": "eb0895ef-9d51-4c47-cb57-d756676e17c8",
        "colab": {
          "base_uri": "https://localhost:8080/",
          "height": 143
        }
      },
      "source": [
        "results"
      ],
      "execution_count": 222,
      "outputs": [
        {
          "output_type": "execute_result",
          "data": {
            "text/html": [
              "<div>\n",
              "<style scoped>\n",
              "    .dataframe tbody tr th:only-of-type {\n",
              "        vertical-align: middle;\n",
              "    }\n",
              "\n",
              "    .dataframe tbody tr th {\n",
              "        vertical-align: top;\n",
              "    }\n",
              "\n",
              "    .dataframe thead th {\n",
              "        text-align: right;\n",
              "    }\n",
              "</style>\n",
              "<table border=\"1\" class=\"dataframe\">\n",
              "  <thead>\n",
              "    <tr style=\"text-align: right;\">\n",
              "      <th></th>\n",
              "      <th>Chi-square test</th>\n",
              "      <th>results</th>\n",
              "    </tr>\n",
              "  </thead>\n",
              "  <tbody>\n",
              "    <tr>\n",
              "      <th>0</th>\n",
              "      <td>Pearson Chi-square ( 24.0) =</td>\n",
              "      <td>37.9540</td>\n",
              "    </tr>\n",
              "    <tr>\n",
              "      <th>1</th>\n",
              "      <td>p-value =</td>\n",
              "      <td>0.0351</td>\n",
              "    </tr>\n",
              "    <tr>\n",
              "      <th>2</th>\n",
              "      <td>Cramer's V =</td>\n",
              "      <td>0.1343</td>\n",
              "    </tr>\n",
              "  </tbody>\n",
              "</table>\n",
              "</div>"
            ],
            "text/plain": [
              "                 Chi-square test  results\n",
              "0  Pearson Chi-square ( 24.0) =   37.9540\n",
              "1                     p-value =    0.0351\n",
              "2                  Cramer's V =    0.1343"
            ]
          },
          "metadata": {
            "tags": []
          },
          "execution_count": 222
        }
      ]
    },
    {
      "cell_type": "code",
      "metadata": {
        "scrolled": true,
        "id": "JIIYUWu-u0Y7",
        "colab_type": "code",
        "outputId": "203cd218-1c64-4604-ddc7-ccc4835d5585",
        "colab": {
          "base_uri": "https://localhost:8080/",
          "height": 524
        }
      },
      "source": [
        "table, results = rp.crosstab(nch['Age'],nch['Final Diagnosis'], prop = 'col', test = 'chi-square')\n",
        "table"
      ],
      "execution_count": 223,
      "outputs": [
        {
          "output_type": "execute_result",
          "data": {
            "text/html": [
              "<div>\n",
              "<style scoped>\n",
              "    .dataframe tbody tr th:only-of-type {\n",
              "        vertical-align: middle;\n",
              "    }\n",
              "\n",
              "    .dataframe tbody tr th {\n",
              "        vertical-align: top;\n",
              "    }\n",
              "\n",
              "    .dataframe thead tr th {\n",
              "        text-align: left;\n",
              "    }\n",
              "\n",
              "    .dataframe thead tr:last-of-type th {\n",
              "        text-align: right;\n",
              "    }\n",
              "</style>\n",
              "<table border=\"1\" class=\"dataframe\">\n",
              "  <thead>\n",
              "    <tr>\n",
              "      <th></th>\n",
              "      <th colspan=\"15\" halign=\"left\">Final Diagnosis</th>\n",
              "    </tr>\n",
              "    <tr>\n",
              "      <th></th>\n",
              "      <th>CTVS</th>\n",
              "      <th>CTVS-ICU</th>\n",
              "      <th>Cardiology</th>\n",
              "      <th>Cardiology ICU</th>\n",
              "      <th>Clinical</th>\n",
              "      <th>Gynaecology</th>\n",
              "      <th>ICU</th>\n",
              "      <th>MED</th>\n",
              "      <th>NEURO</th>\n",
              "      <th>NICU</th>\n",
              "      <th>ORTHO</th>\n",
              "      <th>PED</th>\n",
              "      <th>PSY</th>\n",
              "      <th>SURGICAL</th>\n",
              "      <th>All</th>\n",
              "    </tr>\n",
              "    <tr>\n",
              "      <th>Age</th>\n",
              "      <th></th>\n",
              "      <th></th>\n",
              "      <th></th>\n",
              "      <th></th>\n",
              "      <th></th>\n",
              "      <th></th>\n",
              "      <th></th>\n",
              "      <th></th>\n",
              "      <th></th>\n",
              "      <th></th>\n",
              "      <th></th>\n",
              "      <th></th>\n",
              "      <th></th>\n",
              "      <th></th>\n",
              "      <th></th>\n",
              "    </tr>\n",
              "  </thead>\n",
              "  <tbody>\n",
              "    <tr>\n",
              "      <th>0.0027</th>\n",
              "      <td>0.00</td>\n",
              "      <td>0.0</td>\n",
              "      <td>0.00</td>\n",
              "      <td>0.00</td>\n",
              "      <td>0.0</td>\n",
              "      <td>0.0</td>\n",
              "      <td>0.00</td>\n",
              "      <td>0.25</td>\n",
              "      <td>0.0</td>\n",
              "      <td>18.18</td>\n",
              "      <td>0.35</td>\n",
              "      <td>1.59</td>\n",
              "      <td>0.0</td>\n",
              "      <td>0.00</td>\n",
              "      <td>0.57</td>\n",
              "    </tr>\n",
              "    <tr>\n",
              "      <th>0.082</th>\n",
              "      <td>0.00</td>\n",
              "      <td>0.0</td>\n",
              "      <td>0.00</td>\n",
              "      <td>0.00</td>\n",
              "      <td>0.0</td>\n",
              "      <td>0.0</td>\n",
              "      <td>0.37</td>\n",
              "      <td>0.50</td>\n",
              "      <td>0.0</td>\n",
              "      <td>11.36</td>\n",
              "      <td>0.70</td>\n",
              "      <td>4.76</td>\n",
              "      <td>0.0</td>\n",
              "      <td>0.26</td>\n",
              "      <td>0.81</td>\n",
              "    </tr>\n",
              "    <tr>\n",
              "      <th>0.33</th>\n",
              "      <td>0.00</td>\n",
              "      <td>0.0</td>\n",
              "      <td>0.00</td>\n",
              "      <td>0.00</td>\n",
              "      <td>0.0</td>\n",
              "      <td>0.0</td>\n",
              "      <td>0.00</td>\n",
              "      <td>0.00</td>\n",
              "      <td>0.0</td>\n",
              "      <td>4.55</td>\n",
              "      <td>0.70</td>\n",
              "      <td>2.38</td>\n",
              "      <td>0.0</td>\n",
              "      <td>0.77</td>\n",
              "      <td>0.48</td>\n",
              "    </tr>\n",
              "    <tr>\n",
              "      <th>0.5</th>\n",
              "      <td>0.00</td>\n",
              "      <td>0.0</td>\n",
              "      <td>0.00</td>\n",
              "      <td>0.00</td>\n",
              "      <td>0.0</td>\n",
              "      <td>0.0</td>\n",
              "      <td>0.00</td>\n",
              "      <td>0.00</td>\n",
              "      <td>0.0</td>\n",
              "      <td>0.00</td>\n",
              "      <td>0.35</td>\n",
              "      <td>3.17</td>\n",
              "      <td>0.0</td>\n",
              "      <td>0.26</td>\n",
              "      <td>0.29</td>\n",
              "    </tr>\n",
              "    <tr>\n",
              "      <th>0.91</th>\n",
              "      <td>0.00</td>\n",
              "      <td>0.0</td>\n",
              "      <td>0.00</td>\n",
              "      <td>0.00</td>\n",
              "      <td>0.0</td>\n",
              "      <td>0.0</td>\n",
              "      <td>0.00</td>\n",
              "      <td>0.25</td>\n",
              "      <td>0.0</td>\n",
              "      <td>0.00</td>\n",
              "      <td>0.70</td>\n",
              "      <td>4.76</td>\n",
              "      <td>0.0</td>\n",
              "      <td>0.00</td>\n",
              "      <td>0.43</td>\n",
              "    </tr>\n",
              "    <tr>\n",
              "      <th>...</th>\n",
              "      <td>...</td>\n",
              "      <td>...</td>\n",
              "      <td>...</td>\n",
              "      <td>...</td>\n",
              "      <td>...</td>\n",
              "      <td>...</td>\n",
              "      <td>...</td>\n",
              "      <td>...</td>\n",
              "      <td>...</td>\n",
              "      <td>...</td>\n",
              "      <td>...</td>\n",
              "      <td>...</td>\n",
              "      <td>...</td>\n",
              "      <td>...</td>\n",
              "      <td>...</td>\n",
              "    </tr>\n",
              "    <tr>\n",
              "      <th>95</th>\n",
              "      <td>2.04</td>\n",
              "      <td>0.0</td>\n",
              "      <td>0.75</td>\n",
              "      <td>0.00</td>\n",
              "      <td>0.0</td>\n",
              "      <td>0.0</td>\n",
              "      <td>0.00</td>\n",
              "      <td>0.50</td>\n",
              "      <td>0.0</td>\n",
              "      <td>0.00</td>\n",
              "      <td>0.35</td>\n",
              "      <td>0.00</td>\n",
              "      <td>0.0</td>\n",
              "      <td>0.00</td>\n",
              "      <td>0.24</td>\n",
              "    </tr>\n",
              "    <tr>\n",
              "      <th>96</th>\n",
              "      <td>0.00</td>\n",
              "      <td>0.0</td>\n",
              "      <td>1.50</td>\n",
              "      <td>3.12</td>\n",
              "      <td>0.0</td>\n",
              "      <td>0.0</td>\n",
              "      <td>1.12</td>\n",
              "      <td>0.00</td>\n",
              "      <td>0.0</td>\n",
              "      <td>0.00</td>\n",
              "      <td>0.00</td>\n",
              "      <td>0.00</td>\n",
              "      <td>0.0</td>\n",
              "      <td>0.00</td>\n",
              "      <td>0.29</td>\n",
              "    </tr>\n",
              "    <tr>\n",
              "      <th>97</th>\n",
              "      <td>0.00</td>\n",
              "      <td>0.0</td>\n",
              "      <td>0.00</td>\n",
              "      <td>0.00</td>\n",
              "      <td>0.0</td>\n",
              "      <td>0.0</td>\n",
              "      <td>0.37</td>\n",
              "      <td>0.00</td>\n",
              "      <td>0.0</td>\n",
              "      <td>0.00</td>\n",
              "      <td>0.35</td>\n",
              "      <td>0.00</td>\n",
              "      <td>0.0</td>\n",
              "      <td>0.00</td>\n",
              "      <td>0.10</td>\n",
              "    </tr>\n",
              "    <tr>\n",
              "      <th>98</th>\n",
              "      <td>0.00</td>\n",
              "      <td>0.0</td>\n",
              "      <td>0.00</td>\n",
              "      <td>0.00</td>\n",
              "      <td>0.0</td>\n",
              "      <td>0.0</td>\n",
              "      <td>0.00</td>\n",
              "      <td>0.00</td>\n",
              "      <td>0.0</td>\n",
              "      <td>0.00</td>\n",
              "      <td>0.00</td>\n",
              "      <td>0.00</td>\n",
              "      <td>0.0</td>\n",
              "      <td>0.26</td>\n",
              "      <td>0.05</td>\n",
              "    </tr>\n",
              "    <tr>\n",
              "      <th>All</th>\n",
              "      <td>100.00</td>\n",
              "      <td>100.0</td>\n",
              "      <td>100.00</td>\n",
              "      <td>100.00</td>\n",
              "      <td>100.0</td>\n",
              "      <td>100.0</td>\n",
              "      <td>100.00</td>\n",
              "      <td>100.00</td>\n",
              "      <td>100.0</td>\n",
              "      <td>100.00</td>\n",
              "      <td>100.00</td>\n",
              "      <td>100.00</td>\n",
              "      <td>100.0</td>\n",
              "      <td>100.00</td>\n",
              "      <td>100.00</td>\n",
              "    </tr>\n",
              "  </tbody>\n",
              "</table>\n",
              "<p>105 rows × 15 columns</p>\n",
              "</div>"
            ],
            "text/plain": [
              "       Final Diagnosis                      ...                        \n",
              "                  CTVS CTVS-ICU Cardiology  ...    PSY SURGICAL     All\n",
              "Age                                         ...                        \n",
              "0.0027            0.00      0.0       0.00  ...    0.0     0.00    0.57\n",
              "0.082             0.00      0.0       0.00  ...    0.0     0.26    0.81\n",
              "0.33              0.00      0.0       0.00  ...    0.0     0.77    0.48\n",
              "0.5               0.00      0.0       0.00  ...    0.0     0.26    0.29\n",
              "0.91              0.00      0.0       0.00  ...    0.0     0.00    0.43\n",
              "...                ...      ...        ...  ...    ...      ...     ...\n",
              "95                2.04      0.0       0.75  ...    0.0     0.00    0.24\n",
              "96                0.00      0.0       1.50  ...    0.0     0.00    0.29\n",
              "97                0.00      0.0       0.00  ...    0.0     0.00    0.10\n",
              "98                0.00      0.0       0.00  ...    0.0     0.26    0.05\n",
              "All             100.00    100.0     100.00  ...  100.0   100.00  100.00\n",
              "\n",
              "[105 rows x 15 columns]"
            ]
          },
          "metadata": {
            "tags": []
          },
          "execution_count": 223
        }
      ]
    },
    {
      "cell_type": "code",
      "metadata": {
        "id": "Jv-B9I9xu0ZA",
        "colab_type": "code",
        "outputId": "6ed99f74-ff0d-4323-e560-ae898ae3e7b9",
        "colab": {
          "base_uri": "https://localhost:8080/",
          "height": 143
        }
      },
      "source": [
        "results"
      ],
      "execution_count": 224,
      "outputs": [
        {
          "output_type": "execute_result",
          "data": {
            "text/html": [
              "<div>\n",
              "<style scoped>\n",
              "    .dataframe tbody tr th:only-of-type {\n",
              "        vertical-align: middle;\n",
              "    }\n",
              "\n",
              "    .dataframe tbody tr th {\n",
              "        vertical-align: top;\n",
              "    }\n",
              "\n",
              "    .dataframe thead th {\n",
              "        text-align: right;\n",
              "    }\n",
              "</style>\n",
              "<table border=\"1\" class=\"dataframe\">\n",
              "  <thead>\n",
              "    <tr style=\"text-align: right;\">\n",
              "      <th></th>\n",
              "      <th>Chi-square test</th>\n",
              "      <th>results</th>\n",
              "    </tr>\n",
              "  </thead>\n",
              "  <tbody>\n",
              "    <tr>\n",
              "      <th>0</th>\n",
              "      <td>Pearson Chi-square ( 1339.0) =</td>\n",
              "      <td>1998.1908</td>\n",
              "    </tr>\n",
              "    <tr>\n",
              "      <th>1</th>\n",
              "      <td>p-value =</td>\n",
              "      <td>0.0000</td>\n",
              "    </tr>\n",
              "    <tr>\n",
              "      <th>2</th>\n",
              "      <td>Cramer's V =</td>\n",
              "      <td>0.2703</td>\n",
              "    </tr>\n",
              "  </tbody>\n",
              "</table>\n",
              "</div>"
            ],
            "text/plain": [
              "                   Chi-square test    results\n",
              "0  Pearson Chi-square ( 1339.0) =   1998.1908\n",
              "1                       p-value =      0.0000\n",
              "2                    Cramer's V =      0.2703"
            ]
          },
          "metadata": {
            "tags": []
          },
          "execution_count": 224
        }
      ]
    },
    {
      "cell_type": "code",
      "metadata": {
        "scrolled": true,
        "id": "JRpvp48Tu0ZE",
        "colab_type": "code",
        "outputId": "6946363b-b8a0-48be-cb2c-5940711e7ab4",
        "colab": {
          "base_uri": "https://localhost:8080/",
          "height": 487
        }
      },
      "source": [
        "table, results = rp.crosstab(nch['Age'],nch['Sex'], prop = 'col', test = 'chi-square')\n",
        "table"
      ],
      "execution_count": 225,
      "outputs": [
        {
          "output_type": "execute_result",
          "data": {
            "text/html": [
              "<div>\n",
              "<style scoped>\n",
              "    .dataframe tbody tr th:only-of-type {\n",
              "        vertical-align: middle;\n",
              "    }\n",
              "\n",
              "    .dataframe tbody tr th {\n",
              "        vertical-align: top;\n",
              "    }\n",
              "\n",
              "    .dataframe thead tr th {\n",
              "        text-align: left;\n",
              "    }\n",
              "\n",
              "    .dataframe thead tr:last-of-type th {\n",
              "        text-align: right;\n",
              "    }\n",
              "</style>\n",
              "<table border=\"1\" class=\"dataframe\">\n",
              "  <thead>\n",
              "    <tr>\n",
              "      <th></th>\n",
              "      <th colspan=\"3\" halign=\"left\">Sex</th>\n",
              "    </tr>\n",
              "    <tr>\n",
              "      <th></th>\n",
              "      <th>Female</th>\n",
              "      <th>Male</th>\n",
              "      <th>All</th>\n",
              "    </tr>\n",
              "    <tr>\n",
              "      <th>Age</th>\n",
              "      <th></th>\n",
              "      <th></th>\n",
              "      <th></th>\n",
              "    </tr>\n",
              "  </thead>\n",
              "  <tbody>\n",
              "    <tr>\n",
              "      <th>0.0027</th>\n",
              "      <td>0.52</td>\n",
              "      <td>0.64</td>\n",
              "      <td>0.57</td>\n",
              "    </tr>\n",
              "    <tr>\n",
              "      <th>0.082</th>\n",
              "      <td>0.60</td>\n",
              "      <td>1.06</td>\n",
              "      <td>0.81</td>\n",
              "    </tr>\n",
              "    <tr>\n",
              "      <th>0.33</th>\n",
              "      <td>0.34</td>\n",
              "      <td>0.64</td>\n",
              "      <td>0.48</td>\n",
              "    </tr>\n",
              "    <tr>\n",
              "      <th>0.5</th>\n",
              "      <td>0.17</td>\n",
              "      <td>0.43</td>\n",
              "      <td>0.29</td>\n",
              "    </tr>\n",
              "    <tr>\n",
              "      <th>0.91</th>\n",
              "      <td>0.17</td>\n",
              "      <td>0.74</td>\n",
              "      <td>0.43</td>\n",
              "    </tr>\n",
              "    <tr>\n",
              "      <th>...</th>\n",
              "      <td>...</td>\n",
              "      <td>...</td>\n",
              "      <td>...</td>\n",
              "    </tr>\n",
              "    <tr>\n",
              "      <th>95</th>\n",
              "      <td>0.34</td>\n",
              "      <td>0.11</td>\n",
              "      <td>0.24</td>\n",
              "    </tr>\n",
              "    <tr>\n",
              "      <th>96</th>\n",
              "      <td>0.09</td>\n",
              "      <td>0.53</td>\n",
              "      <td>0.29</td>\n",
              "    </tr>\n",
              "    <tr>\n",
              "      <th>97</th>\n",
              "      <td>0.09</td>\n",
              "      <td>0.11</td>\n",
              "      <td>0.10</td>\n",
              "    </tr>\n",
              "    <tr>\n",
              "      <th>98</th>\n",
              "      <td>0.00</td>\n",
              "      <td>0.11</td>\n",
              "      <td>0.05</td>\n",
              "    </tr>\n",
              "    <tr>\n",
              "      <th>All</th>\n",
              "      <td>100.00</td>\n",
              "      <td>100.00</td>\n",
              "      <td>100.00</td>\n",
              "    </tr>\n",
              "  </tbody>\n",
              "</table>\n",
              "<p>105 rows × 3 columns</p>\n",
              "</div>"
            ],
            "text/plain": [
              "           Sex                \n",
              "        Female    Male     All\n",
              "Age                           \n",
              "0.0027    0.52    0.64    0.57\n",
              "0.082     0.60    1.06    0.81\n",
              "0.33      0.34    0.64    0.48\n",
              "0.5       0.17    0.43    0.29\n",
              "0.91      0.17    0.74    0.43\n",
              "...        ...     ...     ...\n",
              "95        0.34    0.11    0.24\n",
              "96        0.09    0.53    0.29\n",
              "97        0.09    0.11    0.10\n",
              "98        0.00    0.11    0.05\n",
              "All     100.00  100.00  100.00\n",
              "\n",
              "[105 rows x 3 columns]"
            ]
          },
          "metadata": {
            "tags": []
          },
          "execution_count": 225
        }
      ]
    },
    {
      "cell_type": "code",
      "metadata": {
        "id": "2gxOKuvpu0ZI",
        "colab_type": "code",
        "outputId": "4b65df3f-85c6-4924-8fc5-ffcc669134a2",
        "colab": {
          "base_uri": "https://localhost:8080/",
          "height": 143
        }
      },
      "source": [
        "results"
      ],
      "execution_count": 226,
      "outputs": [
        {
          "output_type": "execute_result",
          "data": {
            "text/html": [
              "<div>\n",
              "<style scoped>\n",
              "    .dataframe tbody tr th:only-of-type {\n",
              "        vertical-align: middle;\n",
              "    }\n",
              "\n",
              "    .dataframe tbody tr th {\n",
              "        vertical-align: top;\n",
              "    }\n",
              "\n",
              "    .dataframe thead th {\n",
              "        text-align: right;\n",
              "    }\n",
              "</style>\n",
              "<table border=\"1\" class=\"dataframe\">\n",
              "  <thead>\n",
              "    <tr style=\"text-align: right;\">\n",
              "      <th></th>\n",
              "      <th>Chi-square test</th>\n",
              "      <th>results</th>\n",
              "    </tr>\n",
              "  </thead>\n",
              "  <tbody>\n",
              "    <tr>\n",
              "      <th>0</th>\n",
              "      <td>Pearson Chi-square ( 103.0) =</td>\n",
              "      <td>89.6720</td>\n",
              "    </tr>\n",
              "    <tr>\n",
              "      <th>1</th>\n",
              "      <td>p-value =</td>\n",
              "      <td>0.8225</td>\n",
              "    </tr>\n",
              "    <tr>\n",
              "      <th>2</th>\n",
              "      <td>Cramer's V =</td>\n",
              "      <td>0.2064</td>\n",
              "    </tr>\n",
              "  </tbody>\n",
              "</table>\n",
              "</div>"
            ],
            "text/plain": [
              "                  Chi-square test  results\n",
              "0  Pearson Chi-square ( 103.0) =   89.6720\n",
              "1                      p-value =    0.8225\n",
              "2                   Cramer's V =    0.2064"
            ]
          },
          "metadata": {
            "tags": []
          },
          "execution_count": 226
        }
      ]
    },
    {
      "cell_type": "code",
      "metadata": {
        "id": "NnM04_1Ju0ZO",
        "colab_type": "code",
        "outputId": "15de2f73-f688-4e0f-9055-9a682ef4eccb",
        "colab": {
          "base_uri": "https://localhost:8080/",
          "height": 524
        }
      },
      "source": [
        "table, results = rp.crosstab(nch['Age'],nch['Place'], prop = 'col', test = 'chi-square')\n",
        "table"
      ],
      "execution_count": 227,
      "outputs": [
        {
          "output_type": "execute_result",
          "data": {
            "text/html": [
              "<div>\n",
              "<style scoped>\n",
              "    .dataframe tbody tr th:only-of-type {\n",
              "        vertical-align: middle;\n",
              "    }\n",
              "\n",
              "    .dataframe tbody tr th {\n",
              "        vertical-align: top;\n",
              "    }\n",
              "\n",
              "    .dataframe thead tr th {\n",
              "        text-align: left;\n",
              "    }\n",
              "\n",
              "    .dataframe thead tr:last-of-type th {\n",
              "        text-align: right;\n",
              "    }\n",
              "</style>\n",
              "<table border=\"1\" class=\"dataframe\">\n",
              "  <thead>\n",
              "    <tr>\n",
              "      <th></th>\n",
              "      <th colspan=\"26\" halign=\"left\">Place</th>\n",
              "    </tr>\n",
              "    <tr>\n",
              "      <th></th>\n",
              "      <th>Arghakhanchi</th>\n",
              "      <th>Bagmati</th>\n",
              "      <th>Bara</th>\n",
              "      <th>Bheri</th>\n",
              "      <th>Chitwan &amp; Parsa</th>\n",
              "      <th>Dhaulagiri</th>\n",
              "      <th>Gandaki</th>\n",
              "      <th>Gulmi</th>\n",
              "      <th>Janakpur</th>\n",
              "      <th>Kapilvastu</th>\n",
              "      <th>Karnali</th>\n",
              "      <th>Koshi</th>\n",
              "      <th>Mahakali</th>\n",
              "      <th>Makwanpur</th>\n",
              "      <th>Mechi</th>\n",
              "      <th>Nawalparasi</th>\n",
              "      <th>Outside country</th>\n",
              "      <th>Palpa</th>\n",
              "      <th>Rapti</th>\n",
              "      <th>Rautahat</th>\n",
              "      <th>Rupandehi</th>\n",
              "      <th>Sagarmatha</th>\n",
              "      <th>Sankhuwashava</th>\n",
              "      <th>Seti</th>\n",
              "      <th>Sindhupalchowk</th>\n",
              "      <th>All</th>\n",
              "    </tr>\n",
              "    <tr>\n",
              "      <th>Age</th>\n",
              "      <th></th>\n",
              "      <th></th>\n",
              "      <th></th>\n",
              "      <th></th>\n",
              "      <th></th>\n",
              "      <th></th>\n",
              "      <th></th>\n",
              "      <th></th>\n",
              "      <th></th>\n",
              "      <th></th>\n",
              "      <th></th>\n",
              "      <th></th>\n",
              "      <th></th>\n",
              "      <th></th>\n",
              "      <th></th>\n",
              "      <th></th>\n",
              "      <th></th>\n",
              "      <th></th>\n",
              "      <th></th>\n",
              "      <th></th>\n",
              "      <th></th>\n",
              "      <th></th>\n",
              "      <th></th>\n",
              "      <th></th>\n",
              "      <th></th>\n",
              "      <th></th>\n",
              "    </tr>\n",
              "  </thead>\n",
              "  <tbody>\n",
              "    <tr>\n",
              "      <th>0.0027</th>\n",
              "      <td>0.0</td>\n",
              "      <td>1.35</td>\n",
              "      <td>0.00</td>\n",
              "      <td>0.0</td>\n",
              "      <td>0.87</td>\n",
              "      <td>1.45</td>\n",
              "      <td>0.00</td>\n",
              "      <td>0.0</td>\n",
              "      <td>0.73</td>\n",
              "      <td>0.0</td>\n",
              "      <td>0.0</td>\n",
              "      <td>0.0</td>\n",
              "      <td>0.0</td>\n",
              "      <td>0.99</td>\n",
              "      <td>5.56</td>\n",
              "      <td>0.00</td>\n",
              "      <td>0.0</td>\n",
              "      <td>0.00</td>\n",
              "      <td>2.27</td>\n",
              "      <td>1.08</td>\n",
              "      <td>0.00</td>\n",
              "      <td>0.0</td>\n",
              "      <td>0.0</td>\n",
              "      <td>0.00</td>\n",
              "      <td>0.0</td>\n",
              "      <td>0.57</td>\n",
              "    </tr>\n",
              "    <tr>\n",
              "      <th>0.082</th>\n",
              "      <td>0.0</td>\n",
              "      <td>1.35</td>\n",
              "      <td>0.79</td>\n",
              "      <td>0.0</td>\n",
              "      <td>1.17</td>\n",
              "      <td>0.00</td>\n",
              "      <td>0.83</td>\n",
              "      <td>0.0</td>\n",
              "      <td>1.46</td>\n",
              "      <td>0.0</td>\n",
              "      <td>0.0</td>\n",
              "      <td>0.0</td>\n",
              "      <td>0.0</td>\n",
              "      <td>0.00</td>\n",
              "      <td>0.00</td>\n",
              "      <td>0.35</td>\n",
              "      <td>0.0</td>\n",
              "      <td>6.25</td>\n",
              "      <td>0.00</td>\n",
              "      <td>0.00</td>\n",
              "      <td>1.43</td>\n",
              "      <td>4.0</td>\n",
              "      <td>0.0</td>\n",
              "      <td>0.00</td>\n",
              "      <td>25.0</td>\n",
              "      <td>0.81</td>\n",
              "    </tr>\n",
              "    <tr>\n",
              "      <th>0.33</th>\n",
              "      <td>0.0</td>\n",
              "      <td>1.35</td>\n",
              "      <td>0.00</td>\n",
              "      <td>0.0</td>\n",
              "      <td>0.87</td>\n",
              "      <td>0.00</td>\n",
              "      <td>0.55</td>\n",
              "      <td>0.0</td>\n",
              "      <td>0.73</td>\n",
              "      <td>0.0</td>\n",
              "      <td>0.0</td>\n",
              "      <td>0.0</td>\n",
              "      <td>0.0</td>\n",
              "      <td>0.50</td>\n",
              "      <td>0.00</td>\n",
              "      <td>0.35</td>\n",
              "      <td>0.0</td>\n",
              "      <td>0.00</td>\n",
              "      <td>0.00</td>\n",
              "      <td>1.08</td>\n",
              "      <td>0.00</td>\n",
              "      <td>0.0</td>\n",
              "      <td>0.0</td>\n",
              "      <td>0.00</td>\n",
              "      <td>0.0</td>\n",
              "      <td>0.48</td>\n",
              "    </tr>\n",
              "    <tr>\n",
              "      <th>0.5</th>\n",
              "      <td>0.0</td>\n",
              "      <td>0.00</td>\n",
              "      <td>0.79</td>\n",
              "      <td>0.0</td>\n",
              "      <td>0.58</td>\n",
              "      <td>0.00</td>\n",
              "      <td>0.00</td>\n",
              "      <td>0.0</td>\n",
              "      <td>0.73</td>\n",
              "      <td>0.0</td>\n",
              "      <td>0.0</td>\n",
              "      <td>5.0</td>\n",
              "      <td>0.0</td>\n",
              "      <td>0.50</td>\n",
              "      <td>0.00</td>\n",
              "      <td>0.00</td>\n",
              "      <td>0.0</td>\n",
              "      <td>0.00</td>\n",
              "      <td>0.00</td>\n",
              "      <td>0.00</td>\n",
              "      <td>0.00</td>\n",
              "      <td>0.0</td>\n",
              "      <td>0.0</td>\n",
              "      <td>0.00</td>\n",
              "      <td>0.0</td>\n",
              "      <td>0.29</td>\n",
              "    </tr>\n",
              "    <tr>\n",
              "      <th>0.91</th>\n",
              "      <td>0.0</td>\n",
              "      <td>0.00</td>\n",
              "      <td>0.79</td>\n",
              "      <td>0.0</td>\n",
              "      <td>0.58</td>\n",
              "      <td>0.00</td>\n",
              "      <td>0.00</td>\n",
              "      <td>0.0</td>\n",
              "      <td>0.73</td>\n",
              "      <td>0.0</td>\n",
              "      <td>0.0</td>\n",
              "      <td>5.0</td>\n",
              "      <td>0.0</td>\n",
              "      <td>0.50</td>\n",
              "      <td>0.00</td>\n",
              "      <td>0.00</td>\n",
              "      <td>0.0</td>\n",
              "      <td>0.00</td>\n",
              "      <td>1.14</td>\n",
              "      <td>1.08</td>\n",
              "      <td>0.00</td>\n",
              "      <td>0.0</td>\n",
              "      <td>0.0</td>\n",
              "      <td>7.14</td>\n",
              "      <td>0.0</td>\n",
              "      <td>0.43</td>\n",
              "    </tr>\n",
              "    <tr>\n",
              "      <th>...</th>\n",
              "      <td>...</td>\n",
              "      <td>...</td>\n",
              "      <td>...</td>\n",
              "      <td>...</td>\n",
              "      <td>...</td>\n",
              "      <td>...</td>\n",
              "      <td>...</td>\n",
              "      <td>...</td>\n",
              "      <td>...</td>\n",
              "      <td>...</td>\n",
              "      <td>...</td>\n",
              "      <td>...</td>\n",
              "      <td>...</td>\n",
              "      <td>...</td>\n",
              "      <td>...</td>\n",
              "      <td>...</td>\n",
              "      <td>...</td>\n",
              "      <td>...</td>\n",
              "      <td>...</td>\n",
              "      <td>...</td>\n",
              "      <td>...</td>\n",
              "      <td>...</td>\n",
              "      <td>...</td>\n",
              "      <td>...</td>\n",
              "      <td>...</td>\n",
              "      <td>...</td>\n",
              "    </tr>\n",
              "    <tr>\n",
              "      <th>95</th>\n",
              "      <td>0.0</td>\n",
              "      <td>0.00</td>\n",
              "      <td>0.00</td>\n",
              "      <td>0.0</td>\n",
              "      <td>1.17</td>\n",
              "      <td>0.00</td>\n",
              "      <td>0.28</td>\n",
              "      <td>0.0</td>\n",
              "      <td>0.00</td>\n",
              "      <td>0.0</td>\n",
              "      <td>0.0</td>\n",
              "      <td>0.0</td>\n",
              "      <td>0.0</td>\n",
              "      <td>0.00</td>\n",
              "      <td>0.00</td>\n",
              "      <td>0.00</td>\n",
              "      <td>0.0</td>\n",
              "      <td>0.00</td>\n",
              "      <td>0.00</td>\n",
              "      <td>0.00</td>\n",
              "      <td>0.00</td>\n",
              "      <td>0.0</td>\n",
              "      <td>0.0</td>\n",
              "      <td>0.00</td>\n",
              "      <td>0.0</td>\n",
              "      <td>0.24</td>\n",
              "    </tr>\n",
              "    <tr>\n",
              "      <th>96</th>\n",
              "      <td>0.0</td>\n",
              "      <td>0.00</td>\n",
              "      <td>0.79</td>\n",
              "      <td>0.0</td>\n",
              "      <td>0.87</td>\n",
              "      <td>0.00</td>\n",
              "      <td>0.00</td>\n",
              "      <td>0.0</td>\n",
              "      <td>0.00</td>\n",
              "      <td>0.0</td>\n",
              "      <td>0.0</td>\n",
              "      <td>0.0</td>\n",
              "      <td>0.0</td>\n",
              "      <td>0.00</td>\n",
              "      <td>0.00</td>\n",
              "      <td>0.71</td>\n",
              "      <td>0.0</td>\n",
              "      <td>0.00</td>\n",
              "      <td>0.00</td>\n",
              "      <td>0.00</td>\n",
              "      <td>0.00</td>\n",
              "      <td>0.0</td>\n",
              "      <td>0.0</td>\n",
              "      <td>0.00</td>\n",
              "      <td>0.0</td>\n",
              "      <td>0.29</td>\n",
              "    </tr>\n",
              "    <tr>\n",
              "      <th>97</th>\n",
              "      <td>0.0</td>\n",
              "      <td>0.00</td>\n",
              "      <td>0.00</td>\n",
              "      <td>0.0</td>\n",
              "      <td>0.58</td>\n",
              "      <td>0.00</td>\n",
              "      <td>0.00</td>\n",
              "      <td>0.0</td>\n",
              "      <td>0.00</td>\n",
              "      <td>0.0</td>\n",
              "      <td>0.0</td>\n",
              "      <td>0.0</td>\n",
              "      <td>0.0</td>\n",
              "      <td>0.00</td>\n",
              "      <td>0.00</td>\n",
              "      <td>0.00</td>\n",
              "      <td>0.0</td>\n",
              "      <td>0.00</td>\n",
              "      <td>0.00</td>\n",
              "      <td>0.00</td>\n",
              "      <td>0.00</td>\n",
              "      <td>0.0</td>\n",
              "      <td>0.0</td>\n",
              "      <td>0.00</td>\n",
              "      <td>0.0</td>\n",
              "      <td>0.10</td>\n",
              "    </tr>\n",
              "    <tr>\n",
              "      <th>98</th>\n",
              "      <td>0.0</td>\n",
              "      <td>0.00</td>\n",
              "      <td>0.00</td>\n",
              "      <td>0.0</td>\n",
              "      <td>0.29</td>\n",
              "      <td>0.00</td>\n",
              "      <td>0.00</td>\n",
              "      <td>0.0</td>\n",
              "      <td>0.00</td>\n",
              "      <td>0.0</td>\n",
              "      <td>0.0</td>\n",
              "      <td>0.0</td>\n",
              "      <td>0.0</td>\n",
              "      <td>0.00</td>\n",
              "      <td>0.00</td>\n",
              "      <td>0.00</td>\n",
              "      <td>0.0</td>\n",
              "      <td>0.00</td>\n",
              "      <td>0.00</td>\n",
              "      <td>0.00</td>\n",
              "      <td>0.00</td>\n",
              "      <td>0.0</td>\n",
              "      <td>0.0</td>\n",
              "      <td>0.00</td>\n",
              "      <td>0.0</td>\n",
              "      <td>0.05</td>\n",
              "    </tr>\n",
              "    <tr>\n",
              "      <th>All</th>\n",
              "      <td>100.0</td>\n",
              "      <td>100.00</td>\n",
              "      <td>100.00</td>\n",
              "      <td>100.0</td>\n",
              "      <td>100.00</td>\n",
              "      <td>100.00</td>\n",
              "      <td>100.00</td>\n",
              "      <td>100.0</td>\n",
              "      <td>100.00</td>\n",
              "      <td>100.0</td>\n",
              "      <td>100.0</td>\n",
              "      <td>100.0</td>\n",
              "      <td>100.0</td>\n",
              "      <td>100.00</td>\n",
              "      <td>100.00</td>\n",
              "      <td>100.00</td>\n",
              "      <td>100.0</td>\n",
              "      <td>100.00</td>\n",
              "      <td>100.00</td>\n",
              "      <td>100.00</td>\n",
              "      <td>100.00</td>\n",
              "      <td>100.0</td>\n",
              "      <td>100.0</td>\n",
              "      <td>100.00</td>\n",
              "      <td>100.0</td>\n",
              "      <td>100.00</td>\n",
              "    </tr>\n",
              "  </tbody>\n",
              "</table>\n",
              "<p>105 rows × 26 columns</p>\n",
              "</div>"
            ],
            "text/plain": [
              "               Place                  ...                                \n",
              "        Arghakhanchi Bagmati    Bara  ...    Seti Sindhupalchowk      All\n",
              "Age                                   ...                                \n",
              "0.0027           0.0    1.35    0.00  ...    0.00             0.0    0.57\n",
              "0.082            0.0    1.35    0.79  ...    0.00            25.0    0.81\n",
              "0.33             0.0    1.35    0.00  ...    0.00             0.0    0.48\n",
              "0.5              0.0    0.00    0.79  ...    0.00             0.0    0.29\n",
              "0.91             0.0    0.00    0.79  ...    7.14             0.0    0.43\n",
              "...              ...     ...     ...  ...     ...             ...     ...\n",
              "95               0.0    0.00    0.00  ...    0.00             0.0    0.24\n",
              "96               0.0    0.00    0.79  ...    0.00             0.0    0.29\n",
              "97               0.0    0.00    0.00  ...    0.00             0.0    0.10\n",
              "98               0.0    0.00    0.00  ...    0.00             0.0    0.05\n",
              "All            100.0  100.00  100.00  ...  100.00           100.0  100.00\n",
              "\n",
              "[105 rows x 26 columns]"
            ]
          },
          "metadata": {
            "tags": []
          },
          "execution_count": 227
        }
      ]
    },
    {
      "cell_type": "code",
      "metadata": {
        "id": "smRAqK2Iu0ZT",
        "colab_type": "code",
        "outputId": "230703ef-362a-4d98-a158-415d8486e98f",
        "colab": {
          "base_uri": "https://localhost:8080/",
          "height": 143
        }
      },
      "source": [
        "results"
      ],
      "execution_count": 228,
      "outputs": [
        {
          "output_type": "execute_result",
          "data": {
            "text/html": [
              "<div>\n",
              "<style scoped>\n",
              "    .dataframe tbody tr th:only-of-type {\n",
              "        vertical-align: middle;\n",
              "    }\n",
              "\n",
              "    .dataframe tbody tr th {\n",
              "        vertical-align: top;\n",
              "    }\n",
              "\n",
              "    .dataframe thead th {\n",
              "        text-align: right;\n",
              "    }\n",
              "</style>\n",
              "<table border=\"1\" class=\"dataframe\">\n",
              "  <thead>\n",
              "    <tr style=\"text-align: right;\">\n",
              "      <th></th>\n",
              "      <th>Chi-square test</th>\n",
              "      <th>results</th>\n",
              "    </tr>\n",
              "  </thead>\n",
              "  <tbody>\n",
              "    <tr>\n",
              "      <th>0</th>\n",
              "      <td>Pearson Chi-square ( 2472.0) =</td>\n",
              "      <td>2136.9486</td>\n",
              "    </tr>\n",
              "    <tr>\n",
              "      <th>1</th>\n",
              "      <td>p-value =</td>\n",
              "      <td>1.0000</td>\n",
              "    </tr>\n",
              "    <tr>\n",
              "      <th>2</th>\n",
              "      <td>Cramer's V =</td>\n",
              "      <td>0.2057</td>\n",
              "    </tr>\n",
              "  </tbody>\n",
              "</table>\n",
              "</div>"
            ],
            "text/plain": [
              "                   Chi-square test    results\n",
              "0  Pearson Chi-square ( 2472.0) =   2136.9486\n",
              "1                       p-value =      1.0000\n",
              "2                    Cramer's V =      0.2057"
            ]
          },
          "metadata": {
            "tags": []
          },
          "execution_count": 228
        }
      ]
    },
    {
      "cell_type": "code",
      "metadata": {
        "id": "ZBlwH8wmu0ZX",
        "colab_type": "code",
        "outputId": "a176783c-fb46-467a-97aa-e04b8b006208",
        "colab": {
          "base_uri": "https://localhost:8080/",
          "height": 143
        }
      },
      "source": [
        "table, results = rp.crosstab(nch['Sex'],nch['Final Diagnosis'], prop = 'col', test = 'chi-square')\n",
        "table\n",
        "results\n"
      ],
      "execution_count": 229,
      "outputs": [
        {
          "output_type": "execute_result",
          "data": {
            "text/html": [
              "<div>\n",
              "<style scoped>\n",
              "    .dataframe tbody tr th:only-of-type {\n",
              "        vertical-align: middle;\n",
              "    }\n",
              "\n",
              "    .dataframe tbody tr th {\n",
              "        vertical-align: top;\n",
              "    }\n",
              "\n",
              "    .dataframe thead th {\n",
              "        text-align: right;\n",
              "    }\n",
              "</style>\n",
              "<table border=\"1\" class=\"dataframe\">\n",
              "  <thead>\n",
              "    <tr style=\"text-align: right;\">\n",
              "      <th></th>\n",
              "      <th>Chi-square test</th>\n",
              "      <th>results</th>\n",
              "    </tr>\n",
              "  </thead>\n",
              "  <tbody>\n",
              "    <tr>\n",
              "      <th>0</th>\n",
              "      <td>Pearson Chi-square ( 13.0) =</td>\n",
              "      <td>168.5257</td>\n",
              "    </tr>\n",
              "    <tr>\n",
              "      <th>1</th>\n",
              "      <td>p-value =</td>\n",
              "      <td>0.0000</td>\n",
              "    </tr>\n",
              "    <tr>\n",
              "      <th>2</th>\n",
              "      <td>Cramer's V =</td>\n",
              "      <td>0.2830</td>\n",
              "    </tr>\n",
              "  </tbody>\n",
              "</table>\n",
              "</div>"
            ],
            "text/plain": [
              "                 Chi-square test   results\n",
              "0  Pearson Chi-square ( 13.0) =   168.5257\n",
              "1                     p-value =     0.0000\n",
              "2                  Cramer's V =     0.2830"
            ]
          },
          "metadata": {
            "tags": []
          },
          "execution_count": 229
        }
      ]
    },
    {
      "cell_type": "code",
      "metadata": {
        "id": "yF74Wvapu0Zf",
        "colab_type": "code",
        "outputId": "9a91b89e-5a9b-4d32-c7a2-4545633f7d24",
        "colab": {
          "base_uri": "https://localhost:8080/",
          "height": 143
        }
      },
      "source": [
        "table, results = rp.crosstab(nch['Place'],nch['Final Diagnosis'], prop = 'col', test = 'chi-square')\n",
        "results"
      ],
      "execution_count": 230,
      "outputs": [
        {
          "output_type": "execute_result",
          "data": {
            "text/html": [
              "<div>\n",
              "<style scoped>\n",
              "    .dataframe tbody tr th:only-of-type {\n",
              "        vertical-align: middle;\n",
              "    }\n",
              "\n",
              "    .dataframe tbody tr th {\n",
              "        vertical-align: top;\n",
              "    }\n",
              "\n",
              "    .dataframe thead th {\n",
              "        text-align: right;\n",
              "    }\n",
              "</style>\n",
              "<table border=\"1\" class=\"dataframe\">\n",
              "  <thead>\n",
              "    <tr style=\"text-align: right;\">\n",
              "      <th></th>\n",
              "      <th>Chi-square test</th>\n",
              "      <th>results</th>\n",
              "    </tr>\n",
              "  </thead>\n",
              "  <tbody>\n",
              "    <tr>\n",
              "      <th>0</th>\n",
              "      <td>Pearson Chi-square ( 312.0) =</td>\n",
              "      <td>749.1463</td>\n",
              "    </tr>\n",
              "    <tr>\n",
              "      <th>1</th>\n",
              "      <td>p-value =</td>\n",
              "      <td>0.0000</td>\n",
              "    </tr>\n",
              "    <tr>\n",
              "      <th>2</th>\n",
              "      <td>Cramer's V =</td>\n",
              "      <td>0.1655</td>\n",
              "    </tr>\n",
              "  </tbody>\n",
              "</table>\n",
              "</div>"
            ],
            "text/plain": [
              "                  Chi-square test   results\n",
              "0  Pearson Chi-square ( 312.0) =   749.1463\n",
              "1                      p-value =     0.0000\n",
              "2                   Cramer's V =     0.1655"
            ]
          },
          "metadata": {
            "tags": []
          },
          "execution_count": 230
        }
      ]
    },
    {
      "cell_type": "code",
      "metadata": {
        "id": "VMHo4kc1u0Zn",
        "colab_type": "code",
        "outputId": "84168420-d9c0-447c-a93e-b3974f0046fd",
        "colab": {
          "base_uri": "https://localhost:8080/",
          "height": 298
        }
      },
      "source": [
        "Age_count = nch['Age'].value_counts()\n",
        "sns.set(style=\"darkgrid\")\n",
        "sns.barplot(Age_count.index, Age_count.values, alpha=0.9)\n",
        "plt.title('Distribution of Age')\n",
        "plt.ylabel('Number of Occurrence', fontsize = 10)\n",
        "plt.xlabel('Age', fontsize =10)\n",
        "plt.show()"
      ],
      "execution_count": 231,
      "outputs": [
        {
          "output_type": "display_data",
          "data": {
            "image/png": "[encoded data removed]",
            "text/plain": [
              "<Figure size 432x288 with 1 Axes>"
            ]
          },
          "metadata": {
            "tags": []
          }
        }
      ]
    },
    {
      "cell_type": "code",
      "metadata": {
        "id": "ucuARVXUu0Zs",
        "colab_type": "code",
        "outputId": "1db8d281-b898-4f96-b104-532ddc9c6bfb",
        "colab": {
          "base_uri": "https://localhost:8080/",
          "height": 298
        }
      },
      "source": [
        "nch = nch.rename(columns= {'Final Diagnosis': 'FinalDiagnosis'})\n",
        "FinalDiagnosis_count = nch['FinalDiagnosis'].value_counts()\n",
        "sns.set(style=\"darkgrid\")\n",
        "sns.barplot(FinalDiagnosis_count.index, FinalDiagnosis_count.values, alpha=0.9)\n",
        "plt.title('Final Diagnosis Distribution')\n",
        "plt.ylabel('Number of Occurrence', fontsize = 10 )\n",
        "plt.xlabel('Final Diagnosis', fontsize = 10)\n",
        "plt.show()"
      ],
      "execution_count": 232,
      "outputs": [
        {
          "output_type": "display_data",
          "data": {
            "image/png": "[encoded data removed]",
            "text/plain": [
              "<Figure size 432x288 with 1 Axes>"
            ]
          },
          "metadata": {
            "tags": []
          }
        }
      ]
    },
    {
      "cell_type": "code",
      "metadata": {
        "id": "2zX7F2lgu0Zw",
        "colab_type": "code",
        "outputId": "789e6056-91b8-42b0-a588-75cb5cddd86e",
        "colab": {
          "base_uri": "https://localhost:8080/",
          "height": 298
        }
      },
      "source": [
        "Sex_count = nch['Sex'].value_counts()\n",
        "sns.set(style=\"darkgrid\")\n",
        "sns.barplot(Sex_count.index, Sex_count.values, alpha=0.9)\n",
        "plt.title('Sex distribution')\n",
        "plt.ylabel('Number of occurrence', fontsize = 10)\n",
        "plt.xlabel('Sex', fontsize = 10)\n",
        "plt.show()"
      ],
      "execution_count": 233,
      "outputs": [
        {
          "output_type": "display_data",
          "data": {
            "image/png": "[encoded data removed]",
            "text/plain": [
              "<Figure size 432x288 with 1 Axes>"
            ]
          },
          "metadata": {
            "tags": []
          }
        }
      ]
    },
    {
      "cell_type": "code",
      "metadata": {
        "id": "EKu4DjBpu0Z0",
        "colab_type": "code",
        "outputId": "19a0b315-bf86-4df1-a233-8364c2348266",
        "colab": {
          "base_uri": "https://localhost:8080/",
          "height": 69
        }
      },
      "source": [
        "nch[\"Sex\"].value_counts()"
      ],
      "execution_count": 234,
      "outputs": [
        {
          "output_type": "execute_result",
          "data": {
            "text/plain": [
              "Female    1163\n",
              "Male       941\n",
              "Name: Sex, dtype: int64"
            ]
          },
          "metadata": {
            "tags": []
          },
          "execution_count": 234
        }
      ]
    },
    {
      "cell_type": "code",
      "metadata": {
        "id": "4fPW4hRJu0Z4",
        "colab_type": "code",
        "colab": {}
      },
      "source": [
        "from sklearn.preprocessing import LabelEncoder #change sex to numerical by label encoder\n",
        "number = LabelEncoder()\n",
        "nch[\"Sex\"] = number.fit_transform(nch[\"Sex\"].astype('str'))"
      ],
      "execution_count": 0,
      "outputs": []
    },
    {
      "cell_type": "code",
      "metadata": {
        "id": "m8vgyjVFu0Z7",
        "colab_type": "code",
        "outputId": "a4ded361-f960-408d-c0e7-931315b5350c",
        "colab": {
          "base_uri": "https://localhost:8080/",
          "height": 69
        }
      },
      "source": [
        "nch[\"Sex\"].value_counts()"
      ],
      "execution_count": 236,
      "outputs": [
        {
          "output_type": "execute_result",
          "data": {
            "text/plain": [
              "0    1163\n",
              "1     941\n",
              "Name: Sex, dtype: int64"
            ]
          },
          "metadata": {
            "tags": []
          },
          "execution_count": 236
        }
      ]
    },
    {
      "cell_type": "code",
      "metadata": {
        "id": "qGjGaCLVu0aB",
        "colab_type": "code",
        "outputId": "ec30e51e-3c47-4d17-ea3c-d36b6074481c",
        "colab": {
          "base_uri": "https://localhost:8080/",
          "height": 363
        }
      },
      "source": [
        "nch.head(10)"
      ],
      "execution_count": 237,
      "outputs": [
        {
          "output_type": "execute_result",
          "data": {
            "text/html": [
              "<div>\n",
              "<style scoped>\n",
              "    .dataframe tbody tr th:only-of-type {\n",
              "        vertical-align: middle;\n",
              "    }\n",
              "\n",
              "    .dataframe tbody tr th {\n",
              "        vertical-align: top;\n",
              "    }\n",
              "\n",
              "    .dataframe thead th {\n",
              "        text-align: right;\n",
              "    }\n",
              "</style>\n",
              "<table border=\"1\" class=\"dataframe\">\n",
              "  <thead>\n",
              "    <tr style=\"text-align: right;\">\n",
              "      <th></th>\n",
              "      <th>Age</th>\n",
              "      <th>Sex</th>\n",
              "      <th>Place</th>\n",
              "      <th>FinalDiagnosis</th>\n",
              "    </tr>\n",
              "  </thead>\n",
              "  <tbody>\n",
              "    <tr>\n",
              "      <th>28</th>\n",
              "      <td>77</td>\n",
              "      <td>0</td>\n",
              "      <td>Chitwan &amp; Parsa</td>\n",
              "      <td>Gynaecology</td>\n",
              "    </tr>\n",
              "    <tr>\n",
              "      <th>29</th>\n",
              "      <td>31</td>\n",
              "      <td>0</td>\n",
              "      <td>Rupandehi</td>\n",
              "      <td>Gynaecology</td>\n",
              "    </tr>\n",
              "    <tr>\n",
              "      <th>37</th>\n",
              "      <td>30</td>\n",
              "      <td>0</td>\n",
              "      <td>Seti</td>\n",
              "      <td>Gynaecology</td>\n",
              "    </tr>\n",
              "    <tr>\n",
              "      <th>80</th>\n",
              "      <td>27</td>\n",
              "      <td>0</td>\n",
              "      <td>Rautahat</td>\n",
              "      <td>Gynaecology</td>\n",
              "    </tr>\n",
              "    <tr>\n",
              "      <th>123</th>\n",
              "      <td>66</td>\n",
              "      <td>0</td>\n",
              "      <td>Nawalparasi</td>\n",
              "      <td>Gynaecology</td>\n",
              "    </tr>\n",
              "    <tr>\n",
              "      <th>124</th>\n",
              "      <td>73</td>\n",
              "      <td>0</td>\n",
              "      <td>Nawalparasi</td>\n",
              "      <td>Gynaecology</td>\n",
              "    </tr>\n",
              "    <tr>\n",
              "      <th>150</th>\n",
              "      <td>48</td>\n",
              "      <td>0</td>\n",
              "      <td>Dhaulagiri</td>\n",
              "      <td>Gynaecology</td>\n",
              "    </tr>\n",
              "    <tr>\n",
              "      <th>160</th>\n",
              "      <td>49</td>\n",
              "      <td>0</td>\n",
              "      <td>Kapilvastu</td>\n",
              "      <td>Gynaecology</td>\n",
              "    </tr>\n",
              "    <tr>\n",
              "      <th>181</th>\n",
              "      <td>21</td>\n",
              "      <td>0</td>\n",
              "      <td>Rupandehi</td>\n",
              "      <td>Gynaecology</td>\n",
              "    </tr>\n",
              "    <tr>\n",
              "      <th>188</th>\n",
              "      <td>51</td>\n",
              "      <td>0</td>\n",
              "      <td>Makwanpur</td>\n",
              "      <td>Gynaecology</td>\n",
              "    </tr>\n",
              "  </tbody>\n",
              "</table>\n",
              "</div>"
            ],
            "text/plain": [
              "    Age  Sex            Place FinalDiagnosis\n",
              "28   77    0  Chitwan & Parsa    Gynaecology\n",
              "29   31    0        Rupandehi    Gynaecology\n",
              "37   30    0             Seti    Gynaecology\n",
              "80   27    0         Rautahat    Gynaecology\n",
              "123  66    0      Nawalparasi    Gynaecology\n",
              "124  73    0      Nawalparasi    Gynaecology\n",
              "150  48    0       Dhaulagiri    Gynaecology\n",
              "160  49    0       Kapilvastu    Gynaecology\n",
              "181  21    0        Rupandehi    Gynaecology\n",
              "188  51    0        Makwanpur    Gynaecology"
            ]
          },
          "metadata": {
            "tags": []
          },
          "execution_count": 237
        }
      ]
    },
    {
      "cell_type": "code",
      "metadata": {
        "id": "Z5woCuppu0aE",
        "colab_type": "code",
        "outputId": "a0270a5f-95e2-4325-fcd0-20e961e45d08",
        "colab": {
          "base_uri": "https://localhost:8080/",
          "height": 278
        }
      },
      "source": [
        "nch['FinalDiagnosis'].value_counts()"
      ],
      "execution_count": 238,
      "outputs": [
        {
          "output_type": "execute_result",
          "data": {
            "text/plain": [
              "MED               398\n",
              "SURGICAL          392\n",
              "ORTHO             284\n",
              "ICU               268\n",
              "Gynaecology       175\n",
              "Cardiology        133\n",
              "PED               126\n",
              "PSY               104\n",
              "Clinical           58\n",
              "CTVS               49\n",
              "NICU               44\n",
              "Cardiology ICU     32\n",
              "CTVS-ICU           23\n",
              "NEURO              18\n",
              "Name: FinalDiagnosis, dtype: int64"
            ]
          },
          "metadata": {
            "tags": []
          },
          "execution_count": 238
        }
      ]
    },
    {
      "cell_type": "code",
      "metadata": {
        "id": "0Paq_Hufu0aJ",
        "colab_type": "code",
        "outputId": "aabac4a5-8afe-4a46-b5cf-1355f3bdf655",
        "colab": {
          "base_uri": "https://localhost:8080/",
          "height": 34
        }
      },
      "source": [
        "print(nch['FinalDiagnosis'].dtypes)"
      ],
      "execution_count": 239,
      "outputs": [
        {
          "output_type": "stream",
          "text": [
            "object\n"
          ],
          "name": "stdout"
        }
      ]
    },
    {
      "cell_type": "code",
      "metadata": {
        "id": "6IyickPKu0aN",
        "colab_type": "code",
        "colab": {}
      },
      "source": [
        "nch['Age'] = nch.Age.astype(float)"
      ],
      "execution_count": 0,
      "outputs": []
    },
    {
      "cell_type": "code",
      "metadata": {
        "id": "CPg8uirsu0aU",
        "colab_type": "code",
        "outputId": "f6b14365-11e0-4d02-9c59-9fe9b63ae393",
        "colab": {
          "base_uri": "https://localhost:8080/",
          "height": 34
        }
      },
      "source": [
        "print(nch['Sex'].dtypes)"
      ],
      "execution_count": 241,
      "outputs": [
        {
          "output_type": "stream",
          "text": [
            "int64\n"
          ],
          "name": "stdout"
        }
      ]
    },
    {
      "cell_type": "code",
      "metadata": {
        "id": "1el7FMywu0ab",
        "colab_type": "code",
        "outputId": "71c794b5-219c-42d6-b7f5-ab47e1a31702",
        "colab": {
          "base_uri": "https://localhost:8080/",
          "height": 34
        }
      },
      "source": [
        "print(nch['Place'].dtypes)"
      ],
      "execution_count": 242,
      "outputs": [
        {
          "output_type": "stream",
          "text": [
            "object\n"
          ],
          "name": "stdout"
        }
      ]
    },
    {
      "cell_type": "code",
      "metadata": {
        "id": "-EgBIB9Zu0ai",
        "colab_type": "code",
        "outputId": "29960b78-b85c-42de-8be9-05549d7cf8d7",
        "colab": {
          "base_uri": "https://localhost:8080/",
          "height": 34
        }
      },
      "source": [
        "print(nch['Age'].dtypes)"
      ],
      "execution_count": 243,
      "outputs": [
        {
          "output_type": "stream",
          "text": [
            "float64\n"
          ],
          "name": "stdout"
        }
      ]
    },
    {
      "cell_type": "code",
      "metadata": {
        "id": "pctzaDAMu0am",
        "colab_type": "code",
        "outputId": "3e2a8c5e-c2bf-4d35-b3ab-42b9c2911fc8",
        "colab": {
          "base_uri": "https://localhost:8080/",
          "height": 315
        }
      },
      "source": [
        "nch['Age'].value_counts().plot.bar()"
      ],
      "execution_count": 244,
      "outputs": [
        {
          "output_type": "execute_result",
          "data": {
            "text/plain": [
              "<matplotlib.axes._subplots.AxesSubplot at 0x7f0ea87f4d68>"
            ]
          },
          "metadata": {
            "tags": []
          },
          "execution_count": 244
        },
        {
          "output_type": "display_data",
          "data": {
            "image/png": "[encoded data removed]",
            "text/plain": [
              "<Figure size 432x288 with 1 Axes>"
            ]
          },
          "metadata": {
            "tags": []
          }
        }
      ]
    },
    {
      "cell_type": "code",
      "metadata": {
        "id": "g2ZyuLY5u0ar",
        "colab_type": "code",
        "outputId": "1a9c7e84-6b6f-44c2-fa78-baf1b0343168",
        "colab": {
          "base_uri": "https://localhost:8080/",
          "height": 225
        }
      },
      "source": [
        "nch['Age'].value_counts()"
      ],
      "execution_count": 245,
      "outputs": [
        {
          "output_type": "execute_result",
          "data": {
            "text/plain": [
              "35.0     48\n",
              "45.0     46\n",
              "40.0     41\n",
              "22.0     39\n",
              "65.0     36\n",
              "         ..\n",
              "89.0      3\n",
              "93.0      2\n",
              "97.0      2\n",
              "98.0      1\n",
              "105.0     1\n",
              "Name: Age, Length: 104, dtype: int64"
            ]
          },
          "metadata": {
            "tags": []
          },
          "execution_count": 245
        }
      ]
    },
    {
      "cell_type": "code",
      "metadata": {
        "id": "5VkHvzBtu0aw",
        "colab_type": "code",
        "outputId": "b3aa22e5-b972-48bf-cb80-1f8b08997a70",
        "colab": {
          "base_uri": "https://localhost:8080/",
          "height": 363
        }
      },
      "source": [
        "nch.head(10)"
      ],
      "execution_count": 246,
      "outputs": [
        {
          "output_type": "execute_result",
          "data": {
            "text/html": [
              "<div>\n",
              "<style scoped>\n",
              "    .dataframe tbody tr th:only-of-type {\n",
              "        vertical-align: middle;\n",
              "    }\n",
              "\n",
              "    .dataframe tbody tr th {\n",
              "        vertical-align: top;\n",
              "    }\n",
              "\n",
              "    .dataframe thead th {\n",
              "        text-align: right;\n",
              "    }\n",
              "</style>\n",
              "<table border=\"1\" class=\"dataframe\">\n",
              "  <thead>\n",
              "    <tr style=\"text-align: right;\">\n",
              "      <th></th>\n",
              "      <th>Age</th>\n",
              "      <th>Sex</th>\n",
              "      <th>Place</th>\n",
              "      <th>FinalDiagnosis</th>\n",
              "    </tr>\n",
              "  </thead>\n",
              "  <tbody>\n",
              "    <tr>\n",
              "      <th>28</th>\n",
              "      <td>77.0</td>\n",
              "      <td>0</td>\n",
              "      <td>Chitwan &amp; Parsa</td>\n",
              "      <td>Gynaecology</td>\n",
              "    </tr>\n",
              "    <tr>\n",
              "      <th>29</th>\n",
              "      <td>31.0</td>\n",
              "      <td>0</td>\n",
              "      <td>Rupandehi</td>\n",
              "      <td>Gynaecology</td>\n",
              "    </tr>\n",
              "    <tr>\n",
              "      <th>37</th>\n",
              "      <td>30.0</td>\n",
              "      <td>0</td>\n",
              "      <td>Seti</td>\n",
              "      <td>Gynaecology</td>\n",
              "    </tr>\n",
              "    <tr>\n",
              "      <th>80</th>\n",
              "      <td>27.0</td>\n",
              "      <td>0</td>\n",
              "      <td>Rautahat</td>\n",
              "      <td>Gynaecology</td>\n",
              "    </tr>\n",
              "    <tr>\n",
              "      <th>123</th>\n",
              "      <td>66.0</td>\n",
              "      <td>0</td>\n",
              "      <td>Nawalparasi</td>\n",
              "      <td>Gynaecology</td>\n",
              "    </tr>\n",
              "    <tr>\n",
              "      <th>124</th>\n",
              "      <td>73.0</td>\n",
              "      <td>0</td>\n",
              "      <td>Nawalparasi</td>\n",
              "      <td>Gynaecology</td>\n",
              "    </tr>\n",
              "    <tr>\n",
              "      <th>150</th>\n",
              "      <td>48.0</td>\n",
              "      <td>0</td>\n",
              "      <td>Dhaulagiri</td>\n",
              "      <td>Gynaecology</td>\n",
              "    </tr>\n",
              "    <tr>\n",
              "      <th>160</th>\n",
              "      <td>49.0</td>\n",
              "      <td>0</td>\n",
              "      <td>Kapilvastu</td>\n",
              "      <td>Gynaecology</td>\n",
              "    </tr>\n",
              "    <tr>\n",
              "      <th>181</th>\n",
              "      <td>21.0</td>\n",
              "      <td>0</td>\n",
              "      <td>Rupandehi</td>\n",
              "      <td>Gynaecology</td>\n",
              "    </tr>\n",
              "    <tr>\n",
              "      <th>188</th>\n",
              "      <td>51.0</td>\n",
              "      <td>0</td>\n",
              "      <td>Makwanpur</td>\n",
              "      <td>Gynaecology</td>\n",
              "    </tr>\n",
              "  </tbody>\n",
              "</table>\n",
              "</div>"
            ],
            "text/plain": [
              "      Age  Sex            Place FinalDiagnosis\n",
              "28   77.0    0  Chitwan & Parsa    Gynaecology\n",
              "29   31.0    0        Rupandehi    Gynaecology\n",
              "37   30.0    0             Seti    Gynaecology\n",
              "80   27.0    0         Rautahat    Gynaecology\n",
              "123  66.0    0      Nawalparasi    Gynaecology\n",
              "124  73.0    0      Nawalparasi    Gynaecology\n",
              "150  48.0    0       Dhaulagiri    Gynaecology\n",
              "160  49.0    0       Kapilvastu    Gynaecology\n",
              "181  21.0    0        Rupandehi    Gynaecology\n",
              "188  51.0    0        Makwanpur    Gynaecology"
            ]
          },
          "metadata": {
            "tags": []
          },
          "execution_count": 246
        }
      ]
    },
    {
      "cell_type": "code",
      "metadata": {
        "id": "-YjFTa9hu0a0",
        "colab_type": "code",
        "colab": {}
      },
      "source": [
        ""
      ],
      "execution_count": 0,
      "outputs": []
    },
    {
      "cell_type": "code",
      "metadata": {
        "id": "M6Ojz-ZWu0a4",
        "colab_type": "code",
        "colab": {}
      },
      "source": [
        "number = LabelEncoder()\n",
        "nch[\"Place\"] = number.fit_transform(nch[\"Place\"].astype('str'))\n",
        "nch[\"FinalDiagnosis\"] = number.fit_transform(nch[\"FinalDiagnosis\"].astype('str'))"
      ],
      "execution_count": 0,
      "outputs": []
    },
    {
      "cell_type": "code",
      "metadata": {
        "id": "70kFBor0u0bA",
        "colab_type": "code",
        "outputId": "535c3412-5c72-4122-c1c4-7fd9504b2b04",
        "colab": {
          "base_uri": "https://localhost:8080/",
          "height": 363
        }
      },
      "source": [
        "nch.head(10) #all are changed to label encoding"
      ],
      "execution_count": 248,
      "outputs": [
        {
          "output_type": "execute_result",
          "data": {
            "text/html": [
              "<div>\n",
              "<style scoped>\n",
              "    .dataframe tbody tr th:only-of-type {\n",
              "        vertical-align: middle;\n",
              "    }\n",
              "\n",
              "    .dataframe tbody tr th {\n",
              "        vertical-align: top;\n",
              "    }\n",
              "\n",
              "    .dataframe thead th {\n",
              "        text-align: right;\n",
              "    }\n",
              "</style>\n",
              "<table border=\"1\" class=\"dataframe\">\n",
              "  <thead>\n",
              "    <tr style=\"text-align: right;\">\n",
              "      <th></th>\n",
              "      <th>Age</th>\n",
              "      <th>Sex</th>\n",
              "      <th>Place</th>\n",
              "      <th>FinalDiagnosis</th>\n",
              "    </tr>\n",
              "  </thead>\n",
              "  <tbody>\n",
              "    <tr>\n",
              "      <th>28</th>\n",
              "      <td>77.0</td>\n",
              "      <td>0</td>\n",
              "      <td>4</td>\n",
              "      <td>5</td>\n",
              "    </tr>\n",
              "    <tr>\n",
              "      <th>29</th>\n",
              "      <td>31.0</td>\n",
              "      <td>0</td>\n",
              "      <td>20</td>\n",
              "      <td>5</td>\n",
              "    </tr>\n",
              "    <tr>\n",
              "      <th>37</th>\n",
              "      <td>30.0</td>\n",
              "      <td>0</td>\n",
              "      <td>23</td>\n",
              "      <td>5</td>\n",
              "    </tr>\n",
              "    <tr>\n",
              "      <th>80</th>\n",
              "      <td>27.0</td>\n",
              "      <td>0</td>\n",
              "      <td>19</td>\n",
              "      <td>5</td>\n",
              "    </tr>\n",
              "    <tr>\n",
              "      <th>123</th>\n",
              "      <td>66.0</td>\n",
              "      <td>0</td>\n",
              "      <td>15</td>\n",
              "      <td>5</td>\n",
              "    </tr>\n",
              "    <tr>\n",
              "      <th>124</th>\n",
              "      <td>73.0</td>\n",
              "      <td>0</td>\n",
              "      <td>15</td>\n",
              "      <td>5</td>\n",
              "    </tr>\n",
              "    <tr>\n",
              "      <th>150</th>\n",
              "      <td>48.0</td>\n",
              "      <td>0</td>\n",
              "      <td>5</td>\n",
              "      <td>5</td>\n",
              "    </tr>\n",
              "    <tr>\n",
              "      <th>160</th>\n",
              "      <td>49.0</td>\n",
              "      <td>0</td>\n",
              "      <td>9</td>\n",
              "      <td>5</td>\n",
              "    </tr>\n",
              "    <tr>\n",
              "      <th>181</th>\n",
              "      <td>21.0</td>\n",
              "      <td>0</td>\n",
              "      <td>20</td>\n",
              "      <td>5</td>\n",
              "    </tr>\n",
              "    <tr>\n",
              "      <th>188</th>\n",
              "      <td>51.0</td>\n",
              "      <td>0</td>\n",
              "      <td>13</td>\n",
              "      <td>5</td>\n",
              "    </tr>\n",
              "  </tbody>\n",
              "</table>\n",
              "</div>"
            ],
            "text/plain": [
              "      Age  Sex  Place  FinalDiagnosis\n",
              "28   77.0    0      4               5\n",
              "29   31.0    0     20               5\n",
              "37   30.0    0     23               5\n",
              "80   27.0    0     19               5\n",
              "123  66.0    0     15               5\n",
              "124  73.0    0     15               5\n",
              "150  48.0    0      5               5\n",
              "160  49.0    0      9               5\n",
              "181  21.0    0     20               5\n",
              "188  51.0    0     13               5"
            ]
          },
          "metadata": {
            "tags": []
          },
          "execution_count": 248
        }
      ]
    },
    {
      "cell_type": "code",
      "metadata": {
        "id": "TrQ6z-7Ou0bG",
        "colab_type": "code",
        "outputId": "4c0e787a-b976-4696-d66a-7f5beeedd173",
        "colab": {
          "base_uri": "https://localhost:8080/",
          "height": 175
        }
      },
      "source": [
        "nch.corr()"
      ],
      "execution_count": 249,
      "outputs": [
        {
          "output_type": "execute_result",
          "data": {
            "text/html": [
              "<div>\n",
              "<style scoped>\n",
              "    .dataframe tbody tr th:only-of-type {\n",
              "        vertical-align: middle;\n",
              "    }\n",
              "\n",
              "    .dataframe tbody tr th {\n",
              "        vertical-align: top;\n",
              "    }\n",
              "\n",
              "    .dataframe thead th {\n",
              "        text-align: right;\n",
              "    }\n",
              "</style>\n",
              "<table border=\"1\" class=\"dataframe\">\n",
              "  <thead>\n",
              "    <tr style=\"text-align: right;\">\n",
              "      <th></th>\n",
              "      <th>Age</th>\n",
              "      <th>Sex</th>\n",
              "      <th>Place</th>\n",
              "      <th>FinalDiagnosis</th>\n",
              "    </tr>\n",
              "  </thead>\n",
              "  <tbody>\n",
              "    <tr>\n",
              "      <th>Age</th>\n",
              "      <td>1.000000</td>\n",
              "      <td>0.029767</td>\n",
              "      <td>-0.061904</td>\n",
              "      <td>-0.193856</td>\n",
              "    </tr>\n",
              "    <tr>\n",
              "      <th>Sex</th>\n",
              "      <td>0.029767</td>\n",
              "      <td>1.000000</td>\n",
              "      <td>-0.001693</td>\n",
              "      <td>0.045048</td>\n",
              "    </tr>\n",
              "    <tr>\n",
              "      <th>Place</th>\n",
              "      <td>-0.061904</td>\n",
              "      <td>-0.001693</td>\n",
              "      <td>1.000000</td>\n",
              "      <td>0.040684</td>\n",
              "    </tr>\n",
              "    <tr>\n",
              "      <th>FinalDiagnosis</th>\n",
              "      <td>-0.193856</td>\n",
              "      <td>0.045048</td>\n",
              "      <td>0.040684</td>\n",
              "      <td>1.000000</td>\n",
              "    </tr>\n",
              "  </tbody>\n",
              "</table>\n",
              "</div>"
            ],
            "text/plain": [
              "                     Age       Sex     Place  FinalDiagnosis\n",
              "Age             1.000000  0.029767 -0.061904       -0.193856\n",
              "Sex             0.029767  1.000000 -0.001693        0.045048\n",
              "Place          -0.061904 -0.001693  1.000000        0.040684\n",
              "FinalDiagnosis -0.193856  0.045048  0.040684        1.000000"
            ]
          },
          "metadata": {
            "tags": []
          },
          "execution_count": 249
        }
      ]
    },
    {
      "cell_type": "code",
      "metadata": {
        "id": "5bA63k9-u0bJ",
        "colab_type": "code",
        "outputId": "1153ac61-ef9c-440f-a1a6-06fb3f6d81fb",
        "colab": {
          "base_uri": "https://localhost:8080/",
          "height": 175
        }
      },
      "source": [
        "1-nch.corr()"
      ],
      "execution_count": 250,
      "outputs": [
        {
          "output_type": "execute_result",
          "data": {
            "text/html": [
              "<div>\n",
              "<style scoped>\n",
              "    .dataframe tbody tr th:only-of-type {\n",
              "        vertical-align: middle;\n",
              "    }\n",
              "\n",
              "    .dataframe tbody tr th {\n",
              "        vertical-align: top;\n",
              "    }\n",
              "\n",
              "    .dataframe thead th {\n",
              "        text-align: right;\n",
              "    }\n",
              "</style>\n",
              "<table border=\"1\" class=\"dataframe\">\n",
              "  <thead>\n",
              "    <tr style=\"text-align: right;\">\n",
              "      <th></th>\n",
              "      <th>Age</th>\n",
              "      <th>Sex</th>\n",
              "      <th>Place</th>\n",
              "      <th>FinalDiagnosis</th>\n",
              "    </tr>\n",
              "  </thead>\n",
              "  <tbody>\n",
              "    <tr>\n",
              "      <th>Age</th>\n",
              "      <td>0.000000</td>\n",
              "      <td>0.970233</td>\n",
              "      <td>1.061904</td>\n",
              "      <td>1.193856</td>\n",
              "    </tr>\n",
              "    <tr>\n",
              "      <th>Sex</th>\n",
              "      <td>0.970233</td>\n",
              "      <td>0.000000</td>\n",
              "      <td>1.001693</td>\n",
              "      <td>0.954952</td>\n",
              "    </tr>\n",
              "    <tr>\n",
              "      <th>Place</th>\n",
              "      <td>1.061904</td>\n",
              "      <td>1.001693</td>\n",
              "      <td>0.000000</td>\n",
              "      <td>0.959316</td>\n",
              "    </tr>\n",
              "    <tr>\n",
              "      <th>FinalDiagnosis</th>\n",
              "      <td>1.193856</td>\n",
              "      <td>0.954952</td>\n",
              "      <td>0.959316</td>\n",
              "      <td>0.000000</td>\n",
              "    </tr>\n",
              "  </tbody>\n",
              "</table>\n",
              "</div>"
            ],
            "text/plain": [
              "                     Age       Sex     Place  FinalDiagnosis\n",
              "Age             0.000000  0.970233  1.061904        1.193856\n",
              "Sex             0.970233  0.000000  1.001693        0.954952\n",
              "Place           1.061904  1.001693  0.000000        0.959316\n",
              "FinalDiagnosis  1.193856  0.954952  0.959316        0.000000"
            ]
          },
          "metadata": {
            "tags": []
          },
          "execution_count": 250
        }
      ]
    },
    {
      "cell_type": "code",
      "metadata": {
        "id": "EAK4fwhnu0bN",
        "colab_type": "code",
        "outputId": "4da36fad-f630-4c2c-823f-135babd42467",
        "colab": {
          "base_uri": "https://localhost:8080/",
          "height": 596
        }
      },
      "source": [
        "correlation = nch.corr()\n",
        "plt.figure(figsize=(10,10))\n",
        "sns.heatmap(correlation,vmax=1,square=True,annot=True,cmap='viridis')\n",
        "plt.title('Correlation')"
      ],
      "execution_count": 251,
      "outputs": [
        {
          "output_type": "execute_result",
          "data": {
            "text/plain": [
              "Text(0.5, 1, 'Correlation')"
            ]
          },
          "metadata": {
            "tags": []
          },
          "execution_count": 251
        },
        {
          "output_type": "display_data",
          "data": {
            "image/png": "[encoded data removed]",
            "text/plain": [
              "<Figure size 720x720 with 2 Axes>"
            ]
          },
          "metadata": {
            "tags": []
          }
        }
      ]
    },
    {
      "cell_type": "code",
      "metadata": {
        "id": "QwN6qHOWu0bU",
        "colab_type": "code",
        "colab": {}
      },
      "source": [
        "nch.Age = pd.to_numeric(nch.Age)  #change to numeric type data\n",
        "nch.Sex = pd.to_numeric(nch.Sex)\n",
        "nch.Place = pd.to_numeric(nch.Place)\n",
        "nch.FinalDiagnosis = pd.to_numeric(nch.FinalDiagnosis)"
      ],
      "execution_count": 0,
      "outputs": []
    },
    {
      "cell_type": "code",
      "metadata": {
        "id": "1LaBdQ5Qu0bZ",
        "colab_type": "code",
        "outputId": "30f97776-c2d0-41c4-db11-168e4d0f811f",
        "colab": {
          "base_uri": "https://localhost:8080/",
          "height": 34
        }
      },
      "source": [
        "print(nch['FinalDiagnosis'].dtypes)"
      ],
      "execution_count": 253,
      "outputs": [
        {
          "output_type": "stream",
          "text": [
            "int64\n"
          ],
          "name": "stdout"
        }
      ]
    },
    {
      "cell_type": "code",
      "metadata": {
        "id": "zfEdaQ4gu0cI",
        "colab_type": "code",
        "outputId": "8bee2cae-bd74-4533-d161-ebb0d175ee9f",
        "colab": {
          "base_uri": "https://localhost:8080/",
          "height": 278
        }
      },
      "source": [
        "nch['FinalDiagnosis'].value_counts()"
      ],
      "execution_count": 254,
      "outputs": [
        {
          "output_type": "execute_result",
          "data": {
            "text/plain": [
              "7     398\n",
              "13    392\n",
              "10    284\n",
              "6     268\n",
              "5     175\n",
              "2     133\n",
              "11    126\n",
              "12    104\n",
              "4      58\n",
              "0      49\n",
              "9      44\n",
              "3      32\n",
              "1      23\n",
              "8      18\n",
              "Name: FinalDiagnosis, dtype: int64"
            ]
          },
          "metadata": {
            "tags": []
          },
          "execution_count": 254
        }
      ]
    },
    {
      "cell_type": "code",
      "metadata": {
        "id": "sAa0hGrwu0cj",
        "colab_type": "code",
        "outputId": "db8298e0-e55a-4122-a9a8-a97cf7781e70",
        "colab": {
          "base_uri": "https://localhost:8080/",
          "height": 208
        }
      },
      "source": [
        "nch['FinalDiagnosis'].head(10)"
      ],
      "execution_count": 255,
      "outputs": [
        {
          "output_type": "execute_result",
          "data": {
            "text/plain": [
              "28     5\n",
              "29     5\n",
              "37     5\n",
              "80     5\n",
              "123    5\n",
              "124    5\n",
              "150    5\n",
              "160    5\n",
              "181    5\n",
              "188    5\n",
              "Name: FinalDiagnosis, dtype: int64"
            ]
          },
          "metadata": {
            "tags": []
          },
          "execution_count": 255
        }
      ]
    },
    {
      "cell_type": "markdown",
      "metadata": {
        "id": "o1Vv7UENBYi3",
        "colab_type": "text"
      },
      "source": [
        "**One hot encoding all the data** "
      ]
    },
    {
      "cell_type": "code",
      "metadata": {
        "scrolled": false,
        "id": "ecP-CU_Tu0cr",
        "colab_type": "code",
        "outputId": "155f0e0f-c93d-4273-b46d-cadfb6f7cfe1",
        "colab": {
          "base_uri": "https://localhost:8080/",
          "height": 260
        }
      },
      "source": [
        "nch_onehot = nch.copy()\n",
        "nch_onehot = pd.get_dummies(nch_onehot, columns = ['Sex','FinalDiagnosis','Place'], prefix =['Sex','FinalDiagnosis','Place'] )\n",
        "print(nch_onehot)"
      ],
      "execution_count": 256,
      "outputs": [
        {
          "output_type": "stream",
          "text": [
            "        Age  Sex_0  Sex_1  ...  Place_22  Place_23  Place_24\n",
            "28     77.0      1      0  ...         0         0         0\n",
            "29     31.0      1      0  ...         0         0         0\n",
            "37     30.0      1      0  ...         0         1         0\n",
            "80     27.0      1      0  ...         0         0         0\n",
            "123    66.0      1      0  ...         0         0         0\n",
            "...     ...    ...    ...  ...       ...       ...       ...\n",
            "22281  31.0      1      0  ...         0         0         0\n",
            "22282  52.0      0      1  ...         0         0         0\n",
            "22291  37.0      1      0  ...         0         0         0\n",
            "22301  68.0      0      1  ...         0         0         0\n",
            "22304  10.0      0      1  ...         0         0         0\n",
            "\n",
            "[2104 rows x 42 columns]\n"
          ],
          "name": "stdout"
        }
      ]
    },
    {
      "cell_type": "code",
      "metadata": {
        "id": "5QlJGMCqu0cv",
        "colab_type": "code",
        "outputId": "9a4fee4a-d58c-4707-b3cb-a438a2d7004f",
        "colab": {
          "base_uri": "https://localhost:8080/",
          "height": 121
        }
      },
      "source": [
        "print(nch_onehot.head(3))"
      ],
      "execution_count": 257,
      "outputs": [
        {
          "output_type": "stream",
          "text": [
            "     Age  Sex_0  Sex_1  ...  Place_22  Place_23  Place_24\n",
            "28  77.0      1      0  ...         0         0         0\n",
            "29  31.0      1      0  ...         0         0         0\n",
            "37  30.0      1      0  ...         0         1         0\n",
            "\n",
            "[3 rows x 42 columns]\n"
          ],
          "name": "stdout"
        }
      ]
    },
    {
      "cell_type": "code",
      "metadata": {
        "id": "6GKHhO9Du0cz",
        "colab_type": "code",
        "outputId": "d6d24401-2785-46a2-85dc-4073afb69ba3",
        "colab": {
          "base_uri": "https://localhost:8080/",
          "height": 69
        }
      },
      "source": [
        "nch_onehot['FinalDiagnosis_2'].value_counts()"
      ],
      "execution_count": 258,
      "outputs": [
        {
          "output_type": "execute_result",
          "data": {
            "text/plain": [
              "0    1971\n",
              "1     133\n",
              "Name: FinalDiagnosis_2, dtype: int64"
            ]
          },
          "metadata": {
            "tags": []
          },
          "execution_count": 258
        }
      ]
    },
    {
      "cell_type": "markdown",
      "metadata": {
        "id": "PDgyTIhcBqIQ",
        "colab_type": "text"
      },
      "source": [
        "**Standard scaling above data**"
      ]
    },
    {
      "cell_type": "code",
      "metadata": {
        "id": "Va5W1LTvu0c3",
        "colab_type": "code",
        "colab": {}
      },
      "source": [
        "from sklearn.preprocessing import StandardScaler\n",
        "SS = StandardScaler()\n",
        "Nchs = SS.fit_transform(nch_onehot)"
      ],
      "execution_count": 0,
      "outputs": []
    },
    {
      "cell_type": "code",
      "metadata": {
        "id": "8Wp_Ik5xxn44",
        "colab_type": "code",
        "outputId": "b5305078-c722-4eef-cac3-8bc644fca912",
        "colab": {
          "base_uri": "https://localhost:8080/",
          "height": 243
        }
      },
      "source": [
        "Nchs"
      ],
      "execution_count": 260,
      "outputs": [
        {
          "output_type": "execute_result",
          "data": {
            "text/plain": [
              "array([[ 1.39988652,  0.89950784, -0.89950784, ..., -0.03084598,\n",
              "        -0.08184476, -0.04364358],\n",
              "       [-0.51739275,  0.89950784, -0.89950784, ..., -0.03084598,\n",
              "        -0.08184476, -0.04364358],\n",
              "       [-0.55907273,  0.89950784, -0.89950784, ..., -0.03084598,\n",
              "        12.21825332, -0.04364358],\n",
              "       ...,\n",
              "       [-0.26731284,  0.89950784, -0.89950784, ..., -0.03084598,\n",
              "        -0.08184476, -0.04364358],\n",
              "       [ 1.02476667, -1.11171904,  1.11171904, ..., -0.03084598,\n",
              "        -0.08184476, -0.04364358],\n",
              "       [-1.39267242, -1.11171904,  1.11171904, ..., -0.03084598,\n",
              "        -0.08184476, -0.04364358]])"
            ]
          },
          "metadata": {
            "tags": []
          },
          "execution_count": 260
        }
      ]
    },
    {
      "cell_type": "markdown",
      "metadata": {
        "id": "P7VjXYMZBysM",
        "colab_type": "text"
      },
      "source": [
        "**Dimensionality reduction of above using pca**"
      ]
    },
    {
      "cell_type": "code",
      "metadata": {
        "id": "MFb9eumYyGEH",
        "colab_type": "code",
        "colab": {}
      },
      "source": [
        "from sklearn.decomposition import PCA"
      ],
      "execution_count": 0,
      "outputs": []
    },
    {
      "cell_type": "code",
      "metadata": {
        "id": "iVkkIMxtgO9-",
        "colab_type": "code",
        "outputId": "e53f2250-000b-442c-96c7-a083a0d2e57f",
        "colab": {
          "base_uri": "https://localhost:8080/",
          "height": 301
        }
      },
      "source": [
        "#fitting the pca algorithm with our data\n",
        "pca=PCA().fit(Nchs)\n",
        "#plotting the cumulative summation of the explained variance\n",
        "plt.figure()\n",
        "plt.plot(np.cumsum(pca.explained_variance_ratio_))\n",
        "plt.xlabel('Number of components')\n",
        "plt.ylabel('Variance % for each components')\n",
        "plt.title('Explained variance')\n",
        "plt.show()"
      ],
      "execution_count": 262,
      "outputs": [
        {
          "output_type": "display_data",
          "data": {
            "image/png": "[encoded data removed]",
            "text/plain": [
              "<Figure size 432x288 with 1 Axes>"
            ]
          },
          "metadata": {
            "tags": []
          }
        }
      ]
    },
    {
      "cell_type": "markdown",
      "metadata": {
        "id": "PCFiqVILhfsw",
        "colab_type": "text"
      },
      "source": [
        "**From above it seems that we need to select nearly 37 components for 100% variance data**"
      ]
    },
    {
      "cell_type": "code",
      "metadata": {
        "id": "d42JGS9qyO9S",
        "colab_type": "code",
        "colab": {}
      },
      "source": [
        "pca=PCA(n_components=37)"
      ],
      "execution_count": 0,
      "outputs": []
    },
    {
      "cell_type": "code",
      "metadata": {
        "id": "s0HWV_GlyX2s",
        "colab_type": "code",
        "outputId": "e65c04e1-6f58-4fef-ea4e-5215f7a209e4",
        "colab": {
          "base_uri": "https://localhost:8080/",
          "height": 52
        }
      },
      "source": [
        "pca.fit(Nchs)"
      ],
      "execution_count": 264,
      "outputs": [
        {
          "output_type": "execute_result",
          "data": {
            "text/plain": [
              "PCA(copy=True, iterated_power='auto', n_components=37, random_state=None,\n",
              "    svd_solver='auto', tol=0.0, whiten=False)"
            ]
          },
          "metadata": {
            "tags": []
          },
          "execution_count": 264
        }
      ]
    },
    {
      "cell_type": "code",
      "metadata": {
        "id": "Y3MTGE6XygQF",
        "colab_type": "code",
        "colab": {}
      },
      "source": [
        "x_pca=pca.transform(Nchs)"
      ],
      "execution_count": 0,
      "outputs": []
    },
    {
      "cell_type": "code",
      "metadata": {
        "id": "2KNb1GrJyq_s",
        "colab_type": "code",
        "outputId": "29c2f52c-2c93-485f-f4d8-36ec7255f089",
        "colab": {
          "base_uri": "https://localhost:8080/",
          "height": 34
        }
      },
      "source": [
        "Nchs.shape"
      ],
      "execution_count": 266,
      "outputs": [
        {
          "output_type": "execute_result",
          "data": {
            "text/plain": [
              "(2104, 42)"
            ]
          },
          "metadata": {
            "tags": []
          },
          "execution_count": 266
        }
      ]
    },
    {
      "cell_type": "code",
      "metadata": {
        "id": "I-eaDcshyyyy",
        "colab_type": "code",
        "outputId": "9faedf27-ec46-4d50-e762-f2536459fb47",
        "colab": {
          "base_uri": "https://localhost:8080/",
          "height": 34
        }
      },
      "source": [
        "x_pca.shape"
      ],
      "execution_count": 267,
      "outputs": [
        {
          "output_type": "execute_result",
          "data": {
            "text/plain": [
              "(2104, 37)"
            ]
          },
          "metadata": {
            "tags": []
          },
          "execution_count": 267
        }
      ]
    },
    {
      "cell_type": "code",
      "metadata": {
        "id": "LH6iPs9Ey2X9",
        "colab_type": "code",
        "outputId": "dc74ff32-65de-4379-a84a-8f4fb444f183",
        "colab": {
          "base_uri": "https://localhost:8080/",
          "height": 411
        }
      },
      "source": [
        "plt.figure(figsize=(8,6))\n",
        "plt.scatter(x_pca[:,0],x_pca[:,1],c=nch['Age'])\n",
        "plt.xlabel('First PCA')\n",
        "plt.ylabel('Second PCA')"
      ],
      "execution_count": 268,
      "outputs": [
        {
          "output_type": "execute_result",
          "data": {
            "text/plain": [
              "Text(0, 0.5, 'Second PCA')"
            ]
          },
          "metadata": {
            "tags": []
          },
          "execution_count": 268
        },
        {
          "output_type": "display_data",
          "data": {
            "image/png": "[encoded data removed]",
            "text/plain": [
              "<Figure size 576x432 with 1 Axes>"
            ]
          },
          "metadata": {
            "tags": []
          }
        }
      ]
    },
    {
      "cell_type": "code",
      "metadata": {
        "id": "4W9yeTeLzuiH",
        "colab_type": "code",
        "outputId": "d6f77c7f-7782-43de-8000-221f052908cd",
        "colab": {
          "base_uri": "https://localhost:8080/",
          "height": 411
        }
      },
      "source": [
        "plt.figure(figsize=(8,6))\n",
        "plt.scatter(x_pca[:,0],x_pca[:,1],c=nch['Sex'])\n",
        "plt.xlabel('First PCA')\n",
        "plt.ylabel('Second PCA')"
      ],
      "execution_count": 0,
      "outputs": [
        {
          "output_type": "execute_result",
          "data": {
            "text/plain": [
              "Text(0, 0.5, 'Second PCA')"
            ]
          },
          "metadata": {
            "tags": []
          },
          "execution_count": 108
        },
        {
          "output_type": "display_data",
          "data": {
            "image/png": "[encoded data removed]",
            "text/plain": [
              "<Figure size 576x432 with 1 Axes>"
            ]
          },
          "metadata": {
            "tags": []
          }
        }
      ]
    },
    {
      "cell_type": "code",
      "metadata": {
        "id": "4GA_4FQtz0ta",
        "colab_type": "code",
        "outputId": "9703567e-a2c6-4e9c-b8b2-b810567172a4",
        "colab": {
          "base_uri": "https://localhost:8080/",
          "height": 411
        }
      },
      "source": [
        "plt.figure(figsize=(8,6))\n",
        "plt.scatter(x_pca[:,0],x_pca[:,1],c=nch['Place'])\n",
        "plt.xlabel('First PCA')\n",
        "plt.ylabel('Second PCA')"
      ],
      "execution_count": 0,
      "outputs": [
        {
          "output_type": "execute_result",
          "data": {
            "text/plain": [
              "Text(0, 0.5, 'Second PCA')"
            ]
          },
          "metadata": {
            "tags": []
          },
          "execution_count": 109
        },
        {
          "output_type": "display_data",
          "data": {
            "image/png": "[encoded data removed]",
            "text/plain": [
              "<Figure size 576x432 with 1 Axes>"
            ]
          },
          "metadata": {
            "tags": []
          }
        }
      ]
    },
    {
      "cell_type": "code",
      "metadata": {
        "id": "65VdED7Hz5A9",
        "colab_type": "code",
        "outputId": "8b2f5ec6-325d-4173-8ace-296425d3c0fc",
        "colab": {
          "base_uri": "https://localhost:8080/",
          "height": 411
        }
      },
      "source": [
        "plt.figure(figsize=(8,6))\n",
        "plt.scatter(x_pca[:,0],x_pca[:,1],c=nch['FinalDiagnosis'])\n",
        "plt.xlabel('First PCA')\n",
        "plt.ylabel('Second PCA')"
      ],
      "execution_count": 0,
      "outputs": [
        {
          "output_type": "execute_result",
          "data": {
            "text/plain": [
              "Text(0, 0.5, 'Second PCA')"
            ]
          },
          "metadata": {
            "tags": []
          },
          "execution_count": 110
        },
        {
          "output_type": "display_data",
          "data": {
            "image/png": "[encoded data removed]",
            "text/plain": [
              "<Figure size 576x432 with 1 Axes>"
            ]
          },
          "metadata": {
            "tags": []
          }
        }
      ]
    },
    {
      "cell_type": "code",
      "metadata": {
        "id": "8icqh2Jl0RNn",
        "colab_type": "code",
        "outputId": "c705f309-1977-425e-c261-6305a431c1df",
        "colab": {
          "base_uri": "https://localhost:8080/",
          "height": 34
        }
      },
      "source": [
        "nch.keys()"
      ],
      "execution_count": 0,
      "outputs": [
        {
          "output_type": "execute_result",
          "data": {
            "text/plain": [
              "Index(['Age', 'Sex', 'Place', 'FinalDiagnosis'], dtype='object')"
            ]
          },
          "metadata": {
            "tags": []
          },
          "execution_count": 298
        }
      ]
    },
    {
      "cell_type": "code",
      "metadata": {
        "id": "hvk2agwmu0c9",
        "colab_type": "code",
        "outputId": "12f80b60-e5ed-4680-8a77-dd9786852125",
        "colab": {
          "base_uri": "https://localhost:8080/",
          "height": 260
        }
      },
      "source": [
        "\n",
        "mean_vec = np.mean(Nchs, axis = 0)   #covariance matrix\n",
        "cov_mat = (Nchs - mean_vec).T.dot((Nchs - mean_vec))/(Nchs.shape[0]-1)\n",
        "print('Covariance matrix \\n%s' %cov_mat)"
      ],
      "execution_count": 0,
      "outputs": [
        {
          "output_type": "stream",
          "text": [
            "Covariance matrix \n",
            "[[ 1.00047551 -0.0297811   0.0297811  ... -0.00117496 -0.03458702\n",
            "  -0.02528419]\n",
            " [-0.0297811   1.00047551 -1.00047551 ... -0.00327449  0.01483835\n",
            "   0.01732169]\n",
            " [ 0.0297811  -1.00047551  1.00047551 ...  0.00327449 -0.01483835\n",
            "  -0.01732169]\n",
            " ...\n",
            " [-0.00117496 -0.00327449  0.00327449 ...  1.00047551 -0.00252578\n",
            "  -0.00134687]\n",
            " [-0.03458702  0.01483835 -0.01483835 ... -0.00252578  1.00047551\n",
            "  -0.0035737 ]\n",
            " [-0.02528419  0.01732169 -0.01732169 ... -0.00134687 -0.0035737\n",
            "   1.00047551]]\n"
          ],
          "name": "stdout"
        }
      ]
    },
    {
      "cell_type": "code",
      "metadata": {
        "id": "zchPAvBlu0dF",
        "colab_type": "code",
        "outputId": "0606f825-92e1-4a69-bdfd-b2402f418c7f",
        "colab": {
          "base_uri": "https://localhost:8080/",
          "height": 260
        }
      },
      "source": [
        "print('Numpy covariance matrix: \\n%s' %np.cov(Nchs.T)) #usingnumpy"
      ],
      "execution_count": 0,
      "outputs": [
        {
          "output_type": "stream",
          "text": [
            "Numpy covariance matrix: \n",
            "[[ 1.00047551 -0.0297811   0.0297811  ... -0.00117496 -0.03458702\n",
            "  -0.02528419]\n",
            " [-0.0297811   1.00047551 -1.00047551 ... -0.00327449  0.01483835\n",
            "   0.01732169]\n",
            " [ 0.0297811  -1.00047551  1.00047551 ...  0.00327449 -0.01483835\n",
            "  -0.01732169]\n",
            " ...\n",
            " [-0.00117496 -0.00327449  0.00327449 ...  1.00047551 -0.00252578\n",
            "  -0.00134687]\n",
            " [-0.03458702  0.01483835 -0.01483835 ... -0.00252578  1.00047551\n",
            "  -0.0035737 ]\n",
            " [-0.02528419  0.01732169 -0.01732169 ... -0.00134687 -0.0035737\n",
            "   1.00047551]]\n"
          ],
          "name": "stdout"
        }
      ]
    },
    {
      "cell_type": "code",
      "metadata": {
        "id": "FSb4qPKZu0dM",
        "colab_type": "code",
        "outputId": "5ec2e5f8-b716-42a5-b4c3-09ceb831ad50",
        "colab": {
          "base_uri": "https://localhost:8080/",
          "height": 486
        }
      },
      "source": [
        "#eigen vectors and eigen values\n",
        "cov_mat = np.cov(Nchs.T)\n",
        "eig_vals, eig_vecs = np.linalg.eig(cov_mat)\n",
        "\n",
        "print('Eigen vectors \\n%s' %eig_vecs)\n",
        "print('\\nEigen values \\n%s' %eig_vals)"
      ],
      "execution_count": 0,
      "outputs": [
        {
          "output_type": "stream",
          "text": [
            "Eigen vectors \n",
            "[[-0.07568983  0.29789614  0.54434981 ... -0.0559468   0.0306399\n",
            "  -0.00937166]\n",
            " [ 0.63463586  0.13867613  0.0188147  ... -0.00105603 -0.01065613\n",
            "   0.00425797]\n",
            " [-0.63463586 -0.13867613 -0.0188147  ...  0.00105603  0.01065613\n",
            "  -0.00425797]\n",
            " ...\n",
            " [-0.00325836 -0.03302217  0.02594789 ... -0.06531893 -0.1055768\n",
            "  -0.0047094 ]\n",
            " [ 0.01985256 -0.04913259 -0.03811695 ...  0.10833441  0.21407199\n",
            "   0.12882149]\n",
            " [ 0.03930663  0.0092138  -0.07762155 ...  0.24994768  0.07586668\n",
            "   0.17894976]]\n",
            "\n",
            "Eigen values \n",
            "[ 2.21802538e+00  1.68598681e+00  1.48470967e+00  5.41937421e-01\n",
            "  6.17429063e-01 -2.48298286e-16 -1.83618542e-15  4.00716671e-16\n",
            "  1.34666077e+00  1.29459741e+00  8.28770531e-01  1.22301776e+00\n",
            "  1.17494003e+00  1.14871665e+00  9.01215993e-01  1.11997994e+00\n",
            "  1.11265323e+00  9.19848821e-01  9.28497385e-01  1.09388024e+00\n",
            "  1.08901665e+00  1.08417890e+00  9.52676926e-01  9.58982468e-01\n",
            "  1.06308056e+00  9.68726755e-01  1.05027085e+00  1.04487518e+00\n",
            "  1.04015679e+00  9.87587312e-01  1.03131281e+00  9.95235968e-01\n",
            "  1.02577872e+00  9.97370229e-01  1.00017738e+00  1.00398849e+00\n",
            "  1.02160030e+00  1.00761782e+00  1.01038688e+00  1.01296948e+00\n",
            "  1.01671112e+00  1.01640277e+00]\n"
          ],
          "name": "stdout"
        }
      ]
    },
    {
      "cell_type": "code",
      "metadata": {
        "id": "aE6jZMPeu0dR",
        "colab_type": "code",
        "outputId": "39c07f86-2ad8-4ea2-bdf0-051d9a182fea",
        "colab": {
          "base_uri": "https://localhost:8080/",
          "height": 486
        }
      },
      "source": [
        "cor_mat1 = np.corrcoef(Nchs.T)\n",
        "eig_vals, eig_vecs = np.linalg.eig(cor_mat1)\n",
        "print('Eigen vectors \\n%s' %eig_vecs)\n",
        "print('\\nEigen values \\n%s' %eig_vals)"
      ],
      "execution_count": 0,
      "outputs": [
        {
          "output_type": "stream",
          "text": [
            "Eigen vectors \n",
            "[[-0.07568983 -0.29789614 -0.54434981 ... -0.0559468   0.0306399\n",
            "  -0.00937166]\n",
            " [ 0.63463586 -0.13867613 -0.0188147  ... -0.00105603 -0.01065613\n",
            "   0.00425797]\n",
            " [-0.63463586  0.13867613  0.0188147  ...  0.00105603  0.01065613\n",
            "  -0.00425797]\n",
            " ...\n",
            " [-0.00325836  0.03302217 -0.02594789 ... -0.06531893 -0.1055768\n",
            "  -0.0047094 ]\n",
            " [ 0.01985256  0.04913259  0.03811695 ...  0.10833441  0.21407199\n",
            "   0.12882149]\n",
            " [ 0.03930663 -0.0092138   0.07762155 ...  0.24994768  0.07586668\n",
            "   0.17894976]]\n",
            "\n",
            "Eigen values \n",
            "[ 2.21697119e+00  1.68518549e+00  1.48400401e+00  5.41679846e-01\n",
            "  6.17135608e-01  1.07645435e-16 -1.55758311e-15  3.92987040e-16\n",
            "  1.34602072e+00  1.29398210e+00  8.28376629e-01  1.22243648e+00\n",
            "  1.17438160e+00  1.14817068e+00  9.00787658e-01  1.11944763e+00\n",
            "  1.11212440e+00  9.19411631e-01  9.28056084e-01  1.09336033e+00\n",
            "  1.08849906e+00  1.08366361e+00  9.52224132e-01  9.58526678e-01\n",
            "  1.06257530e+00  9.68266333e-01  1.04977167e+00  1.04437856e+00\n",
            "  1.03966242e+00  9.87117926e-01  1.03082265e+00  9.94762947e-01\n",
            "  9.96896194e-01  9.99702012e-01  1.02529119e+00  1.00351131e+00\n",
            "  1.02111475e+00  1.00713891e+00  1.00990666e+00  1.01248803e+00\n",
            "  1.01622789e+00  1.01591969e+00]\n"
          ],
          "name": "stdout"
        }
      ]
    },
    {
      "cell_type": "markdown",
      "metadata": {
        "id": "UG0ndMRUCJh8",
        "colab_type": "text"
      },
      "source": [
        "**Appling KMeans with above result**"
      ]
    },
    {
      "cell_type": "code",
      "metadata": {
        "id": "Ew9Cdq3sMq1Y",
        "colab_type": "code",
        "colab": {}
      },
      "source": [
        "from matplotlib import pyplot as plt\n",
        "from sklearn.datasets.samples_generator import make_blobs\n",
        "from sklearn.cluster import KMeans"
      ],
      "execution_count": 0,
      "outputs": []
    },
    {
      "cell_type": "code",
      "metadata": {
        "id": "M9_lbv8SirRu",
        "colab_type": "code",
        "colab": {}
      },
      "source": [
        "Sum_of_squared_distances = []\n",
        "K = range(1,15)\n",
        "for k in K:\n",
        "    km = KMeans(n_clusters=k)\n",
        "    km = km.fit(x_pca)\n",
        "    Sum_of_squared_distances.append(km.inertia_)"
      ],
      "execution_count": 0,
      "outputs": []
    },
    {
      "cell_type": "code",
      "metadata": {
        "id": "AJYeYem9rD0b",
        "colab_type": "code",
        "outputId": "6268aa1b-9ffc-4372-e292-0bd1a80a5c79",
        "colab": {
          "base_uri": "https://localhost:8080/",
          "height": 301
        }
      },
      "source": [
        "plt.plot(K, Sum_of_squared_distances, 'bx-')\n",
        "plt.xlabel('k')\n",
        "plt.ylabel('Sum_of_squared_distances')\n",
        "plt.title('Elbow Method For Optimal k')\n",
        "plt.show()"
      ],
      "execution_count": 271,
      "outputs": [
        {
          "output_type": "display_data",
          "data": {
            "image/png": "[encoded data removed]",
            "text/plain": [
              "<Figure size 432x288 with 1 Axes>"
            ]
          },
          "metadata": {
            "tags": []
          }
        }
      ]
    },
    {
      "cell_type": "code",
      "metadata": {
        "id": "PNlrgJmNMyom",
        "colab_type": "code",
        "colab": {}
      },
      "source": [
        "kmeans = KMeans(n_clusters=2, init='k-means++', n_init=10, max_iter=1000, tol=0.0001, precompute_distances='auto', verbose=0, random_state=None, copy_x=True, n_jobs=None, algorithm='auto')\n",
        "y_kmeans=kmeans.fit_predict(x_pca)"
      ],
      "execution_count": 0,
      "outputs": []
    },
    {
      "cell_type": "code",
      "metadata": {
        "id": "gLzZLcPkOoyR",
        "colab_type": "code",
        "outputId": "99948008-f916-4dc7-a709-407cb7e46dba",
        "colab": {
          "base_uri": "https://localhost:8080/",
          "height": 284
        }
      },
      "source": [
        "plt.scatter(x_pca[y_kmeans==0,0],x_pca[y_kmeans==0,1],s=100,c='red',label='Cluster1')\n",
        "plt.scatter(x_pca[y_kmeans==1,0],x_pca[y_kmeans==1,1],s=100,c='blue',label='Cluster2')\n",
        "#plt.scatter(x_pca[y_kmeans==2,0],x_pca[y_kmeans==2,1],s=100,c='cyan',label='Cluster3')\n",
        "#plt.scatter(x_pca[y_kmeans==3,0],x_pca[y_kmeans==3,1],s=100,c='green',label='Cluster4')\n",
        "plt.scatter(kmeans.cluster_centers_[:,0],kmeans.cluster_centers_[:,1],s=300,c='yellow',label='Centroids')\n",
        "plt.title('Clusters of data')\n",
        "plt.legend()\n",
        "plt.show()\n"
      ],
      "execution_count": 273,
      "outputs": [
        {
          "output_type": "display_data",
          "data": {
            "image/png": "[encoded data removed]",
            "text/plain": [
              "<Figure size 432x288 with 1 Axes>"
            ]
          },
          "metadata": {
            "tags": []
          }
        }
      ]
    },
    {
      "cell_type": "code",
      "metadata": {
        "id": "xyyEbchL8NG3",
        "colab_type": "code",
        "colab": {}
      },
      "source": [
        "kmeans = KMeans(n_clusters=12, init='k-means++', n_init=10, max_iter=1000, tol=0.0001, precompute_distances='auto', verbose=0, random_state=None, copy_x=True, n_jobs=None, algorithm='auto')\n",
        "y_kmeans=kmeans.fit_predict(x_pca)"
      ],
      "execution_count": 0,
      "outputs": []
    },
    {
      "cell_type": "code",
      "metadata": {
        "id": "no4f2DnqHoMl",
        "colab_type": "code",
        "outputId": "ed8b516e-5d2c-4e1b-e5e4-4d582ff834a9",
        "colab": {
          "base_uri": "https://localhost:8080/",
          "height": 284
        }
      },
      "source": [
        "plt.scatter(x_pca[y_kmeans==0,0],x_pca[y_kmeans==0,1],s=100,c='red',label='Cluster1')\n",
        "plt.scatter(x_pca[y_kmeans==1,0],x_pca[y_kmeans==1,1],s=100,c='blue',label='Cluster2')\n",
        "plt.scatter(x_pca[y_kmeans==2,0],x_pca[y_kmeans==2,1],s=100,c='cyan',label='Cluster3')\n",
        "plt.scatter(x_pca[y_kmeans==3,0],x_pca[y_kmeans==3,1],s=100,c='green',label='Cluster4')\n",
        "plt.scatter(x_pca[y_kmeans==4,0],x_pca[y_kmeans==4,1],s=100,c='orange',label='Cluster5')\n",
        "plt.scatter(x_pca[y_kmeans==5,0],x_pca[y_kmeans==5,1],s=100,c='brown',label='Cluster6')\n",
        "plt.scatter(x_pca[y_kmeans==6,0],x_pca[y_kmeans==6,1],s=100,c='purple',label='Cluster7')\n",
        "plt.scatter(x_pca[y_kmeans==7,0],x_pca[y_kmeans==7,1],s=100,c='violet',label='Cluster8')\n",
        "plt.scatter(x_pca[y_kmeans==8,0],x_pca[y_kmeans==8,1],s=100,c='pink',label='Cluster9')\n",
        "plt.scatter(x_pca[y_kmeans==9,0],x_pca[y_kmeans==9,1],s=100,c='indigo',label='Cluster10')\n",
        "plt.scatter(x_pca[y_kmeans==10,0],x_pca[y_kmeans==10,1],s=100,c='coral',label='Cluster11')\n",
        "plt.scatter(x_pca[y_kmeans==11,0],x_pca[y_kmeans==11,1],s=100,c='grey',label='Cluster12')\n",
        "plt.scatter(kmeans.cluster_centers_[:,0],kmeans.cluster_centers_[:,1],s=300,c='yellow',label='Centroids')\n",
        "plt.title('Clusters of data')\n",
        "plt.legend()\n",
        "plt.show()\n"
      ],
      "execution_count": 275,
      "outputs": [
        {
          "output_type": "display_data",
          "data": {
            "image/png": "[encoded data removed]",
            "text/plain": [
              "<Figure size 432x288 with 1 Axes>"
            ]
          },
          "metadata": {
            "tags": []
          }
        }
      ]
    },
    {
      "cell_type": "markdown",
      "metadata": {
        "id": "nkz1ITiCu0dV",
        "colab_type": "text"
      },
      "source": [
        "# last one got different values than others so trying out with svd"
      ]
    },
    {
      "cell_type": "code",
      "metadata": {
        "id": "jOCH35Ccu0dV",
        "colab_type": "code",
        "outputId": "5fa5e4d0-21e6-45c1-bb9b-aa6e0011e21e",
        "colab": {}
      },
      "source": [
        "cor_mat2 = np.corrcoef(nch.T)\n",
        "eig_vals, eig_vecs = np.linalg.eig(cor_mat2)\n",
        "print('Eigen vectors \\n%s' %eig_vecs)\n",
        "print('Eigen values \\n%s' %eig_vals)"
      ],
      "execution_count": 0,
      "outputs": [
        {
          "output_type": "stream",
          "text": [
            "Eigen vectors \n",
            "[[-0.66272239  0.66916369 -0.24117486  0.23420862]\n",
            " [ 0.35792957  0.01384629 -0.03925771  0.93282021]\n",
            " [-0.00983648 -0.33796836 -0.94060212 -0.03079426]\n",
            " [-0.65771475 -0.66166882  0.23571418  0.27211119]]\n",
            "Eigen values \n",
            "[0.82999826 1.16647117 0.97849965 1.02503093]\n"
          ],
          "name": "stdout"
        }
      ]
    },
    {
      "cell_type": "code",
      "metadata": {
        "id": "hr7UKcu5u0dZ",
        "colab_type": "code",
        "outputId": "7dac9d19-dd82-41e1-d71b-c3aeb780fb11",
        "colab": {}
      },
      "source": [
        "from scipy.linalg import svd\n",
        "u,s,v = np.linalg.svd(Nchs.T)\n",
        "print('Vector U:\\n' %u)\n",
        "print(u)\n",
        "print(s)\n",
        "print(v)"
      ],
      "execution_count": 0,
      "outputs": [
        {
          "output_type": "stream",
          "text": [
            "Vector U:\n",
            "\n",
            "[[-1.10438811e-01  2.40700546e-01 -5.15625702e-01 ... -2.67069217e-17\n",
            "   1.43549704e-16  1.41880522e-17]\n",
            " [ 6.30494044e-01  1.50731616e-01 -6.17903581e-02 ...  2.56718151e-01\n",
            "   6.47416738e-01 -1.22259388e-01]\n",
            " [-6.30494044e-01 -1.50731616e-01  6.17903581e-02 ...  2.56718151e-01\n",
            "   6.47416738e-01 -1.22259388e-01]\n",
            " ...\n",
            " [-2.79137412e-03 -3.67339280e-02 -1.27774829e-02 ...  4.36742340e-03\n",
            "   4.29153705e-03  3.18961992e-02]\n",
            " [ 1.96855643e-02 -4.07581130e-02  1.75307149e-02 ...  1.15220858e-02\n",
            "   1.13218833e-02  8.41481829e-02]\n",
            " [ 4.01224416e-02  1.34953300e-02  8.74431215e-02 ...  6.17353033e-03\n",
            "   6.06626189e-03  4.50865728e-02]]\n",
            "[6.84111173e+01 5.93992984e+01 5.50113736e+01 5.30152346e+01\n",
            " 5.21386401e+01 5.07482226e+01 4.96907931e+01 4.91262718e+01\n",
            " 4.85437157e+01 4.83603038e+01 4.79698696e+01 4.78612696e+01\n",
            " 4.77447976e+01 4.72568868e+01 4.70293253e+01 4.68851705e+01\n",
            " 4.68233872e+01 4.65760702e+01 4.64409918e+01 4.63601578e+01\n",
            " 4.62605301e+01 4.62333079e+01 4.61475600e+01 4.60949368e+01\n",
            " 4.60322361e+01 4.59406223e+01 4.58589158e+01 4.57978322e+01\n",
            " 4.57454560e+01 4.55583639e+01 4.51351702e+01 4.48470313e+01\n",
            " 4.47319609e+01 4.42043132e+01 4.39830634e+01 4.35736875e+01\n",
            " 4.18635610e+01 3.75371392e+01 3.37719985e+01 3.23531075e-14\n",
            " 1.95485153e-14 9.78350567e-15]\n",
            "[[ 0.02731543  0.03734741  0.03911732 ...  0.01341902 -0.0221053\n",
            "  -0.02170377]\n",
            " [ 0.03239595 -0.00647647 -0.00583589 ... -0.01117331  0.00194854\n",
            "  -0.02627338]\n",
            " [ 0.00490707  0.00359058  0.01697652 ... -0.00902363 -0.0221501\n",
            "   0.00681157]\n",
            " ...\n",
            " [ 0.00585386  0.002525   -0.02636901 ...  0.99207213  0.00233946\n",
            "  -0.00727054]\n",
            " [-0.01905312  0.01480457  0.01032365 ...  0.00251285  0.96419488\n",
            "   0.00108563]\n",
            " [ 0.03441405  0.03698776 -0.01261317 ... -0.006703    0.00101086\n",
            "   0.99107806]]\n"
          ],
          "name": "stdout"
        }
      ]
    },
    {
      "cell_type": "code",
      "metadata": {
        "id": "DwsZvzo5u0de",
        "colab_type": "code",
        "outputId": "4d1c23d1-4c47-4218-f6b7-47f74a9f7ee7",
        "colab": {}
      },
      "source": [
        "for ev in eig_vecs.T:\n",
        "    np.testing.assert_array_almost_equal(1.0,np.linalg.norm(ev))\n",
        "print('Everthing ok')"
      ],
      "execution_count": 0,
      "outputs": [
        {
          "output_type": "stream",
          "text": [
            "Everthing ok\n"
          ],
          "name": "stdout"
        }
      ]
    },
    {
      "cell_type": "code",
      "metadata": {
        "id": "hJmtE71Cu0dl",
        "colab_type": "code",
        "outputId": "4fdf76d3-b8f7-433c-d299-e6b5d46bd455",
        "colab": {}
      },
      "source": [
        "#making list of (eigenvalue,eigenvector) tuples\n",
        "eig_pairs = [(np.abs(eig_vals[i]),eig_vecs[:,i]) for i in range(len(eig_vecs))]\n",
        "\n",
        "#sorting the eigen value and eigen vector tuples from high to low\n",
        "eig_pairs.sort(key=lambda x: x[0], reverse=True)\n",
        "\n",
        "#visually conforming that list are in descending order\n",
        "print('Eigen values in descending order')\n",
        "for i in eig_pairs:\n",
        "    print(i[0])\n"
      ],
      "execution_count": 0,
      "outputs": [
        {
          "output_type": "stream",
          "text": [
            "Eigen values in descending order\n",
            "1.1664711669196102\n",
            "1.0250309279160252\n",
            "0.9784996455465309\n",
            "0.8299982596178336\n"
          ],
          "name": "stdout"
        }
      ]
    },
    {
      "cell_type": "code",
      "metadata": {
        "id": "Qrz90CVcu0dp",
        "colab_type": "code",
        "colab": {}
      },
      "source": [
        "#explained variance tells us how much information(variance) can be attributed to each of the principal components\n",
        "tot = sum(eig_vals)\n",
        "var_exp = [(i/tot)*100 for i in sorted(eig_vals, reverse=True)]\n",
        "cum_var_exp = np.cumsum(var_exp)"
      ],
      "execution_count": 0,
      "outputs": []
    },
    {
      "cell_type": "code",
      "metadata": {
        "id": "CqHW11hku0ds",
        "colab_type": "code",
        "outputId": "4fa40f58-d4d1-4ea7-fb07-b4b5107cf1bd",
        "colab": {}
      },
      "source": [
        "with plt.style.context('seaborn-whitegrid'):\n",
        "    plt.figure(figsize=(6,4))\n",
        "    plt.bar(range(4),var_exp, alpha=0.5, align='center', label='individual explained variance')\n",
        "    plt.step(range(4), cum_var_exp, where='mid', label='cumulative explained variance')\n",
        "    plt.ylabel('Explained variance ratio')\n",
        "    plt.xlabel('principal components')\n",
        "    plt.legend(loc='best')\n",
        "    plt.tight_layout()"
      ],
      "execution_count": 0,
      "outputs": [
        {
          "output_type": "display_data",
          "data": {
            "image/png": "[encoded data removed]",
            "text/plain": [
              "<Figure size 432x288 with 1 Axes>"
            ]
          },
          "metadata": {
            "tags": []
          }
        }
      ]
    },
    {
      "cell_type": "markdown",
      "metadata": {
        "id": "Kr8Sg8x1u0dv",
        "colab_type": "text"
      },
      "source": [
        "figure from above shows mostly 4 components contains about equal amount of information. need to take 4 important components"
      ]
    },
    {
      "cell_type": "code",
      "metadata": {
        "id": "NtQ2Nwj4u0eB",
        "colab_type": "code",
        "colab": {}
      },
      "source": [
        ""
      ],
      "execution_count": 0,
      "outputs": []
    }
  ]
}